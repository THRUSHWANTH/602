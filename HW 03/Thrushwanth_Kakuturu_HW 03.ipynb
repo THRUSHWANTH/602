{
 "cells": [
  {
   "cell_type": "markdown",
   "id": "5b64820d",
   "metadata": {},
   "source": [
    "1. Constructing a Fully-Connected Model: For this problem, you will be using the breast\n",
    "cancer dataset of scikit-learn. Use the following piece of code\n",
    "from sklearn.datasets import load breast cancer\n",
    "bc = load breast cancer()\n",
    "to download the data. Use the description provided by scikit-learn and familiarize yourself\n",
    "with the dataset (Use print(bc.DESCR) to view the description)."
   ]
  },
  {
   "cell_type": "code",
   "execution_count": 2,
   "id": "b3d490a8",
   "metadata": {},
   "outputs": [
    {
     "name": "stdout",
     "output_type": "stream",
     "text": [
      ".. _breast_cancer_dataset:\n",
      "\n",
      "Breast cancer wisconsin (diagnostic) dataset\n",
      "--------------------------------------------\n",
      "\n",
      "**Data Set Characteristics:**\n",
      "\n",
      "    :Number of Instances: 569\n",
      "\n",
      "    :Number of Attributes: 30 numeric, predictive attributes and the class\n",
      "\n",
      "    :Attribute Information:\n",
      "        - radius (mean of distances from center to points on the perimeter)\n",
      "        - texture (standard deviation of gray-scale values)\n",
      "        - perimeter\n",
      "        - area\n",
      "        - smoothness (local variation in radius lengths)\n",
      "        - compactness (perimeter^2 / area - 1.0)\n",
      "        - concavity (severity of concave portions of the contour)\n",
      "        - concave points (number of concave portions of the contour)\n",
      "        - symmetry\n",
      "        - fractal dimension (\"coastline approximation\" - 1)\n",
      "\n",
      "        The mean, standard error, and \"worst\" or largest (mean of the three\n",
      "        worst/largest values) of these features were computed for each image,\n",
      "        resulting in 30 features.  For instance, field 0 is Mean Radius, field\n",
      "        10 is Radius SE, field 20 is Worst Radius.\n",
      "\n",
      "        - class:\n",
      "                - WDBC-Malignant\n",
      "                - WDBC-Benign\n",
      "\n",
      "    :Summary Statistics:\n",
      "\n",
      "    ===================================== ====== ======\n",
      "                                           Min    Max\n",
      "    ===================================== ====== ======\n",
      "    radius (mean):                        6.981  28.11\n",
      "    texture (mean):                       9.71   39.28\n",
      "    perimeter (mean):                     43.79  188.5\n",
      "    area (mean):                          143.5  2501.0\n",
      "    smoothness (mean):                    0.053  0.163\n",
      "    compactness (mean):                   0.019  0.345\n",
      "    concavity (mean):                     0.0    0.427\n",
      "    concave points (mean):                0.0    0.201\n",
      "    symmetry (mean):                      0.106  0.304\n",
      "    fractal dimension (mean):             0.05   0.097\n",
      "    radius (standard error):              0.112  2.873\n",
      "    texture (standard error):             0.36   4.885\n",
      "    perimeter (standard error):           0.757  21.98\n",
      "    area (standard error):                6.802  542.2\n",
      "    smoothness (standard error):          0.002  0.031\n",
      "    compactness (standard error):         0.002  0.135\n",
      "    concavity (standard error):           0.0    0.396\n",
      "    concave points (standard error):      0.0    0.053\n",
      "    symmetry (standard error):            0.008  0.079\n",
      "    fractal dimension (standard error):   0.001  0.03\n",
      "    radius (worst):                       7.93   36.04\n",
      "    texture (worst):                      12.02  49.54\n",
      "    perimeter (worst):                    50.41  251.2\n",
      "    area (worst):                         185.2  4254.0\n",
      "    smoothness (worst):                   0.071  0.223\n",
      "    compactness (worst):                  0.027  1.058\n",
      "    concavity (worst):                    0.0    1.252\n",
      "    concave points (worst):               0.0    0.291\n",
      "    symmetry (worst):                     0.156  0.664\n",
      "    fractal dimension (worst):            0.055  0.208\n",
      "    ===================================== ====== ======\n",
      "\n",
      "    :Missing Attribute Values: None\n",
      "\n",
      "    :Class Distribution: 212 - Malignant, 357 - Benign\n",
      "\n",
      "    :Creator:  Dr. William H. Wolberg, W. Nick Street, Olvi L. Mangasarian\n",
      "\n",
      "    :Donor: Nick Street\n",
      "\n",
      "    :Date: November, 1995\n",
      "\n",
      "This is a copy of UCI ML Breast Cancer Wisconsin (Diagnostic) datasets.\n",
      "https://goo.gl/U2Uwz2\n",
      "\n",
      "Features are computed from a digitized image of a fine needle\n",
      "aspirate (FNA) of a breast mass.  They describe\n",
      "characteristics of the cell nuclei present in the image.\n",
      "\n",
      "Separating plane described above was obtained using\n",
      "Multisurface Method-Tree (MSM-T) [K. P. Bennett, \"Decision Tree\n",
      "Construction Via Linear Programming.\" Proceedings of the 4th\n",
      "Midwest Artificial Intelligence and Cognitive Science Society,\n",
      "pp. 97-101, 1992], a classification method which uses linear\n",
      "programming to construct a decision tree.  Relevant features\n",
      "were selected using an exhaustive search in the space of 1-4\n",
      "features and 1-3 separating planes.\n",
      "\n",
      "The actual linear program used to obtain the separating plane\n",
      "in the 3-dimensional space is that described in:\n",
      "[K. P. Bennett and O. L. Mangasarian: \"Robust Linear\n",
      "Programming Discrimination of Two Linearly Inseparable Sets\",\n",
      "Optimization Methods and Software 1, 1992, 23-34].\n",
      "\n",
      "This database is also available through the UW CS ftp server:\n",
      "\n",
      "ftp ftp.cs.wisc.edu\n",
      "cd math-prog/cpo-dataset/machine-learn/WDBC/\n",
      "\n",
      ".. topic:: References\n",
      "\n",
      "   - W.N. Street, W.H. Wolberg and O.L. Mangasarian. Nuclear feature extraction \n",
      "     for breast tumor diagnosis. IS&T/SPIE 1993 International Symposium on \n",
      "     Electronic Imaging: Science and Technology, volume 1905, pages 861-870,\n",
      "     San Jose, CA, 1993.\n",
      "   - O.L. Mangasarian, W.N. Street and W.H. Wolberg. Breast cancer diagnosis and \n",
      "     prognosis via linear programming. Operations Research, 43(4), pages 570-577, \n",
      "     July-August 1995.\n",
      "   - W.H. Wolberg, W.N. Street, and O.L. Mangasarian. Machine learning techniques\n",
      "     to diagnose breast cancer from fine-needle aspirates. Cancer Letters 77 (1994) \n",
      "     163-171.\n"
     ]
    }
   ],
   "source": [
    "from sklearn.datasets import load_breast_cancer\n",
    "bc = load_breast_cancer()\n",
    "print(bc.DESCR)"
   ]
  },
  {
   "cell_type": "code",
   "execution_count": 3,
   "id": "230aeef0",
   "metadata": {},
   "outputs": [
    {
     "name": "stdout",
     "output_type": "stream",
     "text": [
      "1    357\n",
      "0    212\n",
      "Name: target, dtype: int64\n"
     ]
    }
   ],
   "source": [
    "import pandas as pd\n",
    "from sklearn.datasets import load_breast_cancer\n",
    "\n",
    "# Load the dataset\n",
    "bc = load_breast_cancer()\n",
    "\n",
    "# Create a pandas DataFrame\n",
    "df = pd.DataFrame(bc.data, columns=bc.feature_names)\n",
    "\n",
    "# Add a target column to the DataFrame\n",
    "df['target'] = bc.target\n",
    "\n",
    "print(df['target'].value_counts())"
   ]
  },
  {
   "cell_type": "markdown",
   "id": "4b6c5eba",
   "metadata": {},
   "source": [
    "(a) How many features does the breast cancer dataset possess? Specify the nature of the\n",
    "classification problem (i.e. binary vs. multinomial, and balanced vs. unbalanced).\n"
   ]
  },
  {
   "cell_type": "markdown",
   "id": "c675f540",
   "metadata": {},
   "source": [
    "The load_breast_cancer has 30 features and has around 212 Malignant and 357 Benign cases. Hence it is a binary classification problem  with fairly balanced data set."
   ]
  },
  {
   "cell_type": "markdown",
   "id": "07d73b46",
   "metadata": {},
   "source": [
    "(b) Implement a random forest classifier on the whole dataset and identify the 10 most\n",
    "relevant features. For the rest of the problem, focus on these 10 features.\n"
   ]
  },
  {
   "cell_type": "code",
   "execution_count": 4,
   "id": "4a875458",
   "metadata": {},
   "outputs": [],
   "source": [
    "# Importing basic libraries\n",
    "\n",
    "import numpy as np\n",
    "import pandas as pd\n",
    "import matplotlib.pyplot as plt\n",
    "%matplotlib inline\n",
    "import seaborn as sns"
   ]
  },
  {
   "cell_type": "code",
   "execution_count": 5,
   "id": "cf064331",
   "metadata": {},
   "outputs": [],
   "source": [
    "X=df.drop('target',axis=1)\n",
    "y=df['target']"
   ]
  },
  {
   "cell_type": "code",
   "execution_count": 6,
   "id": "dd96db90",
   "metadata": {},
   "outputs": [
    {
     "data": {
      "text/plain": [
       "RandomForestRegressor(n_estimators=500, random_state=3)"
      ]
     },
     "execution_count": 6,
     "metadata": {},
     "output_type": "execute_result"
    }
   ],
   "source": [
    "from sklearn.ensemble import RandomForestRegressor\n",
    "\n",
    "rf_reg = RandomForestRegressor(n_estimators=500, random_state=3) # Instantiating 'RandomForestRegressor'\n",
    "rf_reg.fit(X, y)   # Fitting the data"
   ]
  },
  {
   "cell_type": "code",
   "execution_count": 7,
   "id": "97e7f828",
   "metadata": {},
   "outputs": [
    {
     "data": {
      "image/png": "[encoded data removed]",
      "text/plain": [
       "<Figure size 504x504 with 1 Axes>"
      ]
     },
     "metadata": {
      "needs_background": "light"
     },
     "output_type": "display_data"
    },
    {
     "name": "stdout",
     "output_type": "stream",
     "text": [
      "1. worst perimeter (28.412001)\n",
      "2. worst concave points (22.823574)\n",
      "3. mean concave points (13.177474)\n",
      "4. worst area (12.627946)\n",
      "5. worst radius (8.103463)\n",
      "6. worst texture (2.808442)\n",
      "7. mean texture (2.020075)\n",
      "8. area error (1.316316)\n",
      "9. worst concavity (1.255901)\n",
      "10. worst smoothness (1.037313)\n"
     ]
    }
   ],
   "source": [
    "import matplotlib.pyplot as plt\n",
    "import numpy as np\n",
    "\n",
    "# Calculating the feature importance\n",
    "feature_importance = rf_reg.feature_importances_\n",
    "feature_importance = 100.0*(feature_importance/np.sum(feature_importance))\n",
    "\n",
    "# Displaying the relative feature importance by a horizontal bar chart \n",
    "sorted_idx = np.argsort(feature_importance)[-10:] # Selecting the top 10 features\n",
    "pos = np.arange(sorted_idx.shape[0])+0.5\n",
    "plt.figure(figsize=(7, 7))\n",
    "\n",
    "plt.title(\"Feature Importance\")\n",
    "plt.xlabel('Relative Importance')\n",
    "plt.barh(pos, feature_importance[sorted_idx], color='crimson', align=\"center\")\n",
    "plt.yticks(pos, np.array(bc.feature_names)[sorted_idx])\n",
    "plt.show()\n",
    "k=1\n",
    "# Print the names of the top 10 features along with their relative importance\n",
    "for i in range(len(sorted_idx)-1,-1,-1):\n",
    "    print(\"%d. %s (%f)\" % (k, bc.feature_names[sorted_idx[i]], feature_importance[sorted_idx[i]]))\n",
    "    k=k+1"
   ]
  },
  {
   "cell_type": "markdown",
   "id": "8b179005",
   "metadata": {},
   "source": [
    "Randomforestclassifier is applied on the entire data set and the top 10 most important features are worst area, worst concave points, mean concave points, worst radius, worst perimeter, mean perimeter, mean concavity, mean area, worst concavity, mean radius."
   ]
  },
  {
   "cell_type": "markdown",
   "id": "1958169c",
   "metadata": {},
   "source": [
    "(c)Split the data into train and test with the test size being 0.25 of the size of the whole\n",
    "dataset"
   ]
  },
  {
   "cell_type": "code",
   "execution_count": 8,
   "id": "248d383e",
   "metadata": {},
   "outputs": [],
   "source": [
    "\n",
    "X = df[['worst perimeter', 'worst concave points', 'mean concave points', 'worst area', 'worst radius', 'worst texture', \n",
    "     'mean texture', 'area error','worst concavity','worst smoothness']]\n",
    "\n",
    "# Breaking the data into train and test subsets\n",
    "\n",
    "from sklearn.model_selection import train_test_split\n",
    "\n",
    "X_train, X_test, y_train, y_test = train_test_split(X, y, test_size=0.25,random_state=42)"
   ]
  },
  {
   "cell_type": "markdown",
   "id": "e9b790c9",
   "metadata": {},
   "source": [
    "(d) Construct a fully-connected neural network for this classification problem. In your training, calculate the accuracy score and the mean F1-score for the train and test data at\n",
    "each epoch. Plot your accuracy per epoch for both train and test data.\n",
    "Note: Once the training is complete, the accuracy score and the mean F1-score of\n",
    "your fully-connected model should reach to at least ∼ 90% for both train and test data.\n",
    "Moreover, your model should not suffer from a high level of overfitting."
   ]
  },
  {
   "cell_type": "code",
   "execution_count": 9,
   "id": "92a289e8",
   "metadata": {},
   "outputs": [],
   "source": [
    "\n",
    "import tensorflow as tf\n",
    "from sklearn.datasets import load_breast_cancer\n",
    "from sklearn.model_selection import train_test_split\n",
    "from sklearn.metrics import accuracy_score, f1_score\n",
    "import matplotlib.pyplot as plt\n",
    "\n",
    "\n"
   ]
  },
  {
   "cell_type": "code",
   "execution_count": 10,
   "id": "97e37db7",
   "metadata": {},
   "outputs": [
    {
     "name": "stdout",
     "output_type": "stream",
     "text": [
      "14/14 [==============================] - 0s 887us/step\n",
      "5/5 [==============================] - 0s 1ms/step\n",
      "Epoch 1/50: Train accuracy: 0.7300, Test accuracy: 0.9790, Train F1-score: 0.9741, Test F1-score: 0.9832\n",
      "14/14 [==============================] - 0s 922us/step\n",
      "5/5 [==============================] - 0s 1ms/step\n",
      "Epoch 2/50: Train accuracy: 0.9695, Test accuracy: 0.9860, Train F1-score: 0.9762, Test F1-score: 0.9889\n",
      "14/14 [==============================] - 0s 835us/step\n",
      "5/5 [==============================] - 0s 1ms/step\n",
      "Epoch 3/50: Train accuracy: 0.9718, Test accuracy: 0.9860, Train F1-score: 0.9798, Test F1-score: 0.9889\n",
      "14/14 [==============================] - 0s 1ms/step\n",
      "5/5 [==============================] - 0s 1ms/step\n",
      "Epoch 4/50: Train accuracy: 0.9765, Test accuracy: 0.9860, Train F1-score: 0.9816, Test F1-score: 0.9889\n",
      "14/14 [==============================] - 0s 1ms/step\n",
      "5/5 [==============================] - 0s 1ms/step\n",
      "Epoch 5/50: Train accuracy: 0.9765, Test accuracy: 0.9860, Train F1-score: 0.9852, Test F1-score: 0.9889\n",
      "14/14 [==============================] - 0s 935us/step\n",
      "5/5 [==============================] - 0s 1ms/step\n",
      "Epoch 6/50: Train accuracy: 0.9812, Test accuracy: 0.9860, Train F1-score: 0.9852, Test F1-score: 0.9889\n",
      "14/14 [==============================] - 0s 943us/step\n",
      "5/5 [==============================] - 0s 1ms/step\n",
      "Epoch 7/50: Train accuracy: 0.9789, Test accuracy: 0.9860, Train F1-score: 0.9834, Test F1-score: 0.9889\n",
      "14/14 [==============================] - 0s 995us/step\n",
      "5/5 [==============================] - 0s 2ms/step\n",
      "Epoch 8/50: Train accuracy: 0.9789, Test accuracy: 0.9860, Train F1-score: 0.9834, Test F1-score: 0.9889\n",
      "14/14 [==============================] - 0s 947us/step\n",
      "5/5 [==============================] - 0s 1ms/step\n",
      "Epoch 9/50: Train accuracy: 0.9812, Test accuracy: 0.9790, Train F1-score: 0.9852, Test F1-score: 0.9832\n",
      "14/14 [==============================] - 0s 983us/step\n",
      "5/5 [==============================] - 0s 1ms/step\n",
      "Epoch 10/50: Train accuracy: 0.9812, Test accuracy: 0.9790, Train F1-score: 0.9852, Test F1-score: 0.9832\n",
      "14/14 [==============================] - 0s 825us/step\n",
      "5/5 [==============================] - 0s 1ms/step\n",
      "Epoch 11/50: Train accuracy: 0.9789, Test accuracy: 0.9790, Train F1-score: 0.9833, Test F1-score: 0.9832\n",
      "14/14 [==============================] - 0s 1ms/step\n",
      "5/5 [==============================] - 0s 1ms/step\n",
      "Epoch 12/50: Train accuracy: 0.9789, Test accuracy: 0.9790, Train F1-score: 0.9833, Test F1-score: 0.9832\n",
      "14/14 [==============================] - 0s 1ms/step\n",
      "5/5 [==============================] - 0s 1ms/step\n",
      "Epoch 13/50: Train accuracy: 0.9765, Test accuracy: 0.9790, Train F1-score: 0.9833, Test F1-score: 0.9832\n",
      "14/14 [==============================] - 0s 1ms/step\n",
      "5/5 [==============================] - 0s 1ms/step\n",
      "Epoch 14/50: Train accuracy: 0.9812, Test accuracy: 0.9720, Train F1-score: 0.9833, Test F1-score: 0.9775\n",
      "14/14 [==============================] - 0s 882us/step\n",
      "5/5 [==============================] - 0s 1ms/step\n",
      "Epoch 15/50: Train accuracy: 0.9765, Test accuracy: 0.9720, Train F1-score: 0.9832, Test F1-score: 0.9775\n",
      "14/14 [==============================] - 0s 779us/step\n",
      "5/5 [==============================] - 0s 1ms/step\n",
      "Epoch 16/50: Train accuracy: 0.9789, Test accuracy: 0.9720, Train F1-score: 0.9851, Test F1-score: 0.9775\n",
      "14/14 [==============================] - 0s 677us/step\n",
      "5/5 [==============================] - 0s 1ms/step\n",
      "Epoch 17/50: Train accuracy: 0.9812, Test accuracy: 0.9720, Train F1-score: 0.9851, Test F1-score: 0.9775\n",
      "14/14 [==============================] - 0s 745us/step\n",
      "5/5 [==============================] - 0s 840us/step\n",
      "Epoch 18/50: Train accuracy: 0.9859, Test accuracy: 0.9790, Train F1-score: 0.9889, Test F1-score: 0.9832\n",
      "14/14 [==============================] - 0s 628us/step\n",
      "5/5 [==============================] - 0s 1ms/step\n",
      "Epoch 19/50: Train accuracy: 0.9812, Test accuracy: 0.9790, Train F1-score: 0.9870, Test F1-score: 0.9832\n",
      "14/14 [==============================] - 0s 887us/step\n",
      "5/5 [==============================] - 0s 870us/step\n",
      "Epoch 20/50: Train accuracy: 0.9836, Test accuracy: 0.9790, Train F1-score: 0.9870, Test F1-score: 0.9831\n",
      "14/14 [==============================] - 0s 722us/step\n",
      "5/5 [==============================] - 0s 1ms/step\n",
      "Epoch 21/50: Train accuracy: 0.9836, Test accuracy: 0.9790, Train F1-score: 0.9870, Test F1-score: 0.9831\n",
      "14/14 [==============================] - 0s 693us/step\n",
      "5/5 [==============================] - 0s 1ms/step\n",
      "Epoch 22/50: Train accuracy: 0.9836, Test accuracy: 0.9790, Train F1-score: 0.9870, Test F1-score: 0.9831\n",
      "14/14 [==============================] - 0s 724us/step\n",
      "5/5 [==============================] - 0s 895us/step\n",
      "Epoch 23/50: Train accuracy: 0.9836, Test accuracy: 0.9860, Train F1-score: 0.9907, Test F1-score: 0.9888\n",
      "14/14 [==============================] - 0s 815us/step\n",
      "5/5 [==============================] - 0s 954us/step\n",
      "Epoch 24/50: Train accuracy: 0.9836, Test accuracy: 0.9860, Train F1-score: 0.9870, Test F1-score: 0.9888\n",
      "14/14 [==============================] - 0s 690us/step\n",
      "5/5 [==============================] - 0s 722us/step\n",
      "Epoch 25/50: Train accuracy: 0.9836, Test accuracy: 0.9860, Train F1-score: 0.9870, Test F1-score: 0.9888\n",
      "14/14 [==============================] - 0s 730us/step\n",
      "5/5 [==============================] - 0s 754us/step\n",
      "Epoch 26/50: Train accuracy: 0.9836, Test accuracy: 0.9860, Train F1-score: 0.9888, Test F1-score: 0.9888\n",
      "14/14 [==============================] - 0s 743us/step\n",
      "5/5 [==============================] - 0s 867us/step\n",
      "Epoch 27/50: Train accuracy: 0.9836, Test accuracy: 0.9790, Train F1-score: 0.9870, Test F1-score: 0.9831\n",
      "14/14 [==============================] - 0s 679us/step\n",
      "5/5 [==============================] - 0s 913us/step\n",
      "Epoch 28/50: Train accuracy: 0.9859, Test accuracy: 0.9860, Train F1-score: 0.9907, Test F1-score: 0.9888\n",
      "14/14 [==============================] - 0s 703us/step\n",
      "5/5 [==============================] - 0s 844us/step\n",
      "Epoch 29/50: Train accuracy: 0.9883, Test accuracy: 0.9860, Train F1-score: 0.9888, Test F1-score: 0.9888\n",
      "14/14 [==============================] - 0s 640us/step\n",
      "5/5 [==============================] - 0s 847us/step\n",
      "Epoch 30/50: Train accuracy: 0.9859, Test accuracy: 0.9790, Train F1-score: 0.9888, Test F1-score: 0.9831\n",
      "14/14 [==============================] - 0s 761us/step\n",
      "5/5 [==============================] - 0s 807us/step\n",
      "Epoch 31/50: Train accuracy: 0.9859, Test accuracy: 0.9860, Train F1-score: 0.9926, Test F1-score: 0.9888\n",
      "14/14 [==============================] - 0s 716us/step\n",
      "5/5 [==============================] - 0s 1ms/step\n",
      "Epoch 32/50: Train accuracy: 0.9883, Test accuracy: 0.9860, Train F1-score: 0.9926, Test F1-score: 0.9888\n",
      "14/14 [==============================] - 0s 713us/step\n",
      "5/5 [==============================] - 0s 935us/step\n",
      "Epoch 33/50: Train accuracy: 0.9883, Test accuracy: 0.9860, Train F1-score: 0.9907, Test F1-score: 0.9888\n",
      "14/14 [==============================] - 0s 703us/step\n",
      "5/5 [==============================] - 0s 646us/step\n",
      "Epoch 34/50: Train accuracy: 0.9883, Test accuracy: 0.9860, Train F1-score: 0.9907, Test F1-score: 0.9888\n",
      "14/14 [==============================] - 0s 728us/step\n",
      "5/5 [==============================] - 0s 942us/step\n",
      "Epoch 35/50: Train accuracy: 0.9883, Test accuracy: 0.9860, Train F1-score: 0.9926, Test F1-score: 0.9888\n",
      "14/14 [==============================] - 0s 740us/step\n",
      "5/5 [==============================] - 0s 806us/step\n",
      "Epoch 36/50: Train accuracy: 0.9906, Test accuracy: 0.9860, Train F1-score: 0.9926, Test F1-score: 0.9888\n",
      "14/14 [==============================] - 0s 682us/step\n",
      "5/5 [==============================] - 0s 1ms/step\n",
      "Epoch 37/50: Train accuracy: 0.9883, Test accuracy: 0.9790, Train F1-score: 0.9907, Test F1-score: 0.9831\n",
      "14/14 [==============================] - 0s 675us/step\n",
      "5/5 [==============================] - 0s 1ms/step\n",
      "Epoch 38/50: Train accuracy: 0.9883, Test accuracy: 0.9860, Train F1-score: 0.9907, Test F1-score: 0.9888\n",
      "14/14 [==============================] - 0s 676us/step\n",
      "5/5 [==============================] - 0s 916us/step\n",
      "Epoch 39/50: Train accuracy: 0.9906, Test accuracy: 0.9860, Train F1-score: 0.9926, Test F1-score: 0.9888\n"
     ]
    },
    {
     "name": "stdout",
     "output_type": "stream",
     "text": [
      "14/14 [==============================] - 0s 627us/step\n",
      "5/5 [==============================] - 0s 1ms/step\n",
      "Epoch 40/50: Train accuracy: 0.9906, Test accuracy: 0.9860, Train F1-score: 0.9926, Test F1-score: 0.9888\n",
      "14/14 [==============================] - 0s 660us/step\n",
      "5/5 [==============================] - 0s 917us/step\n",
      "Epoch 41/50: Train accuracy: 0.9883, Test accuracy: 0.9860, Train F1-score: 0.9926, Test F1-score: 0.9888\n",
      "14/14 [==============================] - 0s 686us/step\n",
      "5/5 [==============================] - 0s 1ms/step\n",
      "Epoch 42/50: Train accuracy: 0.9906, Test accuracy: 0.9860, Train F1-score: 0.9926, Test F1-score: 0.9888\n",
      "14/14 [==============================] - 0s 689us/step\n",
      "5/5 [==============================] - 0s 1ms/step\n",
      "Epoch 43/50: Train accuracy: 0.9906, Test accuracy: 0.9860, Train F1-score: 0.9926, Test F1-score: 0.9888\n",
      "14/14 [==============================] - 0s 712us/step\n",
      "5/5 [==============================] - 0s 902us/step\n",
      "Epoch 44/50: Train accuracy: 0.9906, Test accuracy: 0.9860, Train F1-score: 0.9926, Test F1-score: 0.9888\n",
      "14/14 [==============================] - 0s 668us/step\n",
      "5/5 [==============================] - 0s 1ms/step\n",
      "Epoch 45/50: Train accuracy: 0.9906, Test accuracy: 0.9860, Train F1-score: 0.9926, Test F1-score: 0.9888\n",
      "14/14 [==============================] - 0s 740us/step\n",
      "5/5 [==============================] - 0s 909us/step\n",
      "Epoch 46/50: Train accuracy: 0.9906, Test accuracy: 0.9860, Train F1-score: 0.9926, Test F1-score: 0.9888\n",
      "14/14 [==============================] - 0s 649us/step\n",
      "5/5 [==============================] - 0s 948us/step\n",
      "Epoch 47/50: Train accuracy: 0.9906, Test accuracy: 0.9860, Train F1-score: 0.9926, Test F1-score: 0.9888\n",
      "14/14 [==============================] - 0s 667us/step\n",
      "5/5 [==============================] - 0s 931us/step\n",
      "Epoch 48/50: Train accuracy: 0.9906, Test accuracy: 0.9860, Train F1-score: 0.9926, Test F1-score: 0.9888\n",
      "14/14 [==============================] - 0s 685us/step\n",
      "5/5 [==============================] - 0s 841us/step\n",
      "Epoch 49/50: Train accuracy: 0.9906, Test accuracy: 0.9860, Train F1-score: 0.9926, Test F1-score: 0.9888\n",
      "14/14 [==============================] - 0s 713us/step\n",
      "5/5 [==============================] - 0s 1ms/step\n",
      "Epoch 50/50: Train accuracy: 0.9906, Test accuracy: 0.9860, Train F1-score: 0.9926, Test F1-score: 0.9888\n"
     ]
    }
   ],
   "source": [
    "\n",
    "\n",
    "\n",
    "\n",
    "# Normalize the data\n",
    "X_train_norm = (X_train - X_train.mean(axis=0)) / X_train.std(axis=0)\n",
    "X_test_norm = (X_test - X_train.mean(axis=0)) / X_train.std(axis=0)\n",
    "\n",
    "# Construct the model\n",
    "model = tf.keras.Sequential([\n",
    "    tf.keras.layers.Dense(64, activation='relu', input_shape=(X_train_norm.shape[1],)),\n",
    "    tf.keras.layers.Dense(64, activation='relu'),\n",
    "    tf.keras.layers.Dense(1, activation='sigmoid')\n",
    "])\n",
    "\n",
    "# Compile the model\n",
    "model.compile(optimizer='adam', loss='binary_crossentropy', metrics=['accuracy'])\n",
    "\n",
    "# Initialize lists to store accuracy and mean F1-score at each epoch\n",
    "train_acc = []\n",
    "test_acc = []\n",
    "train_f1 = []\n",
    "test_f1 = []\n",
    "\n",
    "\n",
    "# Train the model\n",
    "#history = model.fit(X_train_norm, y_train, validation_data=(X_test_norm, y_test), epochs=50, batch_size=32, verbose=0)\n",
    "    \n",
    "for i in range(50):\n",
    "    # Train the model\n",
    "    history = model.fit(X_train_norm, y_train, validation_data=(X_test_norm, y_test), epochs=1, batch_size=32, verbose=0)\n",
    "    \n",
    "    \n",
    "    # Calculate accuracy and mean F1-score for train and test data\n",
    "    train_acc.append(history.history['accuracy'][0])\n",
    "    test_acc.append(history.history['val_accuracy'][0])\n",
    "    y_train_pred = np.round(model.predict(X_train_norm))\n",
    "    y_test_pred = np.round(model.predict(X_test_norm))\n",
    "    train_f1.append(f1_score(y_train, y_train_pred))\n",
    "    test_f1.append(f1_score(y_test, y_test_pred))\n",
    "\n",
    "    # Print accuracy and mean F1-score for train and test data at each epoch\n",
    "    print(f\"Epoch {i+1}/{50}: Train accuracy: {train_acc[-1]:.4f}, Test accuracy: {test_acc[-1]:.4f}, Train F1-score: {train_f1[-1]:.4f}, Test F1-score: {test_f1[-1]:.4f}\")\n",
    "\n",
    "#for i in range(50):\n",
    " #   print(f\"Epoch {i+1}/{50}: Train accuracy: {train_acc[-1]:.4f}, Test accuracy: {test_acc[-1]:.4f}, Train F1-score: {train_f1[-1]:.4f}, Test F1-score: {test_f1[-1]:.4f}\")\n",
    "\n",
    "\n"
   ]
  },
  {
   "cell_type": "code",
   "execution_count": 11,
   "id": "bedd50a0",
   "metadata": {},
   "outputs": [
    {
     "name": "stdout",
     "output_type": "stream",
     "text": [
      "5/5 [==============================] - 0s 1ms/step - loss: 0.0557 - accuracy: 0.9860\n",
      "Test accuracy: 0.9860140085220337\n",
      "5/5 [==============================] - 0s 908us/step\n",
      "Test F1-score: 0.9887640449438202\n"
     ]
    },
    {
     "data": {
      "image/png": "[encoded data removed]",
      "text/plain": [
       "<Figure size 432x288 with 1 Axes>"
      ]
     },
     "metadata": {
      "needs_background": "light"
     },
     "output_type": "display_data"
    }
   ],
   "source": [
    "# Evaluate the model on the test set\n",
    "test_loss, test_accuracy = model.evaluate(X_test_norm, y_test)\n",
    "\n",
    "# Print the test accuracy and F1-score\n",
    "print(\"Test accuracy:\", test_accuracy)\n",
    "print(\"Test F1-score:\", f1_score(y_test, np.round(model.predict(X_test_norm))))\n",
    "\n",
    "# Plot the accuracy per epoch for both train and test data\n",
    "plt.plot(train_acc)\n",
    "plt.plot(test_acc)\n",
    "plt.title('Model Accuracy')\n",
    "plt.ylabel('Accuracy')\n",
    "plt.xlabel('Epoch')\n",
    "plt.legend(['Train', 'Test'], loc='upper left')\n",
    "plt.show()\n"
   ]
  },
  {
   "cell_type": "markdown",
   "id": "5d5155a4",
   "metadata": {},
   "source": [
    "(e) Employ the logistic regression for the same classification problem. Carefully assess the\n",
    "performance of logistic regression on this dataset."
   ]
  },
  {
   "cell_type": "code",
   "execution_count": 12,
   "id": "61c34906",
   "metadata": {},
   "outputs": [
    {
     "data": {
      "text/plain": [
       "worst perimeter          87.40000\n",
       "worst concave points      0.05366\n",
       "mean concave points       0.01171\n",
       "worst area              577.00000\n",
       "worst radius             13.62000\n",
       "worst texture            15.54000\n",
       "mean texture             13.12000\n",
       "area error               12.68000\n",
       "worst concavity           0.11860\n",
       "worst smoothness          0.09616\n",
       "Name: 287, dtype: float64"
      ]
     },
     "execution_count": 12,
     "metadata": {},
     "output_type": "execute_result"
    }
   ],
   "source": [
    "X_train.iloc[0]"
   ]
  },
  {
   "cell_type": "code",
   "execution_count": 13,
   "id": "4b07d1ef",
   "metadata": {},
   "outputs": [
    {
     "name": "stdout",
     "output_type": "stream",
     "text": [
      "Train accuracy: 0.971830985915493\n",
      "Train F1-score: 0.9777777777777777\n",
      "Test accuracy: 0.9790209790209791\n",
      "Test F1-score: 0.9832402234636872\n"
     ]
    }
   ],
   "source": [
    "from sklearn.linear_model import LogisticRegression\n",
    "from sklearn.metrics import accuracy_score, f1_score\n",
    "\n",
    "\n",
    "lr = LogisticRegression() # Instantiating logistic regression \n",
    "lr.fit(X_train_norm, y_train)  # Fitting the train data to lr\n",
    "\n",
    "# Predict on the train and test set\n",
    "y_train_pred = lr.predict(X_train_norm)\n",
    "y_test_pred = lr.predict(X_test_norm)\n",
    "\n",
    "# Calculate the accuracy and F1-score for the train and test set\n",
    "train_accuracy = accuracy_score(y_train, y_train_pred)\n",
    "train_f1_score = f1_score(y_train, y_train_pred)\n",
    "test_accuracy = accuracy_score(y_test, y_test_pred)\n",
    "test_f1_score = f1_score(y_test, y_test_pred)\n",
    "\n",
    "# Print the train and test accuracy and F1-score\n",
    "print(\"Train accuracy:\", train_accuracy)\n",
    "print(\"Train F1-score:\", train_f1_score)\n",
    "print(\"Test accuracy:\", test_accuracy)\n",
    "print(\"Test F1-score:\", test_f1_score)\n"
   ]
  },
  {
   "cell_type": "markdown",
   "id": "5d73fd0f",
   "metadata": {},
   "source": [
    "(f) How many weights (i.e. parameters) does your fully-connected model in part (d) possess?\n",
    "How many parameters does the logistic regression model in part (e) possess? Carefully\n",
    "compare and contrast the two performances and determine which model should be em\u0002ployed as the more successful model for this classification task.\n"
   ]
  },
  {
   "cell_type": "markdown",
   "id": "b1c25ebf",
   "metadata": {},
   "source": [
    "The number of weights fully connected neural network algorithm has are on all layers will be (64(10+1)) + (64*64 + 64) + (64+1) = 4929 . For the logistic regression there will be 11 weights (10 features and one bias term) associated with the model. \n",
    "\n",
    "From the output you provided, we can see that the fully-connected neural network achieved higher accuracy and F1-score on both the training and test sets compared to the logistic regression model. Specifically, the neural network achieved a test accuracy of 0.9860 and a test F1-score of 0.9888, while the logistic regression model achieved a test accuracy of 0.9790 and a test F1-score of 0.9832.\n",
    "\n",
    "This indicates that the fully-connected neural network is the more successful model for this classification task, as it achieved higher accuracy and F1-score on the test set."
   ]
  },
  {
   "cell_type": "markdown",
   "id": "21330f24",
   "metadata": {},
   "source": [
    "# question 02"
   ]
  },
  {
   "cell_type": "markdown",
   "id": "8eb5b636",
   "metadata": {},
   "source": [
    "2. Constructing a CNN Classifier: Define D to be a dataset consisting 5 − 10% of random\n",
    "images of the MNIST. Redefine the target variable for D as follows:\n",
    "• Positive Class: This class is formed by all images of D which are 2 or 7.\n",
    "• Negative Class: This class is formed by all images of D which are different from 2 and\n",
    "7 (i.e. images of 0, 1, 3, 4, 5, 6, 8, 9 digits)"
   ]
  },
  {
   "cell_type": "markdown",
   "id": "6bd14259",
   "metadata": {},
   "source": [
    "(a) How many samples does D possess? What is the size of the positive class? What is the\n",
    "size of the negative class? Determine the nature of this classification problem (balanced\n",
    "vs. unbalanced)"
   ]
  },
  {
   "cell_type": "code",
   "execution_count": 78,
   "id": "4a4c5c79",
   "metadata": {},
   "outputs": [
    {
     "name": "stdout",
     "output_type": "stream",
     "text": [
      "Shape of X_train=(3000, 28, 28, 1) and shape of y_train=(3000, 2)\n",
      "Shape of X_test=(500, 28, 28, 1) and shape of y_test=(500, 2)\n"
     ]
    }
   ],
   "source": [
    "from tensorflow.keras.datasets import mnist\n",
    "import tensorflow as tf\n",
    "import numpy as np\n",
    "\n",
    "(X_train, y_train), (X_test, y_test) = mnist.load_data()\n",
    "\n",
    "# Redefine the target variable for D\n",
    "y_train = np.where(np.logical_or(y_train==2, y_train==7), 1, 0)\n",
    "y_test = np.where(np.logical_or(y_test==2, y_test==7), 1, 0)\n",
    "\n",
    "# Keep only 5% of the data\n",
    "percent_cap = 5\n",
    "num_train = int(X_train.shape[0] * percent_cap / 100)\n",
    "num_test = int(X_test.shape[0] * percent_cap / 100)\n",
    "X_train = X_train[:num_train]\n",
    "X_test = X_test[:num_test]\n",
    "y_train = y_train[:num_train]\n",
    "y_test = y_test[:num_test]\n",
    "\n",
    "# Reshape the input data\n",
    "X_train = X_train.reshape((X_train.shape[0], 28, 28, 1))\n",
    "X_test = X_test.reshape((X_test.shape[0], 28, 28, 1))\n",
    "\n",
    "# Converting target to categorical\n",
    "y_train = tf.keras.utils.to_categorical(y_train, num_classes=2)\n",
    "y_test = tf.keras.utils.to_categorical(y_test, num_classes=2)\n",
    "\n",
    "print('Shape of X_train=%s and shape of y_train=%s' % (X_train.shape, y_train.shape))\n",
    "print('Shape of X_test=%s and shape of y_test=%s' % (X_test.shape, y_test.shape))\n"
   ]
  },
  {
   "cell_type": "code",
   "execution_count": 79,
   "id": "62777948",
   "metadata": {},
   "outputs": [
    {
     "name": "stdout",
     "output_type": "stream",
     "text": [
      "628.0 2372.0\n"
     ]
    }
   ],
   "source": [
    "num_positive_train = np.sum(y_train[:, 1])\n",
    "num_negative_train = np.sum(y_train[:, 0])\n",
    "\n",
    "print(num_positive_train,num_negative_train)"
   ]
  },
  {
   "cell_type": "markdown",
   "id": "84ac338d",
   "metadata": {},
   "source": [
    "we have loaded 5 percet of data, so the total instances are 3000.The number of positive instances are 628 and number of negative instances are 2372.Hence it is clearly a unbalnced classification problem."
   ]
  },
  {
   "cell_type": "markdown",
   "id": "93132297",
   "metadata": {},
   "source": [
    "(b) Construct a convolutional neural network for this binary classification problem on D.\n",
    "What metrics would you calculate through the training process?"
   ]
  },
  {
   "cell_type": "code",
   "execution_count": 80,
   "id": "b2639f48",
   "metadata": {},
   "outputs": [],
   "source": [
    "import tensorflow as tf\n",
    "\n",
    "model = tf.keras.Sequential([\n",
    "    tf.keras.layers.Conv2D(32, (3, 3), activation='relu', input_shape=(28, 28, 1)),\n",
    "    tf.keras.layers.MaxPooling2D((2, 2)),\n",
    "    tf.keras.layers.Conv2D(64, (3, 3), activation='relu'),\n",
    "    tf.keras.layers.MaxPooling2D((2, 2)),\n",
    "    tf.keras.layers.Flatten(),\n",
    "    tf.keras.layers.Dense(64, activation='relu'),\n",
    "    tf.keras.layers.Dense(2, activation='softmax')\n",
    "])\n",
    "\n",
    "model.compile(optimizer='adam',\n",
    "              loss='categorical_crossentropy',\n",
    "              metrics=['accuracy'])\n"
   ]
  },
  {
   "cell_type": "code",
   "execution_count": 81,
   "id": "ee2959d9",
   "metadata": {},
   "outputs": [
    {
     "name": "stdout",
     "output_type": "stream",
     "text": [
      "Epoch 1/50\n",
      "94/94 [==============================] - 1s 10ms/step - loss: 1.6550 - accuracy: 0.9180 - val_loss: 0.0690 - val_accuracy: 0.9700\n",
      "Epoch 2/50\n",
      "94/94 [==============================] - 1s 9ms/step - loss: 0.0704 - accuracy: 0.9813 - val_loss: 0.0842 - val_accuracy: 0.9720\n",
      "Epoch 3/50\n",
      "94/94 [==============================] - 1s 8ms/step - loss: 0.0313 - accuracy: 0.9907 - val_loss: 0.0822 - val_accuracy: 0.9760\n",
      "Epoch 4/50\n",
      "94/94 [==============================] - 1s 8ms/step - loss: 0.0225 - accuracy: 0.9920 - val_loss: 0.0697 - val_accuracy: 0.9760\n",
      "Epoch 5/50\n",
      "94/94 [==============================] - 1s 8ms/step - loss: 0.0138 - accuracy: 0.9953 - val_loss: 0.0918 - val_accuracy: 0.9700\n",
      "Epoch 6/50\n",
      "94/94 [==============================] - 1s 8ms/step - loss: 0.0071 - accuracy: 0.9980 - val_loss: 0.0359 - val_accuracy: 0.9800\n",
      "Epoch 7/50\n",
      "94/94 [==============================] - 1s 8ms/step - loss: 0.0017 - accuracy: 1.0000 - val_loss: 0.0201 - val_accuracy: 0.9900\n",
      "Epoch 8/50\n",
      "94/94 [==============================] - 1s 8ms/step - loss: 7.4407e-04 - accuracy: 1.0000 - val_loss: 0.0218 - val_accuracy: 0.9840\n",
      "Epoch 9/50\n",
      "94/94 [==============================] - 1s 8ms/step - loss: 3.0968e-04 - accuracy: 1.0000 - val_loss: 0.0252 - val_accuracy: 0.9840\n",
      "Epoch 10/50\n",
      "94/94 [==============================] - 1s 8ms/step - loss: 2.1763e-04 - accuracy: 1.0000 - val_loss: 0.0231 - val_accuracy: 0.9880\n",
      "Epoch 11/50\n",
      "94/94 [==============================] - 1s 8ms/step - loss: 1.7801e-04 - accuracy: 1.0000 - val_loss: 0.0221 - val_accuracy: 0.9900\n",
      "Epoch 12/50\n",
      "94/94 [==============================] - 1s 8ms/step - loss: 1.5855e-04 - accuracy: 1.0000 - val_loss: 0.0222 - val_accuracy: 0.9900\n",
      "Epoch 13/50\n",
      "94/94 [==============================] - 1s 8ms/step - loss: 1.4007e-04 - accuracy: 1.0000 - val_loss: 0.0227 - val_accuracy: 0.9900\n",
      "Epoch 14/50\n",
      "94/94 [==============================] - 1s 9ms/step - loss: 1.2344e-04 - accuracy: 1.0000 - val_loss: 0.0219 - val_accuracy: 0.9880\n",
      "Epoch 15/50\n",
      "94/94 [==============================] - 1s 9ms/step - loss: 1.1879e-04 - accuracy: 1.0000 - val_loss: 0.0226 - val_accuracy: 0.9900\n",
      "Epoch 16/50\n",
      "94/94 [==============================] - 1s 8ms/step - loss: 1.0481e-04 - accuracy: 1.0000 - val_loss: 0.0233 - val_accuracy: 0.9880\n",
      "Epoch 17/50\n",
      "94/94 [==============================] - 1s 9ms/step - loss: 9.4412e-05 - accuracy: 1.0000 - val_loss: 0.0224 - val_accuracy: 0.9900\n",
      "Epoch 18/50\n",
      "94/94 [==============================] - 1s 9ms/step - loss: 8.7446e-05 - accuracy: 1.0000 - val_loss: 0.0231 - val_accuracy: 0.9880\n",
      "Epoch 19/50\n",
      "94/94 [==============================] - 1s 8ms/step - loss: 7.9465e-05 - accuracy: 1.0000 - val_loss: 0.0221 - val_accuracy: 0.9900\n",
      "Epoch 20/50\n",
      "94/94 [==============================] - 1s 8ms/step - loss: 7.3298e-05 - accuracy: 1.0000 - val_loss: 0.0219 - val_accuracy: 0.9900\n",
      "Epoch 21/50\n",
      "94/94 [==============================] - 1s 9ms/step - loss: 6.7900e-05 - accuracy: 1.0000 - val_loss: 0.0219 - val_accuracy: 0.9900\n",
      "Epoch 22/50\n",
      "94/94 [==============================] - 1s 8ms/step - loss: 6.2510e-05 - accuracy: 1.0000 - val_loss: 0.0211 - val_accuracy: 0.9900\n",
      "Epoch 23/50\n",
      "94/94 [==============================] - 1s 8ms/step - loss: 5.9712e-05 - accuracy: 1.0000 - val_loss: 0.0217 - val_accuracy: 0.9900\n",
      "Epoch 24/50\n",
      "94/94 [==============================] - 1s 8ms/step - loss: 5.4852e-05 - accuracy: 1.0000 - val_loss: 0.0218 - val_accuracy: 0.9900\n",
      "Epoch 25/50\n",
      "94/94 [==============================] - 1s 8ms/step - loss: 5.0377e-05 - accuracy: 1.0000 - val_loss: 0.0212 - val_accuracy: 0.9880\n",
      "Epoch 26/50\n",
      "94/94 [==============================] - 1s 8ms/step - loss: 4.7357e-05 - accuracy: 1.0000 - val_loss: 0.0219 - val_accuracy: 0.9900\n",
      "Epoch 27/50\n",
      "94/94 [==============================] - 1s 8ms/step - loss: 4.4523e-05 - accuracy: 1.0000 - val_loss: 0.0218 - val_accuracy: 0.9880\n",
      "Epoch 28/50\n",
      "94/94 [==============================] - 1s 8ms/step - loss: 4.0854e-05 - accuracy: 1.0000 - val_loss: 0.0226 - val_accuracy: 0.9880\n",
      "Epoch 29/50\n",
      "94/94 [==============================] - 1s 8ms/step - loss: 3.8323e-05 - accuracy: 1.0000 - val_loss: 0.0228 - val_accuracy: 0.9860\n",
      "Epoch 30/50\n",
      "94/94 [==============================] - 1s 8ms/step - loss: 3.5249e-05 - accuracy: 1.0000 - val_loss: 0.0240 - val_accuracy: 0.9880\n",
      "Epoch 31/50\n",
      "94/94 [==============================] - 1s 8ms/step - loss: 3.3935e-05 - accuracy: 1.0000 - val_loss: 0.0230 - val_accuracy: 0.9860\n",
      "Epoch 32/50\n",
      "94/94 [==============================] - 1s 8ms/step - loss: 3.1030e-05 - accuracy: 1.0000 - val_loss: 0.0229 - val_accuracy: 0.9860\n",
      "Epoch 33/50\n",
      "94/94 [==============================] - 1s 8ms/step - loss: 2.9192e-05 - accuracy: 1.0000 - val_loss: 0.0233 - val_accuracy: 0.9860\n",
      "Epoch 34/50\n",
      "94/94 [==============================] - 1s 8ms/step - loss: 2.7693e-05 - accuracy: 1.0000 - val_loss: 0.0227 - val_accuracy: 0.9860\n",
      "Epoch 35/50\n",
      "94/94 [==============================] - 1s 8ms/step - loss: 2.5505e-05 - accuracy: 1.0000 - val_loss: 0.0230 - val_accuracy: 0.9860\n",
      "Epoch 36/50\n",
      "94/94 [==============================] - 1s 8ms/step - loss: 2.3986e-05 - accuracy: 1.0000 - val_loss: 0.0229 - val_accuracy: 0.9860\n",
      "Epoch 37/50\n",
      "94/94 [==============================] - 1s 8ms/step - loss: 2.2311e-05 - accuracy: 1.0000 - val_loss: 0.0224 - val_accuracy: 0.9880\n",
      "Epoch 38/50\n",
      "94/94 [==============================] - 1s 8ms/step - loss: 2.0948e-05 - accuracy: 1.0000 - val_loss: 0.0232 - val_accuracy: 0.9860\n",
      "Epoch 39/50\n",
      "94/94 [==============================] - 1s 8ms/step - loss: 1.9716e-05 - accuracy: 1.0000 - val_loss: 0.0234 - val_accuracy: 0.9860\n",
      "Epoch 40/50\n",
      "94/94 [==============================] - 1s 8ms/step - loss: 1.8518e-05 - accuracy: 1.0000 - val_loss: 0.0228 - val_accuracy: 0.9880\n",
      "Epoch 41/50\n",
      "94/94 [==============================] - 1s 8ms/step - loss: 1.7432e-05 - accuracy: 1.0000 - val_loss: 0.0235 - val_accuracy: 0.9860\n",
      "Epoch 42/50\n",
      "94/94 [==============================] - 1s 9ms/step - loss: 1.6427e-05 - accuracy: 1.0000 - val_loss: 0.0234 - val_accuracy: 0.9880\n",
      "Epoch 43/50\n",
      "94/94 [==============================] - 1s 8ms/step - loss: 1.5446e-05 - accuracy: 1.0000 - val_loss: 0.0237 - val_accuracy: 0.9860\n",
      "Epoch 44/50\n",
      "94/94 [==============================] - 1s 8ms/step - loss: 1.4728e-05 - accuracy: 1.0000 - val_loss: 0.0238 - val_accuracy: 0.9880\n",
      "Epoch 45/50\n",
      "94/94 [==============================] - 1s 9ms/step - loss: 1.3788e-05 - accuracy: 1.0000 - val_loss: 0.0234 - val_accuracy: 0.9880\n",
      "Epoch 46/50\n",
      "94/94 [==============================] - 1s 9ms/step - loss: 1.3023e-05 - accuracy: 1.0000 - val_loss: 0.0229 - val_accuracy: 0.9880\n",
      "Epoch 47/50\n",
      "94/94 [==============================] - 1s 9ms/step - loss: 1.2212e-05 - accuracy: 1.0000 - val_loss: 0.0231 - val_accuracy: 0.9880\n",
      "Epoch 48/50\n",
      "94/94 [==============================] - 1s 8ms/step - loss: 1.1477e-05 - accuracy: 1.0000 - val_loss: 0.0232 - val_accuracy: 0.9880\n",
      "Epoch 49/50\n",
      "94/94 [==============================] - 1s 8ms/step - loss: 1.1015e-05 - accuracy: 1.0000 - val_loss: 0.0230 - val_accuracy: 0.9880\n",
      "Epoch 50/50\n",
      "94/94 [==============================] - 1s 8ms/step - loss: 1.0216e-05 - accuracy: 1.0000 - val_loss: 0.0224 - val_accuracy: 0.9880\n"
     ]
    }
   ],
   "source": [
    "history = model.fit(X_train, y_train, epochs=50, batch_size=32, \n",
    "                    validation_data=(X_test, y_test), verbose=1)"
   ]
  },
  {
   "cell_type": "markdown",
   "id": "1b9bfe70",
   "metadata": {},
   "source": [
    "2(b)answer : \n",
    "we calculate training loss which is calculated by binary cross-entropy as it is a binary classification problem, training accuracy, validation loss and validation accuracy metrics while training the model"
   ]
  },
  {
   "cell_type": "code",
   "execution_count": 82,
   "id": "10c42aba",
   "metadata": {},
   "outputs": [
    {
     "data": {
      "image/png": "[encoded data removed]",
      "text/plain": [
       "<Figure size 576x360 with 1 Axes>"
      ]
     },
     "metadata": {
      "needs_background": "light"
     },
     "output_type": "display_data"
    }
   ],
   "source": [
    "# Plotting the loss function from model's history\n",
    "import matplotlib.pyplot as plt\n",
    "\n",
    "plt.figure(figsize=(8,5))\n",
    "plt.plot(history.history['loss'], label = 'train loss')\n",
    "plt.plot(history.history['val_loss'], label = 'test loss') \n",
    "plt.title('History of the Loss Function of the CNN Classifier')\n",
    "plt.legend(['train loss', 'test loss'])\n",
    "plt.show()"
   ]
  },
  {
   "cell_type": "code",
   "execution_count": 83,
   "id": "09b84c3e",
   "metadata": {},
   "outputs": [
    {
     "data": {
      "image/png": "[encoded data removed]",
      "text/plain": [
       "<Figure size 576x360 with 1 Axes>"
      ]
     },
     "metadata": {
      "needs_background": "light"
     },
     "output_type": "display_data"
    }
   ],
   "source": [
    "# Plotting accuracy score from model's history\n",
    "\n",
    "plt.figure(figsize=(8,5))\n",
    "plt.plot(history.history['accuracy'], label = 'train accuracy')\n",
    "plt.plot(history.history['val_accuracy'], label = 'test accuracy') \n",
    "plt.title('Accuracy of the Train and Test Subsets for the CNN Classifier')\n",
    "plt.legend(['train accuracy', 'test accuracy'])\n",
    "plt.show()"
   ]
  },
  {
   "cell_type": "markdown",
   "id": "a24d521b",
   "metadata": {},
   "source": [
    "(c) What is the accuracy score of your CNN classifier? What is the accuracy score of a sharp classifier for this problem? Carefully assess the performance of the CNN classifier constructed in part (b)."
   ]
  },
  {
   "cell_type": "markdown",
   "id": "dde1ae53",
   "metadata": {},
   "source": [
    "The accuracy of the CNN classifier is The accuracy score of the CNN classifier on the validation set is 0.9900 (as reported in the validation accuracy during the last epoch of training).The sharp classifer accuracy differs for the positive and negative classes because of number of instances. If we assume all fell in positive class i.e (2 or 7) then accuracy is around 20.9 percent. If we assume all fell in negative class then accuracy will be 79.06 percentage.\n",
    "\n",
    "By observing the graph the CNN model pretty well classifies the data as required. The elbow describes the trainng loss decreases rapidly while training and test loss decreases in the starting stage.Overall the model classifies well with no signs of overfitting."
   ]
  },
  {
   "cell_type": "markdown",
   "id": "3da68571",
   "metadata": {},
   "source": [
    "4. Dimensionality Reduction and Clustering of Food Items: For this problem, use the\n",
    "csv file food-nutrients.csv. This csv file which has been published by the U.S. Department\n",
    "of Agriculture (USDA) consists of 8618 food items for which different food nutrients have\n",
    "been measured. The goal in this exercise is twofold. Since the dataset includes too many\n",
    "features, you will first use the principal component analysis to reduce the dimensionality of\n",
    "the dataset. In the next step, you will apply clustering algorithms to partition the food items\n",
    "into a number of clusters. In order to solve this exercise, proceed as follows:"
   ]
  },
  {
   "cell_type": "markdown",
   "id": "38cc3460",
   "metadata": {},
   "source": [
    "(a) Read the csv file into a dataframe. How many columns does the dataset have? Three\n",
    "columns of the dataset (CommonName, MfgName, and ScientificName) have a large num\u0002ber of missing values. Drop these 3 columns. The dataframe should now has 42 columns."
   ]
  },
  {
   "cell_type": "code",
   "execution_count": 190,
   "id": "8d0fad54",
   "metadata": {},
   "outputs": [
    {
     "name": "stdout",
     "output_type": "stream",
     "text": [
      "The dataframe now has 42 columns.\n"
     ]
    }
   ],
   "source": [
    "import pandas as pd\n",
    "\n",
    "# Read the CSV file\n",
    "df = pd.read_csv('food-nutrients.csv')\n",
    "\n",
    "# Drop the three columns with a large number of missing values\n",
    "df.drop(['CommonName', 'MfgName', 'ScientificName'], axis=1, inplace=True)\n",
    "\n",
    "# Check the number of columns in the resulting dataframe\n",
    "print(f\"The dataframe now has {len(df.columns)} columns.\")\n"
   ]
  },
  {
   "cell_type": "code",
   "execution_count": 191,
   "id": "507bf648",
   "metadata": {},
   "outputs": [
    {
     "data": {
      "text/html": [
       "<div>\n",
       "<style scoped>\n",
       "    .dataframe tbody tr th:only-of-type {\n",
       "        vertical-align: middle;\n",
       "    }\n",
       "\n",
       "    .dataframe tbody tr th {\n",
       "        vertical-align: top;\n",
       "    }\n",
       "\n",
       "    .dataframe thead th {\n",
       "        text-align: right;\n",
       "    }\n",
       "</style>\n",
       "<table border=\"1\" class=\"dataframe\">\n",
       "  <thead>\n",
       "    <tr style=\"text-align: right;\">\n",
       "      <th></th>\n",
       "      <th>ID</th>\n",
       "      <th>FoodGroup</th>\n",
       "      <th>ShortDescrip</th>\n",
       "      <th>Descrip</th>\n",
       "      <th>Energy_kcal</th>\n",
       "      <th>Protein_g</th>\n",
       "      <th>Fat_g</th>\n",
       "      <th>Carb_g</th>\n",
       "      <th>Sugar_g</th>\n",
       "      <th>Fiber_g</th>\n",
       "      <th>...</th>\n",
       "      <th>Folate_USRDA</th>\n",
       "      <th>Niacin_USRDA</th>\n",
       "      <th>Riboflavin_USRDA</th>\n",
       "      <th>Thiamin_USRDA</th>\n",
       "      <th>Calcium_USRDA</th>\n",
       "      <th>Copper_USRDA</th>\n",
       "      <th>Magnesium_USRDA</th>\n",
       "      <th>Phosphorus_USRDA</th>\n",
       "      <th>Selenium_USRDA</th>\n",
       "      <th>Zinc_USRDA</th>\n",
       "    </tr>\n",
       "  </thead>\n",
       "  <tbody>\n",
       "    <tr>\n",
       "      <th>0</th>\n",
       "      <td>1001</td>\n",
       "      <td>Dairy and Egg Products</td>\n",
       "      <td>BUTTER,WITH SALT</td>\n",
       "      <td>Butter, salted</td>\n",
       "      <td>717.0</td>\n",
       "      <td>0.85</td>\n",
       "      <td>81.11</td>\n",
       "      <td>0.06</td>\n",
       "      <td>0.06</td>\n",
       "      <td>0.0</td>\n",
       "      <td>...</td>\n",
       "      <td>0.0075</td>\n",
       "      <td>0.002625</td>\n",
       "      <td>0.026154</td>\n",
       "      <td>0.004167</td>\n",
       "      <td>0.020000</td>\n",
       "      <td>0.000000</td>\n",
       "      <td>0.004762</td>\n",
       "      <td>0.034286</td>\n",
       "      <td>0.018182</td>\n",
       "      <td>0.008182</td>\n",
       "    </tr>\n",
       "    <tr>\n",
       "      <th>1</th>\n",
       "      <td>1002</td>\n",
       "      <td>Dairy and Egg Products</td>\n",
       "      <td>BUTTER,WHIPPED,WITH SALT</td>\n",
       "      <td>Butter, whipped, with salt</td>\n",
       "      <td>717.0</td>\n",
       "      <td>0.85</td>\n",
       "      <td>81.11</td>\n",
       "      <td>0.06</td>\n",
       "      <td>0.06</td>\n",
       "      <td>0.0</td>\n",
       "      <td>...</td>\n",
       "      <td>0.0075</td>\n",
       "      <td>0.002625</td>\n",
       "      <td>0.026154</td>\n",
       "      <td>0.004167</td>\n",
       "      <td>0.020000</td>\n",
       "      <td>0.000018</td>\n",
       "      <td>0.004762</td>\n",
       "      <td>0.032857</td>\n",
       "      <td>0.018182</td>\n",
       "      <td>0.004545</td>\n",
       "    </tr>\n",
       "    <tr>\n",
       "      <th>2</th>\n",
       "      <td>1003</td>\n",
       "      <td>Dairy and Egg Products</td>\n",
       "      <td>BUTTER OIL,ANHYDROUS</td>\n",
       "      <td>Butter oil, anhydrous</td>\n",
       "      <td>876.0</td>\n",
       "      <td>0.28</td>\n",
       "      <td>99.48</td>\n",
       "      <td>0.00</td>\n",
       "      <td>0.00</td>\n",
       "      <td>0.0</td>\n",
       "      <td>...</td>\n",
       "      <td>0.0000</td>\n",
       "      <td>0.000188</td>\n",
       "      <td>0.003846</td>\n",
       "      <td>0.000833</td>\n",
       "      <td>0.003333</td>\n",
       "      <td>0.000001</td>\n",
       "      <td>0.000000</td>\n",
       "      <td>0.004286</td>\n",
       "      <td>0.000000</td>\n",
       "      <td>0.000909</td>\n",
       "    </tr>\n",
       "    <tr>\n",
       "      <th>3</th>\n",
       "      <td>1004</td>\n",
       "      <td>Dairy and Egg Products</td>\n",
       "      <td>CHEESE,BLUE</td>\n",
       "      <td>Cheese, blue</td>\n",
       "      <td>353.0</td>\n",
       "      <td>21.40</td>\n",
       "      <td>28.74</td>\n",
       "      <td>2.34</td>\n",
       "      <td>0.50</td>\n",
       "      <td>0.0</td>\n",
       "      <td>...</td>\n",
       "      <td>0.0900</td>\n",
       "      <td>0.063500</td>\n",
       "      <td>0.293846</td>\n",
       "      <td>0.024167</td>\n",
       "      <td>0.440000</td>\n",
       "      <td>0.000044</td>\n",
       "      <td>0.054762</td>\n",
       "      <td>0.552857</td>\n",
       "      <td>0.263636</td>\n",
       "      <td>0.241818</td>\n",
       "    </tr>\n",
       "    <tr>\n",
       "      <th>4</th>\n",
       "      <td>1005</td>\n",
       "      <td>Dairy and Egg Products</td>\n",
       "      <td>CHEESE,BRICK</td>\n",
       "      <td>Cheese, brick</td>\n",
       "      <td>371.0</td>\n",
       "      <td>23.24</td>\n",
       "      <td>29.68</td>\n",
       "      <td>2.79</td>\n",
       "      <td>0.51</td>\n",
       "      <td>0.0</td>\n",
       "      <td>...</td>\n",
       "      <td>0.0500</td>\n",
       "      <td>0.007375</td>\n",
       "      <td>0.270000</td>\n",
       "      <td>0.011667</td>\n",
       "      <td>0.561667</td>\n",
       "      <td>0.000027</td>\n",
       "      <td>0.057143</td>\n",
       "      <td>0.644286</td>\n",
       "      <td>0.263636</td>\n",
       "      <td>0.236364</td>\n",
       "    </tr>\n",
       "  </tbody>\n",
       "</table>\n",
       "<p>5 rows × 42 columns</p>\n",
       "</div>"
      ],
      "text/plain": [
       "     ID               FoodGroup              ShortDescrip  \\\n",
       "0  1001  Dairy and Egg Products          BUTTER,WITH SALT   \n",
       "1  1002  Dairy and Egg Products  BUTTER,WHIPPED,WITH SALT   \n",
       "2  1003  Dairy and Egg Products      BUTTER OIL,ANHYDROUS   \n",
       "3  1004  Dairy and Egg Products               CHEESE,BLUE   \n",
       "4  1005  Dairy and Egg Products              CHEESE,BRICK   \n",
       "\n",
       "                      Descrip  Energy_kcal  Protein_g  Fat_g  Carb_g  Sugar_g  \\\n",
       "0              Butter, salted        717.0       0.85  81.11    0.06     0.06   \n",
       "1  Butter, whipped, with salt        717.0       0.85  81.11    0.06     0.06   \n",
       "2       Butter oil, anhydrous        876.0       0.28  99.48    0.00     0.00   \n",
       "3                Cheese, blue        353.0      21.40  28.74    2.34     0.50   \n",
       "4               Cheese, brick        371.0      23.24  29.68    2.79     0.51   \n",
       "\n",
       "   Fiber_g  ...  Folate_USRDA  Niacin_USRDA  Riboflavin_USRDA  Thiamin_USRDA  \\\n",
       "0      0.0  ...        0.0075      0.002625          0.026154       0.004167   \n",
       "1      0.0  ...        0.0075      0.002625          0.026154       0.004167   \n",
       "2      0.0  ...        0.0000      0.000188          0.003846       0.000833   \n",
       "3      0.0  ...        0.0900      0.063500          0.293846       0.024167   \n",
       "4      0.0  ...        0.0500      0.007375          0.270000       0.011667   \n",
       "\n",
       "   Calcium_USRDA  Copper_USRDA  Magnesium_USRDA  Phosphorus_USRDA  \\\n",
       "0       0.020000      0.000000         0.004762          0.034286   \n",
       "1       0.020000      0.000018         0.004762          0.032857   \n",
       "2       0.003333      0.000001         0.000000          0.004286   \n",
       "3       0.440000      0.000044         0.054762          0.552857   \n",
       "4       0.561667      0.000027         0.057143          0.644286   \n",
       "\n",
       "   Selenium_USRDA  Zinc_USRDA  \n",
       "0        0.018182    0.008182  \n",
       "1        0.018182    0.004545  \n",
       "2        0.000000    0.000909  \n",
       "3        0.263636    0.241818  \n",
       "4        0.263636    0.236364  \n",
       "\n",
       "[5 rows x 42 columns]"
      ]
     },
     "execution_count": 191,
     "metadata": {},
     "output_type": "execute_result"
    }
   ],
   "source": [
    "df.head()"
   ]
  },
  {
   "cell_type": "markdown",
   "id": "8e5a2e49",
   "metadata": {},
   "source": [
    "(b) The dataframe possesses 15 columns that include USRDA in their column titles. USRDA\n",
    "stands for “U.S. Recommended Daily Allowance.” The USRDA measure was developed\n",
    "by the Food and Drug Administration (FDA) since 1972, and this measure is specifically\n",
    "developed for the use in nutritional labeling. In our analysis, we are not interested in\n",
    "USRDA’s, and we solely focus on the nutrients of food items. Drop all 15 columns that\n",
    "have USRDA in their title. Try to do this in an automatic manner (Search for the term\n",
    "USRDA in the titles of columns, and if the term USRDA is found, drop the corresponding\n",
    "column). After dropping USRDA columns, your dataframe should possess 27 columns\n",
    "four of which are categorical (ID, FoodGroup, ShortDescrip, and Descrip). The remaining\n",
    "23 columns are continuous features that record the food nutrients, and you will focus on\n",
    "these columns for the rest of the exercise."
   ]
  },
  {
   "cell_type": "code",
   "execution_count": 192,
   "id": "404c6df2",
   "metadata": {},
   "outputs": [
    {
     "name": "stdout",
     "output_type": "stream",
     "text": [
      "The dataframe now has 27 columns.\n"
     ]
    }
   ],
   "source": [
    "# Drop all columns that have \"USRDA\" in their title\n",
    "df.drop(df.filter(regex='USRDA').columns, axis=1, inplace=True)\n",
    "\n",
    "# Check the resulting dataframe\n",
    "print(f\"The dataframe now has {len(df.columns)} columns.\")"
   ]
  },
  {
   "cell_type": "code",
   "execution_count": 193,
   "id": "e9e20d6e",
   "metadata": {},
   "outputs": [
    {
     "data": {
      "text/html": [
       "<div>\n",
       "<style scoped>\n",
       "    .dataframe tbody tr th:only-of-type {\n",
       "        vertical-align: middle;\n",
       "    }\n",
       "\n",
       "    .dataframe tbody tr th {\n",
       "        vertical-align: top;\n",
       "    }\n",
       "\n",
       "    .dataframe thead th {\n",
       "        text-align: right;\n",
       "    }\n",
       "</style>\n",
       "<table border=\"1\" class=\"dataframe\">\n",
       "  <thead>\n",
       "    <tr style=\"text-align: right;\">\n",
       "      <th></th>\n",
       "      <th>ID</th>\n",
       "      <th>FoodGroup</th>\n",
       "      <th>ShortDescrip</th>\n",
       "      <th>Descrip</th>\n",
       "      <th>Energy_kcal</th>\n",
       "      <th>Protein_g</th>\n",
       "      <th>Fat_g</th>\n",
       "      <th>Carb_g</th>\n",
       "      <th>Sugar_g</th>\n",
       "      <th>Fiber_g</th>\n",
       "      <th>...</th>\n",
       "      <th>Riboflavin_mg</th>\n",
       "      <th>Thiamin_mg</th>\n",
       "      <th>Calcium_mg</th>\n",
       "      <th>Copper_mcg</th>\n",
       "      <th>Iron_mg</th>\n",
       "      <th>Magnesium_mg</th>\n",
       "      <th>Manganese_mg</th>\n",
       "      <th>Phosphorus_mg</th>\n",
       "      <th>Selenium_mcg</th>\n",
       "      <th>Zinc_mg</th>\n",
       "    </tr>\n",
       "  </thead>\n",
       "  <tbody>\n",
       "    <tr>\n",
       "      <th>0</th>\n",
       "      <td>1001</td>\n",
       "      <td>Dairy and Egg Products</td>\n",
       "      <td>BUTTER,WITH SALT</td>\n",
       "      <td>Butter, salted</td>\n",
       "      <td>717.0</td>\n",
       "      <td>0.85</td>\n",
       "      <td>81.11</td>\n",
       "      <td>0.06</td>\n",
       "      <td>0.06</td>\n",
       "      <td>0.0</td>\n",
       "      <td>...</td>\n",
       "      <td>0.034</td>\n",
       "      <td>0.005</td>\n",
       "      <td>24.0</td>\n",
       "      <td>0.000</td>\n",
       "      <td>0.02</td>\n",
       "      <td>2.0</td>\n",
       "      <td>0.000</td>\n",
       "      <td>24.0</td>\n",
       "      <td>1.0</td>\n",
       "      <td>0.09</td>\n",
       "    </tr>\n",
       "    <tr>\n",
       "      <th>1</th>\n",
       "      <td>1002</td>\n",
       "      <td>Dairy and Egg Products</td>\n",
       "      <td>BUTTER,WHIPPED,WITH SALT</td>\n",
       "      <td>Butter, whipped, with salt</td>\n",
       "      <td>717.0</td>\n",
       "      <td>0.85</td>\n",
       "      <td>81.11</td>\n",
       "      <td>0.06</td>\n",
       "      <td>0.06</td>\n",
       "      <td>0.0</td>\n",
       "      <td>...</td>\n",
       "      <td>0.034</td>\n",
       "      <td>0.005</td>\n",
       "      <td>24.0</td>\n",
       "      <td>0.016</td>\n",
       "      <td>0.16</td>\n",
       "      <td>2.0</td>\n",
       "      <td>0.004</td>\n",
       "      <td>23.0</td>\n",
       "      <td>1.0</td>\n",
       "      <td>0.05</td>\n",
       "    </tr>\n",
       "    <tr>\n",
       "      <th>2</th>\n",
       "      <td>1003</td>\n",
       "      <td>Dairy and Egg Products</td>\n",
       "      <td>BUTTER OIL,ANHYDROUS</td>\n",
       "      <td>Butter oil, anhydrous</td>\n",
       "      <td>876.0</td>\n",
       "      <td>0.28</td>\n",
       "      <td>99.48</td>\n",
       "      <td>0.00</td>\n",
       "      <td>0.00</td>\n",
       "      <td>0.0</td>\n",
       "      <td>...</td>\n",
       "      <td>0.005</td>\n",
       "      <td>0.001</td>\n",
       "      <td>4.0</td>\n",
       "      <td>0.001</td>\n",
       "      <td>0.00</td>\n",
       "      <td>0.0</td>\n",
       "      <td>0.000</td>\n",
       "      <td>3.0</td>\n",
       "      <td>0.0</td>\n",
       "      <td>0.01</td>\n",
       "    </tr>\n",
       "    <tr>\n",
       "      <th>3</th>\n",
       "      <td>1004</td>\n",
       "      <td>Dairy and Egg Products</td>\n",
       "      <td>CHEESE,BLUE</td>\n",
       "      <td>Cheese, blue</td>\n",
       "      <td>353.0</td>\n",
       "      <td>21.40</td>\n",
       "      <td>28.74</td>\n",
       "      <td>2.34</td>\n",
       "      <td>0.50</td>\n",
       "      <td>0.0</td>\n",
       "      <td>...</td>\n",
       "      <td>0.382</td>\n",
       "      <td>0.029</td>\n",
       "      <td>528.0</td>\n",
       "      <td>0.040</td>\n",
       "      <td>0.31</td>\n",
       "      <td>23.0</td>\n",
       "      <td>0.009</td>\n",
       "      <td>387.0</td>\n",
       "      <td>14.5</td>\n",
       "      <td>2.66</td>\n",
       "    </tr>\n",
       "    <tr>\n",
       "      <th>4</th>\n",
       "      <td>1005</td>\n",
       "      <td>Dairy and Egg Products</td>\n",
       "      <td>CHEESE,BRICK</td>\n",
       "      <td>Cheese, brick</td>\n",
       "      <td>371.0</td>\n",
       "      <td>23.24</td>\n",
       "      <td>29.68</td>\n",
       "      <td>2.79</td>\n",
       "      <td>0.51</td>\n",
       "      <td>0.0</td>\n",
       "      <td>...</td>\n",
       "      <td>0.351</td>\n",
       "      <td>0.014</td>\n",
       "      <td>674.0</td>\n",
       "      <td>0.024</td>\n",
       "      <td>0.43</td>\n",
       "      <td>24.0</td>\n",
       "      <td>0.012</td>\n",
       "      <td>451.0</td>\n",
       "      <td>14.5</td>\n",
       "      <td>2.60</td>\n",
       "    </tr>\n",
       "  </tbody>\n",
       "</table>\n",
       "<p>5 rows × 27 columns</p>\n",
       "</div>"
      ],
      "text/plain": [
       "     ID               FoodGroup              ShortDescrip  \\\n",
       "0  1001  Dairy and Egg Products          BUTTER,WITH SALT   \n",
       "1  1002  Dairy and Egg Products  BUTTER,WHIPPED,WITH SALT   \n",
       "2  1003  Dairy and Egg Products      BUTTER OIL,ANHYDROUS   \n",
       "3  1004  Dairy and Egg Products               CHEESE,BLUE   \n",
       "4  1005  Dairy and Egg Products              CHEESE,BRICK   \n",
       "\n",
       "                      Descrip  Energy_kcal  Protein_g  Fat_g  Carb_g  Sugar_g  \\\n",
       "0              Butter, salted        717.0       0.85  81.11    0.06     0.06   \n",
       "1  Butter, whipped, with salt        717.0       0.85  81.11    0.06     0.06   \n",
       "2       Butter oil, anhydrous        876.0       0.28  99.48    0.00     0.00   \n",
       "3                Cheese, blue        353.0      21.40  28.74    2.34     0.50   \n",
       "4               Cheese, brick        371.0      23.24  29.68    2.79     0.51   \n",
       "\n",
       "   Fiber_g  ...  Riboflavin_mg  Thiamin_mg  Calcium_mg  Copper_mcg  Iron_mg  \\\n",
       "0      0.0  ...          0.034       0.005        24.0       0.000     0.02   \n",
       "1      0.0  ...          0.034       0.005        24.0       0.016     0.16   \n",
       "2      0.0  ...          0.005       0.001         4.0       0.001     0.00   \n",
       "3      0.0  ...          0.382       0.029       528.0       0.040     0.31   \n",
       "4      0.0  ...          0.351       0.014       674.0       0.024     0.43   \n",
       "\n",
       "   Magnesium_mg  Manganese_mg  Phosphorus_mg  Selenium_mcg  Zinc_mg  \n",
       "0           2.0         0.000           24.0           1.0     0.09  \n",
       "1           2.0         0.004           23.0           1.0     0.05  \n",
       "2           0.0         0.000            3.0           0.0     0.01  \n",
       "3          23.0         0.009          387.0          14.5     2.66  \n",
       "4          24.0         0.012          451.0          14.5     2.60  \n",
       "\n",
       "[5 rows x 27 columns]"
      ]
     },
     "execution_count": 193,
     "metadata": {},
     "output_type": "execute_result"
    }
   ],
   "source": [
    "df.head()"
   ]
  },
  {
   "cell_type": "code",
   "execution_count": 194,
   "id": "7635edd4",
   "metadata": {},
   "outputs": [
    {
     "name": "stdout",
     "output_type": "stream",
     "text": [
      "The dataframe now has 23 columns.\n"
     ]
    }
   ],
   "source": [
    "# Keep only the continuous feature columns\n",
    "continuous_features = [col for col in df.columns if col not in ['ID', 'FoodGroup', 'ShortDescrip', 'Descrip']]\n",
    "df_continuous = df[continuous_features]\n",
    "df_cat=df[['ID', 'FoodGroup', 'ShortDescrip', 'Descrip']]\n",
    "\n",
    "# Check the resulting dataframe\n",
    "print(f\"The dataframe now has {len(df_continuous.columns)} columns.\")"
   ]
  },
  {
   "cell_type": "code",
   "execution_count": 195,
   "id": "e18f578e",
   "metadata": {},
   "outputs": [
    {
     "data": {
      "text/html": [
       "<div>\n",
       "<style scoped>\n",
       "    .dataframe tbody tr th:only-of-type {\n",
       "        vertical-align: middle;\n",
       "    }\n",
       "\n",
       "    .dataframe tbody tr th {\n",
       "        vertical-align: top;\n",
       "    }\n",
       "\n",
       "    .dataframe thead th {\n",
       "        text-align: right;\n",
       "    }\n",
       "</style>\n",
       "<table border=\"1\" class=\"dataframe\">\n",
       "  <thead>\n",
       "    <tr style=\"text-align: right;\">\n",
       "      <th></th>\n",
       "      <th>Energy_kcal</th>\n",
       "      <th>Protein_g</th>\n",
       "      <th>Fat_g</th>\n",
       "      <th>Carb_g</th>\n",
       "      <th>Sugar_g</th>\n",
       "      <th>Fiber_g</th>\n",
       "      <th>VitA_mcg</th>\n",
       "      <th>VitB6_mg</th>\n",
       "      <th>VitB12_mcg</th>\n",
       "      <th>VitC_mg</th>\n",
       "      <th>...</th>\n",
       "      <th>Riboflavin_mg</th>\n",
       "      <th>Thiamin_mg</th>\n",
       "      <th>Calcium_mg</th>\n",
       "      <th>Copper_mcg</th>\n",
       "      <th>Iron_mg</th>\n",
       "      <th>Magnesium_mg</th>\n",
       "      <th>Manganese_mg</th>\n",
       "      <th>Phosphorus_mg</th>\n",
       "      <th>Selenium_mcg</th>\n",
       "      <th>Zinc_mg</th>\n",
       "    </tr>\n",
       "  </thead>\n",
       "  <tbody>\n",
       "    <tr>\n",
       "      <th>0</th>\n",
       "      <td>717.0</td>\n",
       "      <td>0.85</td>\n",
       "      <td>81.11</td>\n",
       "      <td>0.06</td>\n",
       "      <td>0.06</td>\n",
       "      <td>0.0</td>\n",
       "      <td>684.0</td>\n",
       "      <td>0.003</td>\n",
       "      <td>0.17</td>\n",
       "      <td>0.0</td>\n",
       "      <td>...</td>\n",
       "      <td>0.034</td>\n",
       "      <td>0.005</td>\n",
       "      <td>24.0</td>\n",
       "      <td>0.000</td>\n",
       "      <td>0.02</td>\n",
       "      <td>2.0</td>\n",
       "      <td>0.000</td>\n",
       "      <td>24.0</td>\n",
       "      <td>1.0</td>\n",
       "      <td>0.09</td>\n",
       "    </tr>\n",
       "    <tr>\n",
       "      <th>1</th>\n",
       "      <td>717.0</td>\n",
       "      <td>0.85</td>\n",
       "      <td>81.11</td>\n",
       "      <td>0.06</td>\n",
       "      <td>0.06</td>\n",
       "      <td>0.0</td>\n",
       "      <td>684.0</td>\n",
       "      <td>0.003</td>\n",
       "      <td>0.13</td>\n",
       "      <td>0.0</td>\n",
       "      <td>...</td>\n",
       "      <td>0.034</td>\n",
       "      <td>0.005</td>\n",
       "      <td>24.0</td>\n",
       "      <td>0.016</td>\n",
       "      <td>0.16</td>\n",
       "      <td>2.0</td>\n",
       "      <td>0.004</td>\n",
       "      <td>23.0</td>\n",
       "      <td>1.0</td>\n",
       "      <td>0.05</td>\n",
       "    </tr>\n",
       "    <tr>\n",
       "      <th>2</th>\n",
       "      <td>876.0</td>\n",
       "      <td>0.28</td>\n",
       "      <td>99.48</td>\n",
       "      <td>0.00</td>\n",
       "      <td>0.00</td>\n",
       "      <td>0.0</td>\n",
       "      <td>840.0</td>\n",
       "      <td>0.001</td>\n",
       "      <td>0.01</td>\n",
       "      <td>0.0</td>\n",
       "      <td>...</td>\n",
       "      <td>0.005</td>\n",
       "      <td>0.001</td>\n",
       "      <td>4.0</td>\n",
       "      <td>0.001</td>\n",
       "      <td>0.00</td>\n",
       "      <td>0.0</td>\n",
       "      <td>0.000</td>\n",
       "      <td>3.0</td>\n",
       "      <td>0.0</td>\n",
       "      <td>0.01</td>\n",
       "    </tr>\n",
       "    <tr>\n",
       "      <th>3</th>\n",
       "      <td>353.0</td>\n",
       "      <td>21.40</td>\n",
       "      <td>28.74</td>\n",
       "      <td>2.34</td>\n",
       "      <td>0.50</td>\n",
       "      <td>0.0</td>\n",
       "      <td>198.0</td>\n",
       "      <td>0.166</td>\n",
       "      <td>1.22</td>\n",
       "      <td>0.0</td>\n",
       "      <td>...</td>\n",
       "      <td>0.382</td>\n",
       "      <td>0.029</td>\n",
       "      <td>528.0</td>\n",
       "      <td>0.040</td>\n",
       "      <td>0.31</td>\n",
       "      <td>23.0</td>\n",
       "      <td>0.009</td>\n",
       "      <td>387.0</td>\n",
       "      <td>14.5</td>\n",
       "      <td>2.66</td>\n",
       "    </tr>\n",
       "    <tr>\n",
       "      <th>4</th>\n",
       "      <td>371.0</td>\n",
       "      <td>23.24</td>\n",
       "      <td>29.68</td>\n",
       "      <td>2.79</td>\n",
       "      <td>0.51</td>\n",
       "      <td>0.0</td>\n",
       "      <td>292.0</td>\n",
       "      <td>0.065</td>\n",
       "      <td>1.26</td>\n",
       "      <td>0.0</td>\n",
       "      <td>...</td>\n",
       "      <td>0.351</td>\n",
       "      <td>0.014</td>\n",
       "      <td>674.0</td>\n",
       "      <td>0.024</td>\n",
       "      <td>0.43</td>\n",
       "      <td>24.0</td>\n",
       "      <td>0.012</td>\n",
       "      <td>451.0</td>\n",
       "      <td>14.5</td>\n",
       "      <td>2.60</td>\n",
       "    </tr>\n",
       "  </tbody>\n",
       "</table>\n",
       "<p>5 rows × 23 columns</p>\n",
       "</div>"
      ],
      "text/plain": [
       "   Energy_kcal  Protein_g  Fat_g  Carb_g  Sugar_g  Fiber_g  VitA_mcg  \\\n",
       "0        717.0       0.85  81.11    0.06     0.06      0.0     684.0   \n",
       "1        717.0       0.85  81.11    0.06     0.06      0.0     684.0   \n",
       "2        876.0       0.28  99.48    0.00     0.00      0.0     840.0   \n",
       "3        353.0      21.40  28.74    2.34     0.50      0.0     198.0   \n",
       "4        371.0      23.24  29.68    2.79     0.51      0.0     292.0   \n",
       "\n",
       "   VitB6_mg  VitB12_mcg  VitC_mg  ...  Riboflavin_mg  Thiamin_mg  Calcium_mg  \\\n",
       "0     0.003        0.17      0.0  ...          0.034       0.005        24.0   \n",
       "1     0.003        0.13      0.0  ...          0.034       0.005        24.0   \n",
       "2     0.001        0.01      0.0  ...          0.005       0.001         4.0   \n",
       "3     0.166        1.22      0.0  ...          0.382       0.029       528.0   \n",
       "4     0.065        1.26      0.0  ...          0.351       0.014       674.0   \n",
       "\n",
       "   Copper_mcg  Iron_mg  Magnesium_mg  Manganese_mg  Phosphorus_mg  \\\n",
       "0       0.000     0.02           2.0         0.000           24.0   \n",
       "1       0.016     0.16           2.0         0.004           23.0   \n",
       "2       0.001     0.00           0.0         0.000            3.0   \n",
       "3       0.040     0.31          23.0         0.009          387.0   \n",
       "4       0.024     0.43          24.0         0.012          451.0   \n",
       "\n",
       "   Selenium_mcg  Zinc_mg  \n",
       "0           1.0     0.09  \n",
       "1           1.0     0.05  \n",
       "2           0.0     0.01  \n",
       "3          14.5     2.66  \n",
       "4          14.5     2.60  \n",
       "\n",
       "[5 rows x 23 columns]"
      ]
     },
     "execution_count": 195,
     "metadata": {},
     "output_type": "execute_result"
    }
   ],
   "source": [
    "df_continuous.head()"
   ]
  },
  {
   "cell_type": "markdown",
   "id": "1a3e6394",
   "metadata": {},
   "source": [
    "(c) Standardize the data. After standardization, all the 23 continuous features will be\n",
    "dimensionless."
   ]
  },
  {
   "cell_type": "code",
   "execution_count": 196,
   "id": "42c0cac2",
   "metadata": {},
   "outputs": [
    {
     "data": {
      "text/html": [
       "<div>\n",
       "<style scoped>\n",
       "    .dataframe tbody tr th:only-of-type {\n",
       "        vertical-align: middle;\n",
       "    }\n",
       "\n",
       "    .dataframe tbody tr th {\n",
       "        vertical-align: top;\n",
       "    }\n",
       "\n",
       "    .dataframe thead th {\n",
       "        text-align: right;\n",
       "    }\n",
       "</style>\n",
       "<table border=\"1\" class=\"dataframe\">\n",
       "  <thead>\n",
       "    <tr style=\"text-align: right;\">\n",
       "      <th></th>\n",
       "      <th>Energy_kcal</th>\n",
       "      <th>Protein_g</th>\n",
       "      <th>Fat_g</th>\n",
       "      <th>Carb_g</th>\n",
       "      <th>Sugar_g</th>\n",
       "      <th>Fiber_g</th>\n",
       "      <th>VitA_mcg</th>\n",
       "      <th>VitB6_mg</th>\n",
       "      <th>VitB12_mcg</th>\n",
       "      <th>VitC_mg</th>\n",
       "      <th>...</th>\n",
       "      <th>Riboflavin_mg</th>\n",
       "      <th>Thiamin_mg</th>\n",
       "      <th>Calcium_mg</th>\n",
       "      <th>Copper_mcg</th>\n",
       "      <th>Iron_mg</th>\n",
       "      <th>Magnesium_mg</th>\n",
       "      <th>Manganese_mg</th>\n",
       "      <th>Phosphorus_mg</th>\n",
       "      <th>Selenium_mcg</th>\n",
       "      <th>Zinc_mg</th>\n",
       "    </tr>\n",
       "  </thead>\n",
       "  <tbody>\n",
       "    <tr>\n",
       "      <th>0</th>\n",
       "      <td>2.896234</td>\n",
       "      <td>-1.011747</td>\n",
       "      <td>4.441289</td>\n",
       "      <td>-0.798867</td>\n",
       "      <td>-0.477914</td>\n",
       "      <td>-0.469058</td>\n",
       "      <td>0.757113</td>\n",
       "      <td>-0.546128</td>\n",
       "      <td>-0.244334</td>\n",
       "      <td>-0.137643</td>\n",
       "      <td>...</td>\n",
       "      <td>-0.451809</td>\n",
       "      <td>-0.395218</td>\n",
       "      <td>-0.245398</td>\n",
       "      <td>-0.311347</td>\n",
       "      <td>-0.467425</td>\n",
       "      <td>-0.548385</td>\n",
       "      <td>-0.079028</td>\n",
       "      <td>-0.649918</td>\n",
       "      <td>-0.410557</td>\n",
       "      <td>-0.559918</td>\n",
       "    </tr>\n",
       "    <tr>\n",
       "      <th>1</th>\n",
       "      <td>2.896234</td>\n",
       "      <td>-1.011747</td>\n",
       "      <td>4.441289</td>\n",
       "      <td>-0.798867</td>\n",
       "      <td>-0.477914</td>\n",
       "      <td>-0.469058</td>\n",
       "      <td>0.757113</td>\n",
       "      <td>-0.546128</td>\n",
       "      <td>-0.253595</td>\n",
       "      <td>-0.137643</td>\n",
       "      <td>...</td>\n",
       "      <td>-0.451809</td>\n",
       "      <td>-0.395218</td>\n",
       "      <td>-0.245398</td>\n",
       "      <td>-0.282415</td>\n",
       "      <td>-0.442978</td>\n",
       "      <td>-0.548385</td>\n",
       "      <td>-0.078401</td>\n",
       "      <td>-0.654842</td>\n",
       "      <td>-0.410557</td>\n",
       "      <td>-0.571830</td>\n",
       "    </tr>\n",
       "    <tr>\n",
       "      <th>2</th>\n",
       "      <td>3.834956</td>\n",
       "      <td>-1.065776</td>\n",
       "      <td>5.599153</td>\n",
       "      <td>-0.801069</td>\n",
       "      <td>-0.482325</td>\n",
       "      <td>-0.469058</td>\n",
       "      <td>0.957289</td>\n",
       "      <td>-0.550307</td>\n",
       "      <td>-0.281380</td>\n",
       "      <td>-0.137643</td>\n",
       "      <td>...</td>\n",
       "      <td>-0.516275</td>\n",
       "      <td>-0.402935</td>\n",
       "      <td>-0.344726</td>\n",
       "      <td>-0.309539</td>\n",
       "      <td>-0.470917</td>\n",
       "      <td>-0.584057</td>\n",
       "      <td>-0.079028</td>\n",
       "      <td>-0.753325</td>\n",
       "      <td>-0.445904</td>\n",
       "      <td>-0.583742</td>\n",
       "    </tr>\n",
       "    <tr>\n",
       "      <th>3</th>\n",
       "      <td>0.747208</td>\n",
       "      <td>0.936124</td>\n",
       "      <td>1.140402</td>\n",
       "      <td>-0.715158</td>\n",
       "      <td>-0.445564</td>\n",
       "      <td>-0.469058</td>\n",
       "      <td>0.133490</td>\n",
       "      <td>-0.205541</td>\n",
       "      <td>-0.001218</td>\n",
       "      <td>-0.137643</td>\n",
       "      <td>...</td>\n",
       "      <td>0.321775</td>\n",
       "      <td>-0.348916</td>\n",
       "      <td>2.257682</td>\n",
       "      <td>-0.239017</td>\n",
       "      <td>-0.416784</td>\n",
       "      <td>-0.173821</td>\n",
       "      <td>-0.077618</td>\n",
       "      <td>1.137542</td>\n",
       "      <td>0.066632</td>\n",
       "      <td>0.205414</td>\n",
       "    </tr>\n",
       "    <tr>\n",
       "      <th>4</th>\n",
       "      <td>0.853478</td>\n",
       "      <td>1.110532</td>\n",
       "      <td>1.199651</td>\n",
       "      <td>-0.698637</td>\n",
       "      <td>-0.444829</td>\n",
       "      <td>-0.469058</td>\n",
       "      <td>0.254109</td>\n",
       "      <td>-0.416579</td>\n",
       "      <td>0.008044</td>\n",
       "      <td>-0.137643</td>\n",
       "      <td>...</td>\n",
       "      <td>0.252864</td>\n",
       "      <td>-0.377855</td>\n",
       "      <td>2.982780</td>\n",
       "      <td>-0.267949</td>\n",
       "      <td>-0.395829</td>\n",
       "      <td>-0.155984</td>\n",
       "      <td>-0.077148</td>\n",
       "      <td>1.452687</td>\n",
       "      <td>0.066632</td>\n",
       "      <td>0.187546</td>\n",
       "    </tr>\n",
       "  </tbody>\n",
       "</table>\n",
       "<p>5 rows × 23 columns</p>\n",
       "</div>"
      ],
      "text/plain": [
       "   Energy_kcal  Protein_g     Fat_g    Carb_g   Sugar_g   Fiber_g  VitA_mcg  \\\n",
       "0     2.896234  -1.011747  4.441289 -0.798867 -0.477914 -0.469058  0.757113   \n",
       "1     2.896234  -1.011747  4.441289 -0.798867 -0.477914 -0.469058  0.757113   \n",
       "2     3.834956  -1.065776  5.599153 -0.801069 -0.482325 -0.469058  0.957289   \n",
       "3     0.747208   0.936124  1.140402 -0.715158 -0.445564 -0.469058  0.133490   \n",
       "4     0.853478   1.110532  1.199651 -0.698637 -0.444829 -0.469058  0.254109   \n",
       "\n",
       "   VitB6_mg  VitB12_mcg   VitC_mg  ...  Riboflavin_mg  Thiamin_mg  Calcium_mg  \\\n",
       "0 -0.546128   -0.244334 -0.137643  ...      -0.451809   -0.395218   -0.245398   \n",
       "1 -0.546128   -0.253595 -0.137643  ...      -0.451809   -0.395218   -0.245398   \n",
       "2 -0.550307   -0.281380 -0.137643  ...      -0.516275   -0.402935   -0.344726   \n",
       "3 -0.205541   -0.001218 -0.137643  ...       0.321775   -0.348916    2.257682   \n",
       "4 -0.416579    0.008044 -0.137643  ...       0.252864   -0.377855    2.982780   \n",
       "\n",
       "   Copper_mcg   Iron_mg  Magnesium_mg  Manganese_mg  Phosphorus_mg  \\\n",
       "0   -0.311347 -0.467425     -0.548385     -0.079028      -0.649918   \n",
       "1   -0.282415 -0.442978     -0.548385     -0.078401      -0.654842   \n",
       "2   -0.309539 -0.470917     -0.584057     -0.079028      -0.753325   \n",
       "3   -0.239017 -0.416784     -0.173821     -0.077618       1.137542   \n",
       "4   -0.267949 -0.395829     -0.155984     -0.077148       1.452687   \n",
       "\n",
       "   Selenium_mcg   Zinc_mg  \n",
       "0     -0.410557 -0.559918  \n",
       "1     -0.410557 -0.571830  \n",
       "2     -0.445904 -0.583742  \n",
       "3      0.066632  0.205414  \n",
       "4      0.066632  0.187546  \n",
       "\n",
       "[5 rows x 23 columns]"
      ]
     },
     "execution_count": 196,
     "metadata": {},
     "output_type": "execute_result"
    }
   ],
   "source": [
    "from sklearn.preprocessing import StandardScaler\n",
    "# Standardize the data\n",
    "scaler = StandardScaler()\n",
    "df_continuous_std = scaler.fit_transform(df_continuous)\n",
    "\n",
    "# Convert the standardized data to a dataframe\n",
    "df_continuous_std = pd.DataFrame(df_continuous_std, columns=df_continuous.columns)\n",
    "\n",
    "# Check the resulting dataframe\n",
    "df_continuous_std.head()"
   ]
  },
  {
   "cell_type": "markdown",
   "id": "1631f7b8",
   "metadata": {},
   "source": [
    "(d) Apply principal component analysis (PCA) to the standardized data. Note that after\n",
    "applying PCA, you will find 23 new continuous features which are linear combinations\n",
    "of the old 23 features.\n"
   ]
  },
  {
   "cell_type": "code",
   "execution_count": 197,
   "id": "96214f7d",
   "metadata": {},
   "outputs": [
    {
     "name": "stdout",
     "output_type": "stream",
     "text": [
      "  Energy_kcal Protein_g     Fat_g    Carb_g   Sugar_g   Fiber_g  VitA_mcg  \\\n",
      "0   -1.121776 -1.182251 -3.661940  1.080920 -3.084161  0.838022  0.331073   \n",
      "1   -1.114687 -1.184173 -3.662329  1.090738 -3.077430  0.837098  0.323428   \n",
      "2   -0.994919 -1.573580 -4.697724  1.317311 -3.912684  0.940208  0.373919   \n",
      "3    0.235910  0.566070 -1.905054 -0.834509  0.438104  0.051566  1.709057   \n",
      "4    0.300785  0.537659 -2.307570 -0.903853  0.875466  0.014515  2.158001   \n",
      "\n",
      "   VitB6_mg VitB12_mcg   VitC_mg  ... Riboflavin_mg Thiamin_mg Calcium_mg  \\\n",
      "0 -0.554879  -0.620704  1.426270  ...      0.755889   0.126454   0.328297   \n",
      "1 -0.551897  -0.630773  1.432207  ...      0.744742   0.106275   0.329752   \n",
      "2 -0.538498  -0.697954  1.763517  ...      0.920093   0.164202   0.429909   \n",
      "3 -1.160471  -0.395269  0.275188  ...      0.465612   0.324195   0.193857   \n",
      "4 -1.460309  -0.483304  0.282587  ...      0.429353   0.399280   0.265936   \n",
      "\n",
      "  Copper_mcg   Iron_mg Magnesium_mg Manganese_mg Phosphorus_mg Selenium_mcg  \\\n",
      "0  -0.617969 -0.052841     0.242175     0.338832      0.208470    -0.039810   \n",
      "1  -0.614961 -0.052676     0.242515     0.317514      0.222450    -0.037616   \n",
      "2  -0.710286 -0.059469     0.312961     0.359950      0.238668    -0.072217   \n",
      "3  -0.330713  0.577464    -0.434290    -0.132495     -0.419169     0.380635   \n",
      "4  -0.272140  0.748962    -0.473246    -0.191197     -0.629038     0.363742   \n",
      "\n",
      "    Zinc_mg  \n",
      "0  0.037014  \n",
      "1  0.036819  \n",
      "2  0.043196  \n",
      "3  0.003282  \n",
      "4  0.002252  \n",
      "\n",
      "[5 rows x 23 columns]\n"
     ]
    }
   ],
   "source": [
    "from sklearn.decomposition import PCA\n",
    "# Apply PCA\n",
    "pca = PCA()\n",
    "df_pca = pca.fit_transform(df_continuous_std)\n",
    "\n",
    "# Convert the PCA results to a dataframe\n",
    "df_pca = pd.DataFrame(df_pca, columns=[df_continuous.columns])\n",
    "\n",
    "# Check the resulting dataframe\n",
    "print(df_pca.head())"
   ]
  },
  {
   "cell_type": "markdown",
   "id": "ac21bb2e",
   "metadata": {},
   "source": [
    "e) Plot the explained variance ratio by each PCA component. You can use a bar chart for\n",
    "this purpose. Check that the sum of all 23 ratios is indeed 1."
   ]
  },
  {
   "cell_type": "code",
   "execution_count": 118,
   "id": "b25f72f8",
   "metadata": {},
   "outputs": [
    {
     "data": {
      "image/png": "[encoded data removed]",
      "text/plain": [
       "<Figure size 640x480 with 1 Axes>"
      ]
     },
     "metadata": {},
     "output_type": "display_data"
    },
    {
     "name": "stdout",
     "output_type": "stream",
     "text": [
      "Sum of all ratios: 1.0000000000000002\n"
     ]
    }
   ],
   "source": [
    "import matplotlib.pyplot as plt\n",
    "import numpy as np\n",
    "# Get the explained variance ratio by each component\n",
    "explained_variance_ratio = pca.explained_variance_ratio_\n",
    "\n",
    "# Create a bar chart of the explained variance ratio\n",
    "plt.bar(range(len(explained_variance_ratio)), explained_variance_ratio)\n",
    "plt.xlabel('PCA Component')\n",
    "plt.ylabel('Explained Variance Ratio')\n",
    "plt.title('Explained Variance Ratio by PCA Component')\n",
    "plt.show()\n",
    "\n",
    "# Check that the sum of all ratios is indeed 1\n",
    "print(f\"Sum of all ratios: {np.sum(explained_variance_ratio)}\")"
   ]
  },
  {
   "cell_type": "markdown",
   "id": "dca9ae7e",
   "metadata": {},
   "source": [
    "(f) Plot the cumulative explained variance ratio by PCA components.\n"
   ]
  },
  {
   "cell_type": "code",
   "execution_count": 198,
   "id": "bf71e2be",
   "metadata": {},
   "outputs": [
    {
     "data": {
      "image/png": "[encoded data removed]",
      "text/plain": [
       "<Figure size 640x480 with 1 Axes>"
      ]
     },
     "metadata": {},
     "output_type": "display_data"
    }
   ],
   "source": [
    "import matplotlib.pyplot as plt\n",
    "\n",
    "# Get the explained variance ratio for each component\n",
    "exp_var_ratio = pca.explained_variance_ratio_\n",
    "\n",
    "# Get the cumulative sum of the explained variance ratio\n",
    "cumulative_exp_var_ratio = np.cumsum(exp_var_ratio)\n",
    "\n",
    "# Plot the cumulative explained variance ratio by component\n",
    "plt.plot(range(1, len(cumulative_exp_var_ratio)+1), cumulative_exp_var_ratio, 'bo-')\n",
    "plt.xlabel('Number of PCA components')\n",
    "plt.ylabel('Cumulative explained variance ratio')\n",
    "plt.title('Cumulative Explained Variance Ratio by PCA Components')\n",
    "plt.show()\n"
   ]
  },
  {
   "cell_type": "markdown",
   "id": "843ae305",
   "metadata": {},
   "source": [
    "(g) How many PCA components should you choose in order to explain 80% of the whole\n",
    "variance? Let us call this number dP CA. Commit to this many (i.e. dP CA) PCA\n",
    "components for the rest of the exercise (This means that you have reduced the number\n",
    "of dimensions from 23 to a smaller number which is nothing but the number of PCA\n",
    "components (dP CA) needed to explain 80% of the whole variance for this dataset)."
   ]
  },
  {
   "cell_type": "code",
   "execution_count": 119,
   "id": "c3eac914",
   "metadata": {},
   "outputs": [
    {
     "name": "stdout",
     "output_type": "stream",
     "text": [
      "Number of PCA components to explain 80% of the variance: 10\n"
     ]
    }
   ],
   "source": [
    "# Calculate the cumulative explained variance ratio\n",
    "cumulative_variance_ratio = np.cumsum(explained_variance_ratio)\n",
    "\n",
    "# Find the number of components needed to explain 80% of the variance\n",
    "dPCA = np.argmax(cumulative_variance_ratio >= 0.8) + 1\n",
    "\n",
    "print(f\"Number of PCA components to explain 80% of the variance: {dPCA}\")\n"
   ]
  },
  {
   "cell_type": "markdown",
   "id": "ef4e403d",
   "metadata": {},
   "source": [
    "10 PCA components are required to explain the 80% of the varience, so from now as required only 10 pca components are used for the rest of the exercise"
   ]
  },
  {
   "cell_type": "markdown",
   "id": "f7bad874",
   "metadata": {},
   "source": [
    "(h) Take the first new continuous feature (i.e. the first PCA feature). Note that this feature\n",
    "(and any other PCA feature) is a linear combination of the old 23 continuous features.\n",
    "Find out the exact linear combination. What old features have the largest coefficients in\n",
    "the linear combination? These features are the dominant old features for the first PCA\n",
    "dimension."
   ]
  },
  {
   "cell_type": "code",
   "execution_count": 120,
   "id": "ea091b22",
   "metadata": {},
   "outputs": [
    {
     "name": "stdout",
     "output_type": "stream",
     "text": [
      "Top 5 dominant features for the first PCA dimension:\n",
      "Riboflavin_mg: 0.34\n",
      "Niacin_mg: 0.34\n",
      "VitB6_mg: 0.32\n",
      "Iron_mg: 0.30\n",
      "Folate_mcg: 0.28\n"
     ]
    }
   ],
   "source": [
    "# Get the loadings for the first PCA component\n",
    "loadings = pca.components_[0]\n",
    "\n",
    "# Create a dictionary of the form {feature_name: loading_value}\n",
    "loadings_dict = dict(zip(df_continuous_std.columns, loadings))\n",
    "\n",
    "# Sort the dictionary by absolute value of loading in descending order\n",
    "sorted_loadings = sorted(loadings_dict.items(), key=lambda x: abs(x[1]), reverse=True)\n",
    "\n",
    "# Print the top 5 features with the largest loadings\n",
    "print(\"Top 5 dominant features for the first PCA dimension:\")\n",
    "for feature, loading in sorted_loadings[:5]:\n",
    "    print(f\"{feature}: {loading:.2f}\")\n"
   ]
  },
  {
   "cell_type": "code",
   "execution_count": 121,
   "id": "442f4aeb",
   "metadata": {},
   "outputs": [
    {
     "data": {
      "text/html": [
       "<div>\n",
       "<style scoped>\n",
       "    .dataframe tbody tr th:only-of-type {\n",
       "        vertical-align: middle;\n",
       "    }\n",
       "\n",
       "    .dataframe tbody tr th {\n",
       "        vertical-align: top;\n",
       "    }\n",
       "\n",
       "    .dataframe thead tr th {\n",
       "        text-align: left;\n",
       "    }\n",
       "</style>\n",
       "<table border=\"1\" class=\"dataframe\">\n",
       "  <thead>\n",
       "    <tr>\n",
       "      <th></th>\n",
       "      <th>Energy_kcal</th>\n",
       "      <th>Protein_g</th>\n",
       "      <th>Fat_g</th>\n",
       "      <th>Carb_g</th>\n",
       "      <th>Sugar_g</th>\n",
       "      <th>Fiber_g</th>\n",
       "      <th>VitA_mcg</th>\n",
       "      <th>VitB6_mg</th>\n",
       "      <th>VitB12_mcg</th>\n",
       "      <th>VitC_mg</th>\n",
       "      <th>...</th>\n",
       "      <th>Riboflavin_mg</th>\n",
       "      <th>Thiamin_mg</th>\n",
       "      <th>Calcium_mg</th>\n",
       "      <th>Copper_mcg</th>\n",
       "      <th>Iron_mg</th>\n",
       "      <th>Magnesium_mg</th>\n",
       "      <th>Manganese_mg</th>\n",
       "      <th>Phosphorus_mg</th>\n",
       "      <th>Selenium_mcg</th>\n",
       "      <th>Zinc_mg</th>\n",
       "    </tr>\n",
       "  </thead>\n",
       "  <tbody>\n",
       "    <tr>\n",
       "      <th>0</th>\n",
       "      <td>-1.121776</td>\n",
       "      <td>-1.182251</td>\n",
       "      <td>-3.661940</td>\n",
       "      <td>1.080920</td>\n",
       "      <td>-3.084161</td>\n",
       "      <td>0.838022</td>\n",
       "      <td>0.331073</td>\n",
       "      <td>-0.554879</td>\n",
       "      <td>-0.620704</td>\n",
       "      <td>1.426270</td>\n",
       "      <td>...</td>\n",
       "      <td>0.755889</td>\n",
       "      <td>0.126454</td>\n",
       "      <td>0.328297</td>\n",
       "      <td>-0.617969</td>\n",
       "      <td>-0.052841</td>\n",
       "      <td>0.242175</td>\n",
       "      <td>0.338832</td>\n",
       "      <td>0.208470</td>\n",
       "      <td>-0.039810</td>\n",
       "      <td>0.037014</td>\n",
       "    </tr>\n",
       "    <tr>\n",
       "      <th>1</th>\n",
       "      <td>-1.114687</td>\n",
       "      <td>-1.184173</td>\n",
       "      <td>-3.662329</td>\n",
       "      <td>1.090738</td>\n",
       "      <td>-3.077430</td>\n",
       "      <td>0.837098</td>\n",
       "      <td>0.323428</td>\n",
       "      <td>-0.551897</td>\n",
       "      <td>-0.630773</td>\n",
       "      <td>1.432207</td>\n",
       "      <td>...</td>\n",
       "      <td>0.744742</td>\n",
       "      <td>0.106275</td>\n",
       "      <td>0.329752</td>\n",
       "      <td>-0.614961</td>\n",
       "      <td>-0.052676</td>\n",
       "      <td>0.242515</td>\n",
       "      <td>0.317514</td>\n",
       "      <td>0.222450</td>\n",
       "      <td>-0.037616</td>\n",
       "      <td>0.036819</td>\n",
       "    </tr>\n",
       "    <tr>\n",
       "      <th>2</th>\n",
       "      <td>-0.994919</td>\n",
       "      <td>-1.573580</td>\n",
       "      <td>-4.697724</td>\n",
       "      <td>1.317311</td>\n",
       "      <td>-3.912684</td>\n",
       "      <td>0.940208</td>\n",
       "      <td>0.373919</td>\n",
       "      <td>-0.538498</td>\n",
       "      <td>-0.697954</td>\n",
       "      <td>1.763517</td>\n",
       "      <td>...</td>\n",
       "      <td>0.920093</td>\n",
       "      <td>0.164202</td>\n",
       "      <td>0.429909</td>\n",
       "      <td>-0.710286</td>\n",
       "      <td>-0.059469</td>\n",
       "      <td>0.312961</td>\n",
       "      <td>0.359950</td>\n",
       "      <td>0.238668</td>\n",
       "      <td>-0.072217</td>\n",
       "      <td>0.043196</td>\n",
       "    </tr>\n",
       "    <tr>\n",
       "      <th>3</th>\n",
       "      <td>0.235910</td>\n",
       "      <td>0.566070</td>\n",
       "      <td>-1.905054</td>\n",
       "      <td>-0.834509</td>\n",
       "      <td>0.438104</td>\n",
       "      <td>0.051566</td>\n",
       "      <td>1.709057</td>\n",
       "      <td>-1.160471</td>\n",
       "      <td>-0.395269</td>\n",
       "      <td>0.275188</td>\n",
       "      <td>...</td>\n",
       "      <td>0.465612</td>\n",
       "      <td>0.324195</td>\n",
       "      <td>0.193857</td>\n",
       "      <td>-0.330713</td>\n",
       "      <td>0.577464</td>\n",
       "      <td>-0.434290</td>\n",
       "      <td>-0.132495</td>\n",
       "      <td>-0.419169</td>\n",
       "      <td>0.380635</td>\n",
       "      <td>0.003282</td>\n",
       "    </tr>\n",
       "    <tr>\n",
       "      <th>4</th>\n",
       "      <td>0.300785</td>\n",
       "      <td>0.537659</td>\n",
       "      <td>-2.307570</td>\n",
       "      <td>-0.903853</td>\n",
       "      <td>0.875466</td>\n",
       "      <td>0.014515</td>\n",
       "      <td>2.158001</td>\n",
       "      <td>-1.460309</td>\n",
       "      <td>-0.483304</td>\n",
       "      <td>0.282587</td>\n",
       "      <td>...</td>\n",
       "      <td>0.429353</td>\n",
       "      <td>0.399280</td>\n",
       "      <td>0.265936</td>\n",
       "      <td>-0.272140</td>\n",
       "      <td>0.748962</td>\n",
       "      <td>-0.473246</td>\n",
       "      <td>-0.191197</td>\n",
       "      <td>-0.629038</td>\n",
       "      <td>0.363742</td>\n",
       "      <td>0.002252</td>\n",
       "    </tr>\n",
       "  </tbody>\n",
       "</table>\n",
       "<p>5 rows × 23 columns</p>\n",
       "</div>"
      ],
      "text/plain": [
       "  Energy_kcal Protein_g     Fat_g    Carb_g   Sugar_g   Fiber_g  VitA_mcg  \\\n",
       "0   -1.121776 -1.182251 -3.661940  1.080920 -3.084161  0.838022  0.331073   \n",
       "1   -1.114687 -1.184173 -3.662329  1.090738 -3.077430  0.837098  0.323428   \n",
       "2   -0.994919 -1.573580 -4.697724  1.317311 -3.912684  0.940208  0.373919   \n",
       "3    0.235910  0.566070 -1.905054 -0.834509  0.438104  0.051566  1.709057   \n",
       "4    0.300785  0.537659 -2.307570 -0.903853  0.875466  0.014515  2.158001   \n",
       "\n",
       "   VitB6_mg VitB12_mcg   VitC_mg  ... Riboflavin_mg Thiamin_mg Calcium_mg  \\\n",
       "0 -0.554879  -0.620704  1.426270  ...      0.755889   0.126454   0.328297   \n",
       "1 -0.551897  -0.630773  1.432207  ...      0.744742   0.106275   0.329752   \n",
       "2 -0.538498  -0.697954  1.763517  ...      0.920093   0.164202   0.429909   \n",
       "3 -1.160471  -0.395269  0.275188  ...      0.465612   0.324195   0.193857   \n",
       "4 -1.460309  -0.483304  0.282587  ...      0.429353   0.399280   0.265936   \n",
       "\n",
       "  Copper_mcg   Iron_mg Magnesium_mg Manganese_mg Phosphorus_mg Selenium_mcg  \\\n",
       "0  -0.617969 -0.052841     0.242175     0.338832      0.208470    -0.039810   \n",
       "1  -0.614961 -0.052676     0.242515     0.317514      0.222450    -0.037616   \n",
       "2  -0.710286 -0.059469     0.312961     0.359950      0.238668    -0.072217   \n",
       "3  -0.330713  0.577464    -0.434290    -0.132495     -0.419169     0.380635   \n",
       "4  -0.272140  0.748962    -0.473246    -0.191197     -0.629038     0.363742   \n",
       "\n",
       "    Zinc_mg  \n",
       "0  0.037014  \n",
       "1  0.036819  \n",
       "2  0.043196  \n",
       "3  0.003282  \n",
       "4  0.002252  \n",
       "\n",
       "[5 rows x 23 columns]"
      ]
     },
     "execution_count": 121,
     "metadata": {},
     "output_type": "execute_result"
    }
   ],
   "source": [
    "df_pca.head()"
   ]
  },
  {
   "cell_type": "markdown",
   "id": "03cd593a",
   "metadata": {},
   "source": [
    "The features Riboflavin_mg, Niacin_mg, vitB6_mg, Iron_mg, Folate_mcg are the dominant old features for the first PCA dimension, as they have the largest coefficients in the linear combination."
   ]
  },
  {
   "cell_type": "markdown",
   "id": "f17f1389",
   "metadata": {},
   "source": [
    "(i) Make a new dataframe, pca df, of the food items with dP CA continuous features."
   ]
  },
  {
   "cell_type": "code",
   "execution_count": 152,
   "id": "c9b3ac0a",
   "metadata": {},
   "outputs": [],
   "source": [
    "pca_df = df_pca.iloc[:, :dPCA]\n"
   ]
  },
  {
   "cell_type": "code",
   "execution_count": 153,
   "id": "8cc1bc43",
   "metadata": {},
   "outputs": [
    {
     "data": {
      "text/html": [
       "<div>\n",
       "<style scoped>\n",
       "    .dataframe tbody tr th:only-of-type {\n",
       "        vertical-align: middle;\n",
       "    }\n",
       "\n",
       "    .dataframe tbody tr th {\n",
       "        vertical-align: top;\n",
       "    }\n",
       "\n",
       "    .dataframe thead tr th {\n",
       "        text-align: left;\n",
       "    }\n",
       "</style>\n",
       "<table border=\"1\" class=\"dataframe\">\n",
       "  <thead>\n",
       "    <tr>\n",
       "      <th></th>\n",
       "      <th>Energy_kcal</th>\n",
       "      <th>Protein_g</th>\n",
       "      <th>Fat_g</th>\n",
       "      <th>Carb_g</th>\n",
       "      <th>Sugar_g</th>\n",
       "      <th>Fiber_g</th>\n",
       "      <th>VitA_mcg</th>\n",
       "      <th>VitB6_mg</th>\n",
       "      <th>VitB12_mcg</th>\n",
       "      <th>VitC_mg</th>\n",
       "    </tr>\n",
       "  </thead>\n",
       "  <tbody>\n",
       "    <tr>\n",
       "      <th>0</th>\n",
       "      <td>-1.121776</td>\n",
       "      <td>-1.182251</td>\n",
       "      <td>-3.661940</td>\n",
       "      <td>1.080920</td>\n",
       "      <td>-3.084161</td>\n",
       "      <td>0.838022</td>\n",
       "      <td>0.331073</td>\n",
       "      <td>-0.554879</td>\n",
       "      <td>-0.620704</td>\n",
       "      <td>1.426270</td>\n",
       "    </tr>\n",
       "    <tr>\n",
       "      <th>1</th>\n",
       "      <td>-1.114687</td>\n",
       "      <td>-1.184173</td>\n",
       "      <td>-3.662329</td>\n",
       "      <td>1.090738</td>\n",
       "      <td>-3.077430</td>\n",
       "      <td>0.837098</td>\n",
       "      <td>0.323428</td>\n",
       "      <td>-0.551897</td>\n",
       "      <td>-0.630773</td>\n",
       "      <td>1.432207</td>\n",
       "    </tr>\n",
       "    <tr>\n",
       "      <th>2</th>\n",
       "      <td>-0.994919</td>\n",
       "      <td>-1.573580</td>\n",
       "      <td>-4.697724</td>\n",
       "      <td>1.317311</td>\n",
       "      <td>-3.912684</td>\n",
       "      <td>0.940208</td>\n",
       "      <td>0.373919</td>\n",
       "      <td>-0.538498</td>\n",
       "      <td>-0.697954</td>\n",
       "      <td>1.763517</td>\n",
       "    </tr>\n",
       "    <tr>\n",
       "      <th>3</th>\n",
       "      <td>0.235910</td>\n",
       "      <td>0.566070</td>\n",
       "      <td>-1.905054</td>\n",
       "      <td>-0.834509</td>\n",
       "      <td>0.438104</td>\n",
       "      <td>0.051566</td>\n",
       "      <td>1.709057</td>\n",
       "      <td>-1.160471</td>\n",
       "      <td>-0.395269</td>\n",
       "      <td>0.275188</td>\n",
       "    </tr>\n",
       "    <tr>\n",
       "      <th>4</th>\n",
       "      <td>0.300785</td>\n",
       "      <td>0.537659</td>\n",
       "      <td>-2.307570</td>\n",
       "      <td>-0.903853</td>\n",
       "      <td>0.875466</td>\n",
       "      <td>0.014515</td>\n",
       "      <td>2.158001</td>\n",
       "      <td>-1.460309</td>\n",
       "      <td>-0.483304</td>\n",
       "      <td>0.282587</td>\n",
       "    </tr>\n",
       "  </tbody>\n",
       "</table>\n",
       "</div>"
      ],
      "text/plain": [
       "  Energy_kcal Protein_g     Fat_g    Carb_g   Sugar_g   Fiber_g  VitA_mcg  \\\n",
       "0   -1.121776 -1.182251 -3.661940  1.080920 -3.084161  0.838022  0.331073   \n",
       "1   -1.114687 -1.184173 -3.662329  1.090738 -3.077430  0.837098  0.323428   \n",
       "2   -0.994919 -1.573580 -4.697724  1.317311 -3.912684  0.940208  0.373919   \n",
       "3    0.235910  0.566070 -1.905054 -0.834509  0.438104  0.051566  1.709057   \n",
       "4    0.300785  0.537659 -2.307570 -0.903853  0.875466  0.014515  2.158001   \n",
       "\n",
       "   VitB6_mg VitB12_mcg   VitC_mg  \n",
       "0 -0.554879  -0.620704  1.426270  \n",
       "1 -0.551897  -0.630773  1.432207  \n",
       "2 -0.538498  -0.697954  1.763517  \n",
       "3 -1.160471  -0.395269  0.275188  \n",
       "4 -1.460309  -0.483304  0.282587  "
      ]
     },
     "execution_count": 153,
     "metadata": {},
     "output_type": "execute_result"
    }
   ],
   "source": [
    "pca_df.head()"
   ]
  },
  {
   "cell_type": "markdown",
   "id": "9c72f851",
   "metadata": {},
   "source": [
    "(j) In this part, you would like to apply K-means clustering algorithm to pca df. How many\n",
    "clusters would you choose to start the algorithm with? Perform a thorough analysis to\n",
    "find the optimal number of clusters."
   ]
  },
  {
   "cell_type": "code",
   "execution_count": 124,
   "id": "b3da5208",
   "metadata": {},
   "outputs": [
    {
     "name": "stderr",
     "output_type": "stream",
     "text": [
      "  ERROR: Command errored out with exit status 1:\n",
      "   command: 'C:\\Users\\KAKUT\\Anaconda\\python.exe' -u -c 'import io, os, sys, setuptools, tokenize; sys.argv[0] = '\"'\"'C:\\\\Users\\\\KAKUT\\\\AppData\\\\Local\\\\Temp\\\\pip-install-z2kd025x\\\\kmeans_a5bd9b769e844ed0a00ec0867ae5d261\\\\setup.py'\"'\"'; __file__='\"'\"'C:\\\\Users\\\\KAKUT\\\\AppData\\\\Local\\\\Temp\\\\pip-install-z2kd025x\\\\kmeans_a5bd9b769e844ed0a00ec0867ae5d261\\\\setup.py'\"'\"';f = getattr(tokenize, '\"'\"'open'\"'\"', open)(__file__) if os.path.exists(__file__) else io.StringIO('\"'\"'from setuptools import setup; setup()'\"'\"');code = f.read().replace('\"'\"'\\r\\n'\"'\"', '\"'\"'\\n'\"'\"');f.close();exec(compile(code, __file__, '\"'\"'exec'\"'\"'))' bdist_wheel -d 'C:\\Users\\KAKUT\\AppData\\Local\\Temp\\pip-wheel-fxda2fvz'\n",
      "       cwd: C:\\Users\\KAKUT\\AppData\\Local\\Temp\\pip-install-z2kd025x\\kmeans_a5bd9b769e844ed0a00ec0867ae5d261\\\n",
      "  Complete output (19 lines):\n",
      "  running bdist_wheel\n",
      "  running build\n",
      "  running build_py\n",
      "  creating build\n",
      "  creating build\\lib.win-amd64-3.9\n",
      "  creating build\\lib.win-amd64-3.9\\kmeans\n",
      "  copying kmeans\\performance.py -> build\\lib.win-amd64-3.9\\kmeans\n",
      "  copying kmeans\\tests.py -> build\\lib.win-amd64-3.9\\kmeans\n",
      "  copying kmeans\\__init__.py -> build\\lib.win-amd64-3.9\\kmeans\n",
      "  running egg_info\n",
      "  writing kmeans.egg-info\\PKG-INFO\n",
      "  writing dependency_links to kmeans.egg-info\\dependency_links.txt\n",
      "  writing top-level names to kmeans.egg-info\\top_level.txt\n",
      "  reading manifest file 'kmeans.egg-info\\SOURCES.txt'\n",
      "  writing manifest file 'kmeans.egg-info\\SOURCES.txt'\n",
      "  copying kmeans\\lib.c -> build\\lib.win-amd64-3.9\\kmeans\n",
      "  running build_ext\n",
      "  building 'kmeans/lib' extension\n",
      "  error: Microsoft Visual C++ 14.0 or greater is required. Get it with \"Microsoft C++ Build Tools\": https://visualstudio.microsoft.com/visual-cpp-build-tools/\n",
      "  ----------------------------------------\n",
      "  ERROR: Failed building wheel for KMeans\n",
      "    ERROR: Command errored out with exit status 1:\n",
      "     command: 'C:\\Users\\KAKUT\\Anaconda\\python.exe' -u -c 'import io, os, sys, setuptools, tokenize; sys.argv[0] = '\"'\"'C:\\\\Users\\\\KAKUT\\\\AppData\\\\Local\\\\Temp\\\\pip-install-z2kd025x\\\\kmeans_a5bd9b769e844ed0a00ec0867ae5d261\\\\setup.py'\"'\"'; __file__='\"'\"'C:\\\\Users\\\\KAKUT\\\\AppData\\\\Local\\\\Temp\\\\pip-install-z2kd025x\\\\kmeans_a5bd9b769e844ed0a00ec0867ae5d261\\\\setup.py'\"'\"';f = getattr(tokenize, '\"'\"'open'\"'\"', open)(__file__) if os.path.exists(__file__) else io.StringIO('\"'\"'from setuptools import setup; setup()'\"'\"');code = f.read().replace('\"'\"'\\r\\n'\"'\"', '\"'\"'\\n'\"'\"');f.close();exec(compile(code, __file__, '\"'\"'exec'\"'\"'))' install --record 'C:\\Users\\KAKUT\\AppData\\Local\\Temp\\pip-record-lmz9frqv\\install-record.txt' --single-version-externally-managed --compile --install-headers 'C:\\Users\\KAKUT\\Anaconda\\Include\\KMeans'\n",
      "         cwd: C:\\Users\\KAKUT\\AppData\\Local\\Temp\\pip-install-z2kd025x\\kmeans_a5bd9b769e844ed0a00ec0867ae5d261\\\n",
      "    Complete output (21 lines):\n",
      "    running install\n",
      "    C:\\Users\\KAKUT\\Anaconda\\lib\\site-packages\\setuptools\\command\\install.py:34: SetuptoolsDeprecationWarning: setup.py install is deprecated. Use build and pip and other standards-based tools.\n",
      "      warnings.warn(\n",
      "    running build\n",
      "    running build_py\n",
      "    creating build\n",
      "    creating build\\lib.win-amd64-3.9\n",
      "    creating build\\lib.win-amd64-3.9\\kmeans\n",
      "    copying kmeans\\performance.py -> build\\lib.win-amd64-3.9\\kmeans\n",
      "    copying kmeans\\tests.py -> build\\lib.win-amd64-3.9\\kmeans\n",
      "    copying kmeans\\__init__.py -> build\\lib.win-amd64-3.9\\kmeans\n",
      "    running egg_info\n",
      "    writing kmeans.egg-info\\PKG-INFO\n",
      "    writing dependency_links to kmeans.egg-info\\dependency_links.txt\n",
      "    writing top-level names to kmeans.egg-info\\top_level.txt\n",
      "    reading manifest file 'kmeans.egg-info\\SOURCES.txt'\n",
      "    writing manifest file 'kmeans.egg-info\\SOURCES.txt'\n",
      "    copying kmeans\\lib.c -> build\\lib.win-amd64-3.9\\kmeans\n",
      "    running build_ext\n",
      "    building 'kmeans/lib' extension\n",
      "    error: Microsoft Visual C++ 14.0 or greater is required. Get it with \"Microsoft C++ Build Tools\": https://visualstudio.microsoft.com/visual-cpp-build-tools/\n",
      "    ----------------------------------------\n",
      "ERROR: Command errored out with exit status 1: 'C:\\Users\\KAKUT\\Anaconda\\python.exe' -u -c 'import io, os, sys, setuptools, tokenize; sys.argv[0] = '\"'\"'C:\\\\Users\\\\KAKUT\\\\AppData\\\\Local\\\\Temp\\\\pip-install-z2kd025x\\\\kmeans_a5bd9b769e844ed0a00ec0867ae5d261\\\\setup.py'\"'\"'; __file__='\"'\"'C:\\\\Users\\\\KAKUT\\\\AppData\\\\Local\\\\Temp\\\\pip-install-z2kd025x\\\\kmeans_a5bd9b769e844ed0a00ec0867ae5d261\\\\setup.py'\"'\"';f = getattr(tokenize, '\"'\"'open'\"'\"', open)(__file__) if os.path.exists(__file__) else io.StringIO('\"'\"'from setuptools import setup; setup()'\"'\"');code = f.read().replace('\"'\"'\\r\\n'\"'\"', '\"'\"'\\n'\"'\"');f.close();exec(compile(code, __file__, '\"'\"'exec'\"'\"'))' install --record 'C:\\Users\\KAKUT\\AppData\\Local\\Temp\\pip-record-lmz9frqv\\install-record.txt' --single-version-externally-managed --compile --install-headers 'C:\\Users\\KAKUT\\Anaconda\\Include\\KMeans' Check the logs for full command output.\n",
      "C:\\Users\\KAKUT\\Anaconda\\lib\\site-packages\\sklearn\\cluster\\_kmeans.py:870: FutureWarning: The default value of `n_init` will change from 10 to 'auto' in 1.4. Set the value of `n_init` explicitly to suppress the warning\n",
      "  warnings.warn(\n",
      "C:\\Users\\KAKUT\\Anaconda\\lib\\site-packages\\sklearn\\cluster\\_kmeans.py:870: FutureWarning: The default value of `n_init` will change from 10 to 'auto' in 1.4. Set the value of `n_init` explicitly to suppress the warning\n",
      "  warnings.warn(\n",
      "C:\\Users\\KAKUT\\Anaconda\\lib\\site-packages\\sklearn\\cluster\\_kmeans.py:870: FutureWarning: The default value of `n_init` will change from 10 to 'auto' in 1.4. Set the value of `n_init` explicitly to suppress the warning\n",
      "  warnings.warn(\n",
      "C:\\Users\\KAKUT\\Anaconda\\lib\\site-packages\\sklearn\\cluster\\_kmeans.py:870: FutureWarning: The default value of `n_init` will change from 10 to 'auto' in 1.4. Set the value of `n_init` explicitly to suppress the warning\n",
      "  warnings.warn(\n",
      "C:\\Users\\KAKUT\\Anaconda\\lib\\site-packages\\sklearn\\cluster\\_kmeans.py:870: FutureWarning: The default value of `n_init` will change from 10 to 'auto' in 1.4. Set the value of `n_init` explicitly to suppress the warning\n",
      "  warnings.warn(\n"
     ]
    },
    {
     "name": "stdout",
     "output_type": "stream",
     "text": [
      "Collecting KMeans\n",
      "  Using cached kmeans-1.0.2.tar.gz (5.9 kB)\n",
      "Building wheels for collected packages: KMeans\n",
      "  Building wheel for KMeans (setup.py): started\n",
      "  Building wheel for KMeans (setup.py): finished with status 'error'\n",
      "  Running setup.py clean for KMeans\n",
      "Failed to build KMeans\n",
      "Installing collected packages: KMeans\n",
      "    Running setup.py install for KMeans: started\n",
      "    Running setup.py install for KMeans: finished with status 'error'\n"
     ]
    },
    {
     "name": "stderr",
     "output_type": "stream",
     "text": [
      "C:\\Users\\KAKUT\\Anaconda\\lib\\site-packages\\sklearn\\cluster\\_kmeans.py:870: FutureWarning: The default value of `n_init` will change from 10 to 'auto' in 1.4. Set the value of `n_init` explicitly to suppress the warning\n",
      "  warnings.warn(\n",
      "C:\\Users\\KAKUT\\Anaconda\\lib\\site-packages\\sklearn\\cluster\\_kmeans.py:870: FutureWarning: The default value of `n_init` will change from 10 to 'auto' in 1.4. Set the value of `n_init` explicitly to suppress the warning\n",
      "  warnings.warn(\n",
      "C:\\Users\\KAKUT\\Anaconda\\lib\\site-packages\\sklearn\\cluster\\_kmeans.py:870: FutureWarning: The default value of `n_init` will change from 10 to 'auto' in 1.4. Set the value of `n_init` explicitly to suppress the warning\n",
      "  warnings.warn(\n",
      "C:\\Users\\KAKUT\\Anaconda\\lib\\site-packages\\sklearn\\cluster\\_kmeans.py:870: FutureWarning: The default value of `n_init` will change from 10 to 'auto' in 1.4. Set the value of `n_init` explicitly to suppress the warning\n",
      "  warnings.warn(\n",
      "C:\\Users\\KAKUT\\Anaconda\\lib\\site-packages\\sklearn\\cluster\\_kmeans.py:870: FutureWarning: The default value of `n_init` will change from 10 to 'auto' in 1.4. Set the value of `n_init` explicitly to suppress the warning\n",
      "  warnings.warn(\n",
      "C:\\Users\\KAKUT\\Anaconda\\lib\\site-packages\\sklearn\\cluster\\_kmeans.py:870: FutureWarning: The default value of `n_init` will change from 10 to 'auto' in 1.4. Set the value of `n_init` explicitly to suppress the warning\n",
      "  warnings.warn(\n",
      "C:\\Users\\KAKUT\\Anaconda\\lib\\site-packages\\sklearn\\cluster\\_kmeans.py:870: FutureWarning: The default value of `n_init` will change from 10 to 'auto' in 1.4. Set the value of `n_init` explicitly to suppress the warning\n",
      "  warnings.warn(\n",
      "C:\\Users\\KAKUT\\Anaconda\\lib\\site-packages\\sklearn\\cluster\\_kmeans.py:870: FutureWarning: The default value of `n_init` will change from 10 to 'auto' in 1.4. Set the value of `n_init` explicitly to suppress the warning\n",
      "  warnings.warn(\n",
      "C:\\Users\\KAKUT\\Anaconda\\lib\\site-packages\\sklearn\\cluster\\_kmeans.py:870: FutureWarning: The default value of `n_init` will change from 10 to 'auto' in 1.4. Set the value of `n_init` explicitly to suppress the warning\n",
      "  warnings.warn(\n",
      "C:\\Users\\KAKUT\\Anaconda\\lib\\site-packages\\sklearn\\cluster\\_kmeans.py:870: FutureWarning: The default value of `n_init` will change from 10 to 'auto' in 1.4. Set the value of `n_init` explicitly to suppress the warning\n",
      "  warnings.warn(\n",
      "C:\\Users\\KAKUT\\Anaconda\\lib\\site-packages\\sklearn\\cluster\\_kmeans.py:870: FutureWarning: The default value of `n_init` will change from 10 to 'auto' in 1.4. Set the value of `n_init` explicitly to suppress the warning\n",
      "  warnings.warn(\n",
      "C:\\Users\\KAKUT\\Anaconda\\lib\\site-packages\\sklearn\\cluster\\_kmeans.py:870: FutureWarning: The default value of `n_init` will change from 10 to 'auto' in 1.4. Set the value of `n_init` explicitly to suppress the warning\n",
      "  warnings.warn(\n",
      "C:\\Users\\KAKUT\\Anaconda\\lib\\site-packages\\sklearn\\cluster\\_kmeans.py:870: FutureWarning: The default value of `n_init` will change from 10 to 'auto' in 1.4. Set the value of `n_init` explicitly to suppress the warning\n",
      "  warnings.warn(\n",
      "C:\\Users\\KAKUT\\Anaconda\\lib\\site-packages\\sklearn\\cluster\\_kmeans.py:870: FutureWarning: The default value of `n_init` will change from 10 to 'auto' in 1.4. Set the value of `n_init` explicitly to suppress the warning\n",
      "  warnings.warn(\n",
      "C:\\Users\\KAKUT\\Anaconda\\lib\\site-packages\\sklearn\\cluster\\_kmeans.py:870: FutureWarning: The default value of `n_init` will change from 10 to 'auto' in 1.4. Set the value of `n_init` explicitly to suppress the warning\n",
      "  warnings.warn(\n"
     ]
    },
    {
     "data": {
      "image/png": "[encoded data removed]",
      "text/plain": [
       "<Figure size 640x480 with 1 Axes>"
      ]
     },
     "metadata": {},
     "output_type": "display_data"
    }
   ],
   "source": [
    "!pip install KMeans\n",
    "from sklearn.cluster import KMeans\n",
    "import matplotlib.pyplot as plt\n",
    "\n",
    "# Define a list of potential number of clusters to try\n",
    "n_clusters = range(1, 21)\n",
    "\n",
    "# Compute the within-cluster sum of squares (WCSS) for each number of clusters\n",
    "wcss = []\n",
    "for n in n_clusters:\n",
    "    kmeans = KMeans(n_clusters=n, random_state=42)\n",
    "    kmeans.fit(pca_df)\n",
    "    wcss.append(kmeans.inertia_)\n",
    "\n",
    "# Plot the WCSS as a function of the number of clusters\n",
    "plt.plot(n_clusters, wcss)\n",
    "plt.xlabel('Number of clusters')\n",
    "plt.ylabel('WCSS')\n",
    "plt.title('Elbow Method')\n",
    "plt.show()\n",
    "\n"
   ]
  },
  {
   "cell_type": "code",
   "execution_count": 28,
   "id": "2a351236",
   "metadata": {},
   "outputs": [
    {
     "name": "stdout",
     "output_type": "stream",
     "text": [
      "Requirement already satisfied: yellowbrick in c:\\users\\kakut\\anaconda\\lib\\site-packages (1.5)\n",
      "Requirement already satisfied: scikit-learn>=1.0.0 in c:\\users\\kakut\\anaconda\\lib\\site-packages (from yellowbrick) (1.0.2)\n",
      "Requirement already satisfied: numpy>=1.16.0 in c:\\users\\kakut\\anaconda\\lib\\site-packages (from yellowbrick) (1.22.4)\n",
      "Requirement already satisfied: matplotlib!=3.0.0,>=2.0.2 in c:\\users\\kakut\\anaconda\\lib\\site-packages (from yellowbrick) (3.5.1)\n",
      "Requirement already satisfied: cycler>=0.10.0 in c:\\users\\kakut\\anaconda\\lib\\site-packages (from yellowbrick) (0.11.0)\n",
      "Requirement already satisfied: scipy>=1.0.0 in c:\\users\\kakut\\anaconda\\lib\\site-packages (from yellowbrick) (1.7.3)\n",
      "Requirement already satisfied: fonttools>=4.22.0 in c:\\users\\kakut\\anaconda\\lib\\site-packages (from matplotlib!=3.0.0,>=2.0.2->yellowbrick) (4.25.0)\n",
      "Requirement already satisfied: python-dateutil>=2.7 in c:\\users\\kakut\\anaconda\\lib\\site-packages (from matplotlib!=3.0.0,>=2.0.2->yellowbrick) (2.8.2)\n",
      "Requirement already satisfied: pyparsing>=2.2.1 in c:\\users\\kakut\\anaconda\\lib\\site-packages (from matplotlib!=3.0.0,>=2.0.2->yellowbrick) (3.0.4)\n",
      "Requirement already satisfied: packaging>=20.0 in c:\\users\\kakut\\anaconda\\lib\\site-packages (from matplotlib!=3.0.0,>=2.0.2->yellowbrick) (21.3)\n",
      "Requirement already satisfied: pillow>=6.2.0 in c:\\users\\kakut\\anaconda\\lib\\site-packages (from matplotlib!=3.0.0,>=2.0.2->yellowbrick) (9.0.1)\n",
      "Requirement already satisfied: kiwisolver>=1.0.1 in c:\\users\\kakut\\anaconda\\lib\\site-packages (from matplotlib!=3.0.0,>=2.0.2->yellowbrick) (1.3.2)\n",
      "Requirement already satisfied: six>=1.5 in c:\\users\\kakut\\anaconda\\lib\\site-packages (from python-dateutil>=2.7->matplotlib!=3.0.0,>=2.0.2->yellowbrick) (1.16.0)\n",
      "Requirement already satisfied: joblib>=0.11 in c:\\users\\kakut\\anaconda\\lib\\site-packages (from scikit-learn>=1.0.0->yellowbrick) (1.1.0)\n",
      "Requirement already satisfied: threadpoolctl>=2.0.0 in c:\\users\\kakut\\anaconda\\lib\\site-packages (from scikit-learn>=1.0.0->yellowbrick) (2.2.0)\n"
     ]
    },
    {
     "name": "stderr",
     "output_type": "stream",
     "text": [
      "ERROR: Could not find a version that satisfies the requirement KElbowVisualizer (from versions: none)\n",
      "ERROR: No matching distribution found for KElbowVisualizer\n"
     ]
    }
   ],
   "source": [
    "# Importing 'KElbowVisualizer' from the 'cluster' module of yellowbrick\n",
    "!pip install yellowbrick\n",
    "!pip install KElbowVisualizer"
   ]
  },
  {
   "cell_type": "code",
   "execution_count": 125,
   "id": "5d3640e3",
   "metadata": {},
   "outputs": [
    {
     "name": "stderr",
     "output_type": "stream",
     "text": [
      "C:\\Users\\KAKUT\\Anaconda\\lib\\site-packages\\sklearn\\cluster\\_kmeans.py:870: FutureWarning: The default value of `n_init` will change from 10 to 'auto' in 1.4. Set the value of `n_init` explicitly to suppress the warning\n",
      "  warnings.warn(\n",
      "C:\\Users\\KAKUT\\Anaconda\\lib\\site-packages\\sklearn\\cluster\\_kmeans.py:870: FutureWarning: The default value of `n_init` will change from 10 to 'auto' in 1.4. Set the value of `n_init` explicitly to suppress the warning\n",
      "  warnings.warn(\n",
      "C:\\Users\\KAKUT\\Anaconda\\lib\\site-packages\\sklearn\\cluster\\_kmeans.py:870: FutureWarning: The default value of `n_init` will change from 10 to 'auto' in 1.4. Set the value of `n_init` explicitly to suppress the warning\n",
      "  warnings.warn(\n",
      "C:\\Users\\KAKUT\\Anaconda\\lib\\site-packages\\sklearn\\cluster\\_kmeans.py:870: FutureWarning: The default value of `n_init` will change from 10 to 'auto' in 1.4. Set the value of `n_init` explicitly to suppress the warning\n",
      "  warnings.warn(\n",
      "C:\\Users\\KAKUT\\Anaconda\\lib\\site-packages\\sklearn\\cluster\\_kmeans.py:870: FutureWarning: The default value of `n_init` will change from 10 to 'auto' in 1.4. Set the value of `n_init` explicitly to suppress the warning\n",
      "  warnings.warn(\n",
      "C:\\Users\\KAKUT\\Anaconda\\lib\\site-packages\\sklearn\\cluster\\_kmeans.py:870: FutureWarning: The default value of `n_init` will change from 10 to 'auto' in 1.4. Set the value of `n_init` explicitly to suppress the warning\n",
      "  warnings.warn(\n",
      "C:\\Users\\KAKUT\\Anaconda\\lib\\site-packages\\sklearn\\cluster\\_kmeans.py:870: FutureWarning: The default value of `n_init` will change from 10 to 'auto' in 1.4. Set the value of `n_init` explicitly to suppress the warning\n",
      "  warnings.warn(\n",
      "C:\\Users\\KAKUT\\Anaconda\\lib\\site-packages\\sklearn\\cluster\\_kmeans.py:870: FutureWarning: The default value of `n_init` will change from 10 to 'auto' in 1.4. Set the value of `n_init` explicitly to suppress the warning\n",
      "  warnings.warn(\n",
      "C:\\Users\\KAKUT\\Anaconda\\lib\\site-packages\\sklearn\\cluster\\_kmeans.py:870: FutureWarning: The default value of `n_init` will change from 10 to 'auto' in 1.4. Set the value of `n_init` explicitly to suppress the warning\n",
      "  warnings.warn(\n",
      "C:\\Users\\KAKUT\\Anaconda\\lib\\site-packages\\sklearn\\cluster\\_kmeans.py:870: FutureWarning: The default value of `n_init` will change from 10 to 'auto' in 1.4. Set the value of `n_init` explicitly to suppress the warning\n",
      "  warnings.warn(\n",
      "C:\\Users\\KAKUT\\Anaconda\\lib\\site-packages\\sklearn\\cluster\\_kmeans.py:870: FutureWarning: The default value of `n_init` will change from 10 to 'auto' in 1.4. Set the value of `n_init` explicitly to suppress the warning\n",
      "  warnings.warn(\n",
      "C:\\Users\\KAKUT\\Anaconda\\lib\\site-packages\\sklearn\\cluster\\_kmeans.py:870: FutureWarning: The default value of `n_init` will change from 10 to 'auto' in 1.4. Set the value of `n_init` explicitly to suppress the warning\n",
      "  warnings.warn(\n",
      "C:\\Users\\KAKUT\\Anaconda\\lib\\site-packages\\sklearn\\cluster\\_kmeans.py:870: FutureWarning: The default value of `n_init` will change from 10 to 'auto' in 1.4. Set the value of `n_init` explicitly to suppress the warning\n",
      "  warnings.warn(\n",
      "C:\\Users\\KAKUT\\Anaconda\\lib\\site-packages\\sklearn\\cluster\\_kmeans.py:870: FutureWarning: The default value of `n_init` will change from 10 to 'auto' in 1.4. Set the value of `n_init` explicitly to suppress the warning\n",
      "  warnings.warn(\n",
      "C:\\Users\\KAKUT\\Anaconda\\lib\\site-packages\\sklearn\\cluster\\_kmeans.py:870: FutureWarning: The default value of `n_init` will change from 10 to 'auto' in 1.4. Set the value of `n_init` explicitly to suppress the warning\n",
      "  warnings.warn(\n",
      "C:\\Users\\KAKUT\\Anaconda\\lib\\site-packages\\sklearn\\cluster\\_kmeans.py:870: FutureWarning: The default value of `n_init` will change from 10 to 'auto' in 1.4. Set the value of `n_init` explicitly to suppress the warning\n",
      "  warnings.warn(\n",
      "C:\\Users\\KAKUT\\Anaconda\\lib\\site-packages\\sklearn\\cluster\\_kmeans.py:870: FutureWarning: The default value of `n_init` will change from 10 to 'auto' in 1.4. Set the value of `n_init` explicitly to suppress the warning\n",
      "  warnings.warn(\n",
      "C:\\Users\\KAKUT\\Anaconda\\lib\\site-packages\\sklearn\\cluster\\_kmeans.py:870: FutureWarning: The default value of `n_init` will change from 10 to 'auto' in 1.4. Set the value of `n_init` explicitly to suppress the warning\n",
      "  warnings.warn(\n",
      "C:\\Users\\KAKUT\\Anaconda\\lib\\site-packages\\sklearn\\cluster\\_kmeans.py:870: FutureWarning: The default value of `n_init` will change from 10 to 'auto' in 1.4. Set the value of `n_init` explicitly to suppress the warning\n",
      "  warnings.warn(\n",
      "C:\\Users\\KAKUT\\Anaconda\\lib\\site-packages\\sklearn\\cluster\\_kmeans.py:870: FutureWarning: The default value of `n_init` will change from 10 to 'auto' in 1.4. Set the value of `n_init` explicitly to suppress the warning\n",
      "  warnings.warn(\n",
      "C:\\Users\\KAKUT\\Anaconda\\lib\\site-packages\\sklearn\\cluster\\_kmeans.py:870: FutureWarning: The default value of `n_init` will change from 10 to 'auto' in 1.4. Set the value of `n_init` explicitly to suppress the warning\n",
      "  warnings.warn(\n",
      "C:\\Users\\KAKUT\\Anaconda\\lib\\site-packages\\sklearn\\cluster\\_kmeans.py:870: FutureWarning: The default value of `n_init` will change from 10 to 'auto' in 1.4. Set the value of `n_init` explicitly to suppress the warning\n",
      "  warnings.warn(\n",
      "C:\\Users\\KAKUT\\Anaconda\\lib\\site-packages\\sklearn\\cluster\\_kmeans.py:870: FutureWarning: The default value of `n_init` will change from 10 to 'auto' in 1.4. Set the value of `n_init` explicitly to suppress the warning\n",
      "  warnings.warn(\n",
      "C:\\Users\\KAKUT\\Anaconda\\lib\\site-packages\\sklearn\\cluster\\_kmeans.py:870: FutureWarning: The default value of `n_init` will change from 10 to 'auto' in 1.4. Set the value of `n_init` explicitly to suppress the warning\n",
      "  warnings.warn(\n",
      "C:\\Users\\KAKUT\\Anaconda\\lib\\site-packages\\sklearn\\cluster\\_kmeans.py:870: FutureWarning: The default value of `n_init` will change from 10 to 'auto' in 1.4. Set the value of `n_init` explicitly to suppress the warning\n",
      "  warnings.warn(\n",
      "C:\\Users\\KAKUT\\Anaconda\\lib\\site-packages\\sklearn\\cluster\\_kmeans.py:870: FutureWarning: The default value of `n_init` will change from 10 to 'auto' in 1.4. Set the value of `n_init` explicitly to suppress the warning\n",
      "  warnings.warn(\n",
      "C:\\Users\\KAKUT\\Anaconda\\lib\\site-packages\\sklearn\\cluster\\_kmeans.py:870: FutureWarning: The default value of `n_init` will change from 10 to 'auto' in 1.4. Set the value of `n_init` explicitly to suppress the warning\n",
      "  warnings.warn(\n",
      "C:\\Users\\KAKUT\\Anaconda\\lib\\site-packages\\sklearn\\cluster\\_kmeans.py:870: FutureWarning: The default value of `n_init` will change from 10 to 'auto' in 1.4. Set the value of `n_init` explicitly to suppress the warning\n",
      "  warnings.warn(\n"
     ]
    },
    {
     "data": {
      "image/png": "[encoded data removed]",
      "text/plain": [
       "<Figure size 640x480 with 1 Axes>"
      ]
     },
     "metadata": {},
     "output_type": "display_data"
    }
   ],
   "source": [
    "from yellowbrick.cluster import KElbowVisualizer  \n",
    "\n",
    "model = KMeans()   # Elbow method applied with the usual Euclidean metric\n",
    "\n",
    "# Choosing the range {2,3,...,30} for number of clusters\n",
    "\n",
    "visualizer = KElbowVisualizer(model, k=(2,30), timings=False)  \n",
    "\n",
    "visualizer.fit(pca_df)  # Fitting the data\n",
    "visualizer.show()  # Display the results\n",
    "plt.show()"
   ]
  },
  {
   "cell_type": "code",
   "execution_count": 126,
   "id": "18ec0df5",
   "metadata": {},
   "outputs": [
    {
     "name": "stderr",
     "output_type": "stream",
     "text": [
      "C:\\Users\\KAKUT\\Anaconda\\lib\\site-packages\\sklearn\\cluster\\_kmeans.py:870: FutureWarning: The default value of `n_init` will change from 10 to 'auto' in 1.4. Set the value of `n_init` explicitly to suppress the warning\n",
      "  warnings.warn(\n",
      "C:\\Users\\KAKUT\\Anaconda\\lib\\site-packages\\sklearn\\cluster\\_kmeans.py:870: FutureWarning: The default value of `n_init` will change from 10 to 'auto' in 1.4. Set the value of `n_init` explicitly to suppress the warning\n",
      "  warnings.warn(\n",
      "C:\\Users\\KAKUT\\Anaconda\\lib\\site-packages\\sklearn\\cluster\\_kmeans.py:870: FutureWarning: The default value of `n_init` will change from 10 to 'auto' in 1.4. Set the value of `n_init` explicitly to suppress the warning\n",
      "  warnings.warn(\n",
      "C:\\Users\\KAKUT\\Anaconda\\lib\\site-packages\\sklearn\\cluster\\_kmeans.py:870: FutureWarning: The default value of `n_init` will change from 10 to 'auto' in 1.4. Set the value of `n_init` explicitly to suppress the warning\n",
      "  warnings.warn(\n",
      "C:\\Users\\KAKUT\\Anaconda\\lib\\site-packages\\sklearn\\cluster\\_kmeans.py:870: FutureWarning: The default value of `n_init` will change from 10 to 'auto' in 1.4. Set the value of `n_init` explicitly to suppress the warning\n",
      "  warnings.warn(\n",
      "C:\\Users\\KAKUT\\Anaconda\\lib\\site-packages\\sklearn\\cluster\\_kmeans.py:870: FutureWarning: The default value of `n_init` will change from 10 to 'auto' in 1.4. Set the value of `n_init` explicitly to suppress the warning\n",
      "  warnings.warn(\n",
      "C:\\Users\\KAKUT\\Anaconda\\lib\\site-packages\\sklearn\\cluster\\_kmeans.py:870: FutureWarning: The default value of `n_init` will change from 10 to 'auto' in 1.4. Set the value of `n_init` explicitly to suppress the warning\n",
      "  warnings.warn(\n",
      "C:\\Users\\KAKUT\\Anaconda\\lib\\site-packages\\sklearn\\cluster\\_kmeans.py:870: FutureWarning: The default value of `n_init` will change from 10 to 'auto' in 1.4. Set the value of `n_init` explicitly to suppress the warning\n",
      "  warnings.warn(\n",
      "C:\\Users\\KAKUT\\Anaconda\\lib\\site-packages\\sklearn\\cluster\\_kmeans.py:870: FutureWarning: The default value of `n_init` will change from 10 to 'auto' in 1.4. Set the value of `n_init` explicitly to suppress the warning\n",
      "  warnings.warn(\n",
      "C:\\Users\\KAKUT\\Anaconda\\lib\\site-packages\\sklearn\\cluster\\_kmeans.py:870: FutureWarning: The default value of `n_init` will change from 10 to 'auto' in 1.4. Set the value of `n_init` explicitly to suppress the warning\n",
      "  warnings.warn(\n",
      "C:\\Users\\KAKUT\\Anaconda\\lib\\site-packages\\sklearn\\cluster\\_kmeans.py:870: FutureWarning: The default value of `n_init` will change from 10 to 'auto' in 1.4. Set the value of `n_init` explicitly to suppress the warning\n",
      "  warnings.warn(\n",
      "C:\\Users\\KAKUT\\Anaconda\\lib\\site-packages\\sklearn\\cluster\\_kmeans.py:870: FutureWarning: The default value of `n_init` will change from 10 to 'auto' in 1.4. Set the value of `n_init` explicitly to suppress the warning\n",
      "  warnings.warn(\n",
      "C:\\Users\\KAKUT\\Anaconda\\lib\\site-packages\\sklearn\\cluster\\_kmeans.py:870: FutureWarning: The default value of `n_init` will change from 10 to 'auto' in 1.4. Set the value of `n_init` explicitly to suppress the warning\n",
      "  warnings.warn(\n",
      "C:\\Users\\KAKUT\\Anaconda\\lib\\site-packages\\sklearn\\cluster\\_kmeans.py:870: FutureWarning: The default value of `n_init` will change from 10 to 'auto' in 1.4. Set the value of `n_init` explicitly to suppress the warning\n",
      "  warnings.warn(\n",
      "C:\\Users\\KAKUT\\Anaconda\\lib\\site-packages\\sklearn\\cluster\\_kmeans.py:870: FutureWarning: The default value of `n_init` will change from 10 to 'auto' in 1.4. Set the value of `n_init` explicitly to suppress the warning\n",
      "  warnings.warn(\n",
      "C:\\Users\\KAKUT\\Anaconda\\lib\\site-packages\\sklearn\\cluster\\_kmeans.py:870: FutureWarning: The default value of `n_init` will change from 10 to 'auto' in 1.4. Set the value of `n_init` explicitly to suppress the warning\n",
      "  warnings.warn(\n",
      "C:\\Users\\KAKUT\\Anaconda\\lib\\site-packages\\sklearn\\cluster\\_kmeans.py:870: FutureWarning: The default value of `n_init` will change from 10 to 'auto' in 1.4. Set the value of `n_init` explicitly to suppress the warning\n",
      "  warnings.warn(\n",
      "C:\\Users\\KAKUT\\Anaconda\\lib\\site-packages\\sklearn\\cluster\\_kmeans.py:870: FutureWarning: The default value of `n_init` will change from 10 to 'auto' in 1.4. Set the value of `n_init` explicitly to suppress the warning\n",
      "  warnings.warn(\n",
      "C:\\Users\\KAKUT\\Anaconda\\lib\\site-packages\\sklearn\\cluster\\_kmeans.py:870: FutureWarning: The default value of `n_init` will change from 10 to 'auto' in 1.4. Set the value of `n_init` explicitly to suppress the warning\n",
      "  warnings.warn(\n",
      "C:\\Users\\KAKUT\\Anaconda\\lib\\site-packages\\sklearn\\cluster\\_kmeans.py:870: FutureWarning: The default value of `n_init` will change from 10 to 'auto' in 1.4. Set the value of `n_init` explicitly to suppress the warning\n",
      "  warnings.warn(\n",
      "C:\\Users\\KAKUT\\Anaconda\\lib\\site-packages\\sklearn\\cluster\\_kmeans.py:870: FutureWarning: The default value of `n_init` will change from 10 to 'auto' in 1.4. Set the value of `n_init` explicitly to suppress the warning\n",
      "  warnings.warn(\n",
      "C:\\Users\\KAKUT\\Anaconda\\lib\\site-packages\\sklearn\\cluster\\_kmeans.py:870: FutureWarning: The default value of `n_init` will change from 10 to 'auto' in 1.4. Set the value of `n_init` explicitly to suppress the warning\n",
      "  warnings.warn(\n",
      "C:\\Users\\KAKUT\\Anaconda\\lib\\site-packages\\sklearn\\cluster\\_kmeans.py:870: FutureWarning: The default value of `n_init` will change from 10 to 'auto' in 1.4. Set the value of `n_init` explicitly to suppress the warning\n",
      "  warnings.warn(\n",
      "C:\\Users\\KAKUT\\Anaconda\\lib\\site-packages\\sklearn\\cluster\\_kmeans.py:870: FutureWarning: The default value of `n_init` will change from 10 to 'auto' in 1.4. Set the value of `n_init` explicitly to suppress the warning\n",
      "  warnings.warn(\n",
      "C:\\Users\\KAKUT\\Anaconda\\lib\\site-packages\\sklearn\\cluster\\_kmeans.py:870: FutureWarning: The default value of `n_init` will change from 10 to 'auto' in 1.4. Set the value of `n_init` explicitly to suppress the warning\n",
      "  warnings.warn(\n",
      "C:\\Users\\KAKUT\\Anaconda\\lib\\site-packages\\sklearn\\cluster\\_kmeans.py:870: FutureWarning: The default value of `n_init` will change from 10 to 'auto' in 1.4. Set the value of `n_init` explicitly to suppress the warning\n",
      "  warnings.warn(\n",
      "C:\\Users\\KAKUT\\Anaconda\\lib\\site-packages\\sklearn\\cluster\\_kmeans.py:870: FutureWarning: The default value of `n_init` will change from 10 to 'auto' in 1.4. Set the value of `n_init` explicitly to suppress the warning\n",
      "  warnings.warn(\n",
      "C:\\Users\\KAKUT\\Anaconda\\lib\\site-packages\\sklearn\\cluster\\_kmeans.py:870: FutureWarning: The default value of `n_init` will change from 10 to 'auto' in 1.4. Set the value of `n_init` explicitly to suppress the warning\n",
      "  warnings.warn(\n"
     ]
    },
    {
     "data": {
      "image/png": "[encoded data removed]",
      "text/plain": [
       "<Figure size 640x480 with 1 Axes>"
      ]
     },
     "metadata": {},
     "output_type": "display_data"
    }
   ],
   "source": [
    "# Applying the Calinski-Harabasz score\n",
    "\n",
    "visualizer = KElbowVisualizer(model, k=(2,30), metric = 'calinski_harabasz', timings=False)\n",
    "\n",
    "visualizer.fit(pca_df)  # Fitting the data\n",
    "visualizer.show()  # Display the results\n",
    "plt.show()"
   ]
  },
  {
   "cell_type": "code",
   "execution_count": 127,
   "id": "cb24eea6",
   "metadata": {},
   "outputs": [
    {
     "name": "stderr",
     "output_type": "stream",
     "text": [
      "C:\\Users\\KAKUT\\Anaconda\\lib\\site-packages\\sklearn\\cluster\\_kmeans.py:870: FutureWarning: The default value of `n_init` will change from 10 to 'auto' in 1.4. Set the value of `n_init` explicitly to suppress the warning\n",
      "  warnings.warn(\n",
      "C:\\Users\\KAKUT\\Anaconda\\lib\\site-packages\\sklearn\\cluster\\_kmeans.py:870: FutureWarning: The default value of `n_init` will change from 10 to 'auto' in 1.4. Set the value of `n_init` explicitly to suppress the warning\n",
      "  warnings.warn(\n",
      "C:\\Users\\KAKUT\\Anaconda\\lib\\site-packages\\sklearn\\cluster\\_kmeans.py:870: FutureWarning: The default value of `n_init` will change from 10 to 'auto' in 1.4. Set the value of `n_init` explicitly to suppress the warning\n",
      "  warnings.warn(\n",
      "C:\\Users\\KAKUT\\Anaconda\\lib\\site-packages\\sklearn\\cluster\\_kmeans.py:870: FutureWarning: The default value of `n_init` will change from 10 to 'auto' in 1.4. Set the value of `n_init` explicitly to suppress the warning\n",
      "  warnings.warn(\n",
      "C:\\Users\\KAKUT\\Anaconda\\lib\\site-packages\\sklearn\\cluster\\_kmeans.py:870: FutureWarning: The default value of `n_init` will change from 10 to 'auto' in 1.4. Set the value of `n_init` explicitly to suppress the warning\n",
      "  warnings.warn(\n",
      "C:\\Users\\KAKUT\\Anaconda\\lib\\site-packages\\sklearn\\cluster\\_kmeans.py:870: FutureWarning: The default value of `n_init` will change from 10 to 'auto' in 1.4. Set the value of `n_init` explicitly to suppress the warning\n",
      "  warnings.warn(\n",
      "C:\\Users\\KAKUT\\Anaconda\\lib\\site-packages\\sklearn\\cluster\\_kmeans.py:870: FutureWarning: The default value of `n_init` will change from 10 to 'auto' in 1.4. Set the value of `n_init` explicitly to suppress the warning\n",
      "  warnings.warn(\n",
      "C:\\Users\\KAKUT\\Anaconda\\lib\\site-packages\\sklearn\\cluster\\_kmeans.py:870: FutureWarning: The default value of `n_init` will change from 10 to 'auto' in 1.4. Set the value of `n_init` explicitly to suppress the warning\n",
      "  warnings.warn(\n",
      "C:\\Users\\KAKUT\\Anaconda\\lib\\site-packages\\sklearn\\cluster\\_kmeans.py:870: FutureWarning: The default value of `n_init` will change from 10 to 'auto' in 1.4. Set the value of `n_init` explicitly to suppress the warning\n",
      "  warnings.warn(\n",
      "C:\\Users\\KAKUT\\Anaconda\\lib\\site-packages\\sklearn\\cluster\\_kmeans.py:870: FutureWarning: The default value of `n_init` will change from 10 to 'auto' in 1.4. Set the value of `n_init` explicitly to suppress the warning\n",
      "  warnings.warn(\n",
      "C:\\Users\\KAKUT\\Anaconda\\lib\\site-packages\\sklearn\\cluster\\_kmeans.py:870: FutureWarning: The default value of `n_init` will change from 10 to 'auto' in 1.4. Set the value of `n_init` explicitly to suppress the warning\n",
      "  warnings.warn(\n",
      "C:\\Users\\KAKUT\\Anaconda\\lib\\site-packages\\sklearn\\cluster\\_kmeans.py:870: FutureWarning: The default value of `n_init` will change from 10 to 'auto' in 1.4. Set the value of `n_init` explicitly to suppress the warning\n",
      "  warnings.warn(\n",
      "C:\\Users\\KAKUT\\Anaconda\\lib\\site-packages\\sklearn\\cluster\\_kmeans.py:870: FutureWarning: The default value of `n_init` will change from 10 to 'auto' in 1.4. Set the value of `n_init` explicitly to suppress the warning\n",
      "  warnings.warn(\n",
      "C:\\Users\\KAKUT\\Anaconda\\lib\\site-packages\\sklearn\\cluster\\_kmeans.py:870: FutureWarning: The default value of `n_init` will change from 10 to 'auto' in 1.4. Set the value of `n_init` explicitly to suppress the warning\n",
      "  warnings.warn(\n",
      "C:\\Users\\KAKUT\\Anaconda\\lib\\site-packages\\sklearn\\cluster\\_kmeans.py:870: FutureWarning: The default value of `n_init` will change from 10 to 'auto' in 1.4. Set the value of `n_init` explicitly to suppress the warning\n",
      "  warnings.warn(\n",
      "C:\\Users\\KAKUT\\Anaconda\\lib\\site-packages\\sklearn\\cluster\\_kmeans.py:870: FutureWarning: The default value of `n_init` will change from 10 to 'auto' in 1.4. Set the value of `n_init` explicitly to suppress the warning\n",
      "  warnings.warn(\n",
      "C:\\Users\\KAKUT\\Anaconda\\lib\\site-packages\\sklearn\\cluster\\_kmeans.py:870: FutureWarning: The default value of `n_init` will change from 10 to 'auto' in 1.4. Set the value of `n_init` explicitly to suppress the warning\n",
      "  warnings.warn(\n",
      "C:\\Users\\KAKUT\\Anaconda\\lib\\site-packages\\sklearn\\cluster\\_kmeans.py:870: FutureWarning: The default value of `n_init` will change from 10 to 'auto' in 1.4. Set the value of `n_init` explicitly to suppress the warning\n",
      "  warnings.warn(\n",
      "C:\\Users\\KAKUT\\Anaconda\\lib\\site-packages\\sklearn\\cluster\\_kmeans.py:870: FutureWarning: The default value of `n_init` will change from 10 to 'auto' in 1.4. Set the value of `n_init` explicitly to suppress the warning\n",
      "  warnings.warn(\n",
      "C:\\Users\\KAKUT\\Anaconda\\lib\\site-packages\\sklearn\\cluster\\_kmeans.py:870: FutureWarning: The default value of `n_init` will change from 10 to 'auto' in 1.4. Set the value of `n_init` explicitly to suppress the warning\n",
      "  warnings.warn(\n",
      "C:\\Users\\KAKUT\\Anaconda\\lib\\site-packages\\sklearn\\cluster\\_kmeans.py:870: FutureWarning: The default value of `n_init` will change from 10 to 'auto' in 1.4. Set the value of `n_init` explicitly to suppress the warning\n",
      "  warnings.warn(\n",
      "C:\\Users\\KAKUT\\Anaconda\\lib\\site-packages\\sklearn\\cluster\\_kmeans.py:870: FutureWarning: The default value of `n_init` will change from 10 to 'auto' in 1.4. Set the value of `n_init` explicitly to suppress the warning\n",
      "  warnings.warn(\n",
      "C:\\Users\\KAKUT\\Anaconda\\lib\\site-packages\\sklearn\\cluster\\_kmeans.py:870: FutureWarning: The default value of `n_init` will change from 10 to 'auto' in 1.4. Set the value of `n_init` explicitly to suppress the warning\n",
      "  warnings.warn(\n",
      "C:\\Users\\KAKUT\\Anaconda\\lib\\site-packages\\sklearn\\cluster\\_kmeans.py:870: FutureWarning: The default value of `n_init` will change from 10 to 'auto' in 1.4. Set the value of `n_init` explicitly to suppress the warning\n",
      "  warnings.warn(\n",
      "C:\\Users\\KAKUT\\Anaconda\\lib\\site-packages\\sklearn\\cluster\\_kmeans.py:870: FutureWarning: The default value of `n_init` will change from 10 to 'auto' in 1.4. Set the value of `n_init` explicitly to suppress the warning\n",
      "  warnings.warn(\n",
      "C:\\Users\\KAKUT\\Anaconda\\lib\\site-packages\\sklearn\\cluster\\_kmeans.py:870: FutureWarning: The default value of `n_init` will change from 10 to 'auto' in 1.4. Set the value of `n_init` explicitly to suppress the warning\n",
      "  warnings.warn(\n",
      "C:\\Users\\KAKUT\\Anaconda\\lib\\site-packages\\sklearn\\cluster\\_kmeans.py:870: FutureWarning: The default value of `n_init` will change from 10 to 'auto' in 1.4. Set the value of `n_init` explicitly to suppress the warning\n",
      "  warnings.warn(\n",
      "C:\\Users\\KAKUT\\Anaconda\\lib\\site-packages\\sklearn\\cluster\\_kmeans.py:870: FutureWarning: The default value of `n_init` will change from 10 to 'auto' in 1.4. Set the value of `n_init` explicitly to suppress the warning\n",
      "  warnings.warn(\n"
     ]
    },
    {
     "data": {
      "image/png": "[encoded data removed]",
      "text/plain": [
       "<Figure size 640x480 with 1 Axes>"
      ]
     },
     "metadata": {},
     "output_type": "display_data"
    }
   ],
   "source": [
    "# Applying the Silhouette score\n",
    "\n",
    "visualizer = KElbowVisualizer(model, k=(2,30), metric = 'silhouette' , timings=False) \n",
    "\n",
    "visualizer.fit(pca_df)  # Fitting the data\n",
    "visualizer.show()  # Display the results\n",
    "plt.show()"
   ]
  },
  {
   "cell_type": "markdown",
   "id": "96f49c89",
   "metadata": {},
   "source": [
    "We can observe that different methods show differnt number of clusters like yellow brick shows 11, silhouette shows 2 and calinski harabasz shows 2 clusters. Hence Let us define a function to perform K-means clustering with different number of clusters and display the results geometrically."
   ]
  },
  {
   "cell_type": "code",
   "execution_count": 39,
   "id": "845acb27",
   "metadata": {},
   "outputs": [
    {
     "name": "stdout",
     "output_type": "stream",
     "text": [
      "Requirement already satisfied: scikit-learn in c:\\users\\kakut\\anaconda\\lib\\site-packages (1.2.2)\n",
      "Requirement already satisfied: scipy>=1.3.2 in c:\\users\\kakut\\anaconda\\lib\\site-packages (from scikit-learn) (1.7.3)\n",
      "Requirement already satisfied: joblib>=1.1.1 in c:\\users\\kakut\\anaconda\\lib\\site-packages (from scikit-learn) (1.2.0)\n",
      "Requirement already satisfied: numpy>=1.17.3 in c:\\users\\kakut\\anaconda\\lib\\site-packages (from scikit-learn) (1.22.4)\n",
      "Requirement already satisfied: threadpoolctl>=2.0.0 in c:\\users\\kakut\\anaconda\\lib\\site-packages (from scikit-learn) (2.2.0)\n",
      "Requirement already satisfied: threadpoolctl in c:\\users\\kakut\\anaconda\\lib\\site-packages (2.2.0)\n",
      "Collecting threadpoolctl\n",
      "  Downloading threadpoolctl-3.1.0-py3-none-any.whl (14 kB)\n",
      "Installing collected packages: threadpoolctl\n",
      "  Attempting uninstall: threadpoolctl\n",
      "    Found existing installation: threadpoolctl 2.2.0\n",
      "    Uninstalling threadpoolctl-2.2.0:\n",
      "      Successfully uninstalled threadpoolctl-2.2.0\n",
      "Successfully installed threadpoolctl-3.1.0\n"
     ]
    }
   ],
   "source": [
    "!pip install --upgrade scikit-learn\n",
    "!pip install --upgrade threadpoolctl\n"
   ]
  },
  {
   "cell_type": "code",
   "execution_count": 43,
   "id": "b1806c01",
   "metadata": {},
   "outputs": [
    {
     "name": "stdout",
     "output_type": "stream",
     "text": [
      "^C\n",
      "Requirement already satisfied: numpy==1.21.4 in c:\\users\\kakut\\anaconda\\lib\\site-packages (1.21.4)\n"
     ]
    }
   ],
   "source": [
    "!pip uninstall numpy\n",
    "!pip install numpy==1.21.4\n"
   ]
  },
  {
   "cell_type": "code",
   "execution_count": 177,
   "id": "d6ddeb07",
   "metadata": {},
   "outputs": [],
   "source": [
    "def kmeans_clusters(X, n_clust):\n",
    "    k_means = KMeans(n_clusters=n_clust)\n",
    "    k_means.fit(X)\n",
    "    y_pred = k_means.predict(X)\n",
    "    cl_centroids = k_means.cluster_centers_\n",
    "    import matplotlib.style\n",
    "    import matplotlib as mpl\n",
    "    mpl.style.use('default')\n",
    "    plt.figure(figsize=(6, 4))\n",
    "    plt.scatter(X.iloc[:,0], X.iloc[:,1], c=y_pred, s=25)  \n",
    "    plt.scatter(cl_centroids[:, 0], cl_centroids[:, 1], c='red', s=100) \n",
    "    plt.xlabel(r'$x_1$')\n",
    "    plt.ylabel(r'$x_2$')\n",
    "    plt.title('plot')\n",
    "    plt.show()\n",
    "    return cl_centroids"
   ]
  },
  {
   "cell_type": "code",
   "execution_count": 178,
   "id": "ce5f9629",
   "metadata": {},
   "outputs": [
    {
     "name": "stderr",
     "output_type": "stream",
     "text": [
      "C:\\Users\\KAKUT\\Anaconda\\lib\\site-packages\\sklearn\\cluster\\_kmeans.py:870: FutureWarning: The default value of `n_init` will change from 10 to 'auto' in 1.4. Set the value of `n_init` explicitly to suppress the warning\n",
      "  warnings.warn(\n"
     ]
    },
    {
     "data": {
      "image/png": "[encoded data removed]",
      "text/plain": [
       "<Figure size 600x400 with 1 Axes>"
      ]
     },
     "metadata": {},
     "output_type": "display_data"
    },
    {
     "data": {
      "text/plain": [
       "array([[-2.43111319e-01,  3.00447778e-01,  2.23396084e-01,\n",
       "        -1.37639514e-01,  1.16369478e-02,  6.76490676e-02,\n",
       "         1.01770247e-03, -5.74987838e-02, -2.13076864e-02,\n",
       "         1.33788238e-02,  3.36656692e+00],\n",
       "       [ 1.41181234e+00, -1.74478046e+00, -1.29732070e+00,\n",
       "         7.99309403e-01, -6.75788626e-02, -3.92856197e-01,\n",
       "        -5.91006995e-03,  3.33910789e-01,  1.23739424e-01,\n",
       "        -7.76944015e-02,  1.49589258e+01]])"
      ]
     },
     "execution_count": 178,
     "metadata": {},
     "output_type": "execute_result"
    }
   ],
   "source": [
    "kmeans_clusters(pca_df, 2)  # Displaying kmeans results for K=2"
   ]
  },
  {
   "cell_type": "code",
   "execution_count": 179,
   "id": "6510c339",
   "metadata": {},
   "outputs": [
    {
     "name": "stderr",
     "output_type": "stream",
     "text": [
      "C:\\Users\\KAKUT\\Anaconda\\lib\\site-packages\\sklearn\\cluster\\_kmeans.py:870: FutureWarning: The default value of `n_init` will change from 10 to 'auto' in 1.4. Set the value of `n_init` explicitly to suppress the warning\n",
      "  warnings.warn(\n"
     ]
    },
    {
     "data": {
      "image/png": "[encoded data removed]",
      "text/plain": [
       "<Figure size 600x400 with 1 Axes>"
      ]
     },
     "metadata": {},
     "output_type": "display_data"
    },
    {
     "data": {
      "text/plain": [
       "array([[ 3.76306808e-01,  1.54091212e+00, -3.46962153e-01,\n",
       "        -1.01286779e+00, -1.76510595e-01, -1.74046789e-01,\n",
       "         2.07057331e-01,  1.16678618e-01,  2.18742844e-01,\n",
       "        -2.37658913e-01,  6.05541932e+00],\n",
       "       [ 3.31372623e+00, -4.84067326e-01, -1.17911151e+00,\n",
       "         1.58093065e-01,  1.33557342e+00, -2.89902972e-01,\n",
       "        -1.11337619e+00,  7.82129992e-01, -5.86804053e-02,\n",
       "         3.40201603e-01,  1.48816121e+01],\n",
       "       [-1.48493143e+00,  5.41659926e-03,  8.48946868e-01,\n",
       "         3.07553407e-01,  3.53595604e-01,  3.78676414e-01,\n",
       "        -1.55324178e-01, -1.85651060e-01, -1.78224422e-01,\n",
       "        -2.84178561e-02,  2.94074311e+00],\n",
       "       [-6.19193253e-02, -2.67628065e+00, -2.94992838e-01,\n",
       "         1.33469383e+00, -4.41860349e-01, -1.38869851e+00,\n",
       "         9.11827233e-01,  5.62249215e-01,  4.91812607e-01,\n",
       "        -7.46769835e-01,  1.70000000e+01],\n",
       "       [ 2.51212667e+01, -6.48185332e-01,  8.31020432e+00,\n",
       "        -4.04705168e+00, -7.58749658e+00,  3.42732622e+00,\n",
       "        -9.27025087e-01, -3.54345475e+00, -1.40858033e+00,\n",
       "        -9.68586355e-01,  8.00000000e+00],\n",
       "       [ 1.22940660e+01,  1.50014039e+01, -1.97866568e+00,\n",
       "         1.96622312e+01,  5.42182526e-01, -3.39545122e+00,\n",
       "         1.13190875e+00,  2.37553664e+00, -8.77420975e+00,\n",
       "         1.80665308e+00,  1.00000000e+00],\n",
       "       [ 8.00788740e+00, -1.83475556e+00,  2.72147814e+00,\n",
       "        -4.26462078e-01, -1.56964264e+00, -4.24839095e-01,\n",
       "        -1.91527466e-01, -6.52893852e-01, -2.25456553e-01,\n",
       "        -5.12534003e-01,  5.00483092e+00],\n",
       "       [ 2.04835277e-02, -3.85460975e-01, -4.51035939e-01,\n",
       "        -4.22084639e-02, -1.74179990e-01, -1.82374412e-01,\n",
       "        -1.85602700e-02, -2.38962743e-02,  6.21236254e-02,\n",
       "         3.81853722e-01,  1.04669061e+00],\n",
       "       [-8.02787129e-01, -1.62443689e+00, -4.26155955e+00,\n",
       "         7.55384714e-01, -3.62109888e+00,  1.49268000e+00,\n",
       "        -7.22633911e-03, -6.52540014e-01, -6.85250044e-01,\n",
       "         8.19074845e-01,  1.09326923e+01],\n",
       "       [ 1.06825703e+01, -1.21991389e+00,  8.35795690e+00,\n",
       "         2.31566348e+00,  6.23027974e-01,  2.01396160e+01,\n",
       "         1.68070001e+01,  1.78451878e+01,  3.06063127e+00,\n",
       "         6.15035657e+00,  8.00000000e+00],\n",
       "       [ 1.78688512e+01,  1.59936687e+01, -5.06219456e+00,\n",
       "         3.13662363e+01,  5.68159606e+00,  9.44099009e+00,\n",
       "        -4.41896739e+00, -1.63875822e+01,  3.04816279e+01,\n",
       "        -1.26498529e+00,  1.40000000e+01],\n",
       "       [ 7.36165438e+00, -2.22207671e+00, -2.92347633e+00,\n",
       "        -1.15185846e+00,  6.88558549e+00,  1.60608622e+00,\n",
       "        -8.01581846e-01, -5.68443028e-01, -9.29629479e-01,\n",
       "         3.92884726e-01,  8.89552239e+00]])"
      ]
     },
     "execution_count": 179,
     "metadata": {},
     "output_type": "execute_result"
    }
   ],
   "source": [
    "kmeans_clusters(pca_df, 12)  # Displaying kmeans results for K=3"
   ]
  },
  {
   "cell_type": "markdown",
   "id": "d7f4efe9",
   "metadata": {},
   "source": [
    "(j) answer : By oberving the clusters we can observe that, the number of optimal clusters will be 2."
   ]
  },
  {
   "cell_type": "markdown",
   "id": "dbaf7253",
   "metadata": {},
   "source": [
    "(k) Perform K-means clustering with the number of clusters you determined in part (j)"
   ]
  },
  {
   "cell_type": "code",
   "execution_count": 180,
   "id": "ecefe01e",
   "metadata": {},
   "outputs": [],
   "source": [
    "def kmeans_clusters(X, n_clust):\n",
    "    k_means = KMeans(n_clusters=n_clust)\n",
    "    k_means.fit(X)\n",
    "    y_pred = k_means.predict(X)\n",
    "    cl_centroids = k_means.cluster_centers_\n",
    "    import matplotlib.style\n",
    "    import matplotlib as mpl\n",
    "    mpl.style.use('default')\n",
    "    plt.figure(figsize=(6, 4))\n",
    "    plt.scatter(X.iloc[:,0], X.iloc[:,1], c=y_pred, s=25)  \n",
    "    plt.scatter(cl_centroids[:, 0], cl_centroids[:, 1], c='red', s=100) \n",
    "    plt.xlabel(r'$x_1$')\n",
    "    plt.ylabel(r'$x_2$')\n",
    "    plt.title('A Toy Dataset with 2 Features')\n",
    "    plt.show()\n",
    "    return cl_centroids\n"
   ]
  },
  {
   "cell_type": "code",
   "execution_count": 181,
   "id": "59f547ea",
   "metadata": {},
   "outputs": [
    {
     "name": "stderr",
     "output_type": "stream",
     "text": [
      "C:\\Users\\KAKUT\\Anaconda\\lib\\site-packages\\sklearn\\cluster\\_kmeans.py:870: FutureWarning: The default value of `n_init` will change from 10 to 'auto' in 1.4. Set the value of `n_init` explicitly to suppress the warning\n",
      "  warnings.warn(\n"
     ]
    },
    {
     "data": {
      "image/png": "[encoded data removed]",
      "text/plain": [
       "<Figure size 600x400 with 1 Axes>"
      ]
     },
     "metadata": {},
     "output_type": "display_data"
    },
    {
     "data": {
      "text/plain": [
       "array([[ 1.41181234e+00, -1.74478046e+00, -1.29732070e+00,\n",
       "         7.99309403e-01, -6.75788626e-02, -3.92856197e-01,\n",
       "        -5.91006995e-03,  3.33910789e-01,  1.23739424e-01,\n",
       "        -7.76944015e-02,  1.49589258e+01],\n",
       "       [-2.43111319e-01,  3.00447778e-01,  2.23396084e-01,\n",
       "        -1.37639514e-01,  1.16369478e-02,  6.76490676e-02,\n",
       "         1.01770247e-03, -5.74987838e-02, -2.13076864e-02,\n",
       "         1.33788238e-02,  3.36656692e+00]])"
      ]
     },
     "execution_count": 181,
     "metadata": {},
     "output_type": "execute_result"
    }
   ],
   "source": [
    "kmeans_clusters(pca_df, 2)  # Displaying kmeans results for K=2"
   ]
  },
  {
   "cell_type": "markdown",
   "id": "0306bb83",
   "metadata": {},
   "source": [
    "(l) Add a new column to pca df which indicates the cluster label. Find the size of each\n",
    "cluster you constructed in part (k)."
   ]
  },
  {
   "cell_type": "code",
   "execution_count": 183,
   "id": "1b8eb2fd",
   "metadata": {},
   "outputs": [
    {
     "name": "stderr",
     "output_type": "stream",
     "text": [
      "C:\\Users\\KAKUT\\Anaconda\\lib\\site-packages\\sklearn\\cluster\\_kmeans.py:870: FutureWarning: The default value of `n_init` will change from 10 to 'auto' in 1.4. Set the value of `n_init` explicitly to suppress the warning\n",
      "  warnings.warn(\n",
      "C:\\Users\\KAKUT\\AppData\\Local\\Temp\\ipykernel_27780\\748627628.py:2: SettingWithCopyWarning: \n",
      "A value is trying to be set on a copy of a slice from a DataFrame.\n",
      "Try using .loc[row_indexer,col_indexer] = value instead\n",
      "\n",
      "See the caveats in the documentation: https://pandas.pydata.org/pandas-docs/stable/user_guide/indexing.html#returning-a-view-versus-a-copy\n",
      "  pca_df['cluster_label'] = KMeans.fit_predict(pca_df)\n"
     ]
    }
   ],
   "source": [
    "KMeans=KMeans(n_clusters=2,random_state=42)\n",
    "pca_df['cluster_label'] = KMeans.fit_predict(pca_df)\n"
   ]
  },
  {
   "cell_type": "code",
   "execution_count": 184,
   "id": "bbf43af3",
   "metadata": {},
   "outputs": [
    {
     "data": {
      "text/html": [
       "<div>\n",
       "<style scoped>\n",
       "    .dataframe tbody tr th:only-of-type {\n",
       "        vertical-align: middle;\n",
       "    }\n",
       "\n",
       "    .dataframe tbody tr th {\n",
       "        vertical-align: top;\n",
       "    }\n",
       "\n",
       "    .dataframe thead tr th {\n",
       "        text-align: left;\n",
       "    }\n",
       "</style>\n",
       "<table border=\"1\" class=\"dataframe\">\n",
       "  <thead>\n",
       "    <tr>\n",
       "      <th></th>\n",
       "      <th>Energy_kcal</th>\n",
       "      <th>Protein_g</th>\n",
       "      <th>Fat_g</th>\n",
       "      <th>Carb_g</th>\n",
       "      <th>Sugar_g</th>\n",
       "      <th>Fiber_g</th>\n",
       "      <th>VitA_mcg</th>\n",
       "      <th>VitB6_mg</th>\n",
       "      <th>VitB12_mcg</th>\n",
       "      <th>VitC_mg</th>\n",
       "      <th>cluster_label</th>\n",
       "    </tr>\n",
       "  </thead>\n",
       "  <tbody>\n",
       "    <tr>\n",
       "      <th>0</th>\n",
       "      <td>-1.121776</td>\n",
       "      <td>-1.182251</td>\n",
       "      <td>-3.661940</td>\n",
       "      <td>1.080920</td>\n",
       "      <td>-3.084161</td>\n",
       "      <td>0.838022</td>\n",
       "      <td>0.331073</td>\n",
       "      <td>-0.554879</td>\n",
       "      <td>-0.620704</td>\n",
       "      <td>1.426270</td>\n",
       "      <td>1</td>\n",
       "    </tr>\n",
       "    <tr>\n",
       "      <th>1</th>\n",
       "      <td>-1.114687</td>\n",
       "      <td>-1.184173</td>\n",
       "      <td>-3.662329</td>\n",
       "      <td>1.090738</td>\n",
       "      <td>-3.077430</td>\n",
       "      <td>0.837098</td>\n",
       "      <td>0.323428</td>\n",
       "      <td>-0.551897</td>\n",
       "      <td>-0.630773</td>\n",
       "      <td>1.432207</td>\n",
       "      <td>1</td>\n",
       "    </tr>\n",
       "    <tr>\n",
       "      <th>2</th>\n",
       "      <td>-0.994919</td>\n",
       "      <td>-1.573580</td>\n",
       "      <td>-4.697724</td>\n",
       "      <td>1.317311</td>\n",
       "      <td>-3.912684</td>\n",
       "      <td>0.940208</td>\n",
       "      <td>0.373919</td>\n",
       "      <td>-0.538498</td>\n",
       "      <td>-0.697954</td>\n",
       "      <td>1.763517</td>\n",
       "      <td>1</td>\n",
       "    </tr>\n",
       "    <tr>\n",
       "      <th>3</th>\n",
       "      <td>0.235910</td>\n",
       "      <td>0.566070</td>\n",
       "      <td>-1.905054</td>\n",
       "      <td>-0.834509</td>\n",
       "      <td>0.438104</td>\n",
       "      <td>0.051566</td>\n",
       "      <td>1.709057</td>\n",
       "      <td>-1.160471</td>\n",
       "      <td>-0.395269</td>\n",
       "      <td>0.275188</td>\n",
       "      <td>0</td>\n",
       "    </tr>\n",
       "    <tr>\n",
       "      <th>4</th>\n",
       "      <td>0.300785</td>\n",
       "      <td>0.537659</td>\n",
       "      <td>-2.307570</td>\n",
       "      <td>-0.903853</td>\n",
       "      <td>0.875466</td>\n",
       "      <td>0.014515</td>\n",
       "      <td>2.158001</td>\n",
       "      <td>-1.460309</td>\n",
       "      <td>-0.483304</td>\n",
       "      <td>0.282587</td>\n",
       "      <td>0</td>\n",
       "    </tr>\n",
       "  </tbody>\n",
       "</table>\n",
       "</div>"
      ],
      "text/plain": [
       "  Energy_kcal Protein_g     Fat_g    Carb_g   Sugar_g   Fiber_g  VitA_mcg  \\\n",
       "0   -1.121776 -1.182251 -3.661940  1.080920 -3.084161  0.838022  0.331073   \n",
       "1   -1.114687 -1.184173 -3.662329  1.090738 -3.077430  0.837098  0.323428   \n",
       "2   -0.994919 -1.573580 -4.697724  1.317311 -3.912684  0.940208  0.373919   \n",
       "3    0.235910  0.566070 -1.905054 -0.834509  0.438104  0.051566  1.709057   \n",
       "4    0.300785  0.537659 -2.307570 -0.903853  0.875466  0.014515  2.158001   \n",
       "\n",
       "   VitB6_mg VitB12_mcg   VitC_mg cluster_label  \n",
       "0 -0.554879  -0.620704  1.426270             1  \n",
       "1 -0.551897  -0.630773  1.432207             1  \n",
       "2 -0.538498  -0.697954  1.763517             1  \n",
       "3 -1.160471  -0.395269  0.275188             0  \n",
       "4 -1.460309  -0.483304  0.282587             0  "
      ]
     },
     "execution_count": 184,
     "metadata": {},
     "output_type": "execute_result"
    }
   ],
   "source": [
    "pca_df.head()"
   ]
  },
  {
   "cell_type": "code",
   "execution_count": 185,
   "id": "b64150e4",
   "metadata": {},
   "outputs": [
    {
     "name": "stdout",
     "output_type": "stream",
     "text": [
      "(cluster_label,)\n",
      "0                   7352\n",
      "1                   1266\n",
      "dtype: int64\n",
      "MultiIndex([(  'Energy_kcal',),\n",
      "            (    'Protein_g',),\n",
      "            (        'Fat_g',),\n",
      "            (       'Carb_g',),\n",
      "            (      'Sugar_g',),\n",
      "            (      'Fiber_g',),\n",
      "            (     'VitA_mcg',),\n",
      "            (     'VitB6_mg',),\n",
      "            (   'VitB12_mcg',),\n",
      "            (      'VitC_mg',),\n",
      "            ('cluster_label',)],\n",
      "           )\n"
     ]
    }
   ],
   "source": [
    "cluster_sizes = pca_df['cluster_label'].value_counts()\n",
    "print(cluster_sizes)\n",
    "print(pca_df.columns)\n"
   ]
  },
  {
   "cell_type": "markdown",
   "id": "979ac843",
   "metadata": {},
   "source": [
    "The two clusters are with labels 3 and 6."
   ]
  },
  {
   "cell_type": "markdown",
   "id": "b45ef345",
   "metadata": {},
   "source": [
    "(m) Take two of the largest clusters and find the number of food items in each food category.\n"
   ]
  },
  {
   "cell_type": "code",
   "execution_count": 186,
   "id": "914e598e",
   "metadata": {},
   "outputs": [
    {
     "data": {
      "text/plain": [
       "Index([  ('Energy_kcal',),     ('Protein_g',),         ('Fat_g',),\n",
       "              ('Carb_g',),       ('Sugar_g',),       ('Fiber_g',),\n",
       "            ('VitA_mcg',),      ('VitB6_mg',),    ('VitB12_mcg',),\n",
       "             ('VitC_mg',), ('cluster_label',),               'ID',\n",
       "              'FoodGroup',     'ShortDescrip',          'Descrip'],\n",
       "      dtype='object')"
      ]
     },
     "execution_count": 186,
     "metadata": {},
     "output_type": "execute_result"
    }
   ],
   "source": [
    "\n",
    "\n",
    "# Merge the PCA columns into the main data frame with categorical features\n",
    "df_merged = pd.concat([pca_df, df[['ID', 'FoodGroup', 'ShortDescrip', 'Descrip']]], axis=1)\n",
    "\n",
    "# Rename the columns to remove the parentheses and comma\n",
    "df_merged.columns = list(pca_df.columns) + ['ID', 'FoodGroup', 'ShortDescrip', 'Descrip']\n",
    "\n",
    "df_merged.columns\n"
   ]
  },
  {
   "cell_type": "code",
   "execution_count": 187,
   "id": "713e27a1",
   "metadata": {},
   "outputs": [
    {
     "data": {
      "text/plain": [
       "0       1\n",
       "1       1\n",
       "2       1\n",
       "3       0\n",
       "4       0\n",
       "       ..\n",
       "8613    0\n",
       "8614    0\n",
       "8615    1\n",
       "8616    0\n",
       "8617    0\n",
       "Name: (cluster_label,), Length: 8618, dtype: int32"
      ]
     },
     "execution_count": 187,
     "metadata": {},
     "output_type": "execute_result"
    }
   ],
   "source": [
    "df_merged[('cluster_label',)]"
   ]
  },
  {
   "cell_type": "code",
   "execution_count": 188,
   "id": "ce5eb20c",
   "metadata": {},
   "outputs": [
    {
     "name": "stdout",
     "output_type": "stream",
     "text": [
      "Cluster 0: 7352 food items\n",
      "Food group sizes in cluster 0:\n",
      "Beef Products                          928\n",
      "Vegetables and Vegetable Products      807\n",
      "Baked Products                         500\n",
      "Soups, Sauces, and Gravies             448\n",
      "Lamb, Veal, and Game Products          421\n",
      "Poultry Products                       375\n",
      "Fast Foods                             367\n",
      "Baby Foods                             332\n",
      "Pork Products                          330\n",
      "Fruits and Fruit Juices                320\n",
      "Legumes and Legume Products            309\n",
      "Beverages                              277\n",
      "Finfish and Shellfish Products         254\n",
      "Dairy and Egg Products                 251\n",
      "Breakfast Cereals                      251\n",
      "Sausages and Luncheon Meats            239\n",
      "Sweets                                 150\n",
      "Cereal Grains and Pasta                144\n",
      "American Indian/Alaska Native Foods    142\n",
      "Snacks                                 132\n",
      "Meals, Entrees, and Side Dishes        113\n",
      "Restaurant Foods                       108\n",
      "Fats and Oils                           71\n",
      "Nut and Seed Products                   59\n",
      "Spices and Herbs                        24\n",
      "Name: FoodGroup, dtype: int64\n",
      "\n",
      "Cluster 1: 1266 food items\n",
      "Food group sizes in cluster 1:\n",
      "Baked Products                         297\n",
      "Sweets                                 197\n",
      "Fats and Oils                          148\n",
      "Breakfast Cereals                      112\n",
      "Legumes and Legume Products             80\n",
      "Nut and Seed Products                   74\n",
      "Spices and Herbs                        40\n",
      "Cereal Grains and Pasta                 39\n",
      "Snacks                                  39\n",
      "Beverages                               38\n",
      "Baby Foods                              30\n",
      "Fruits and Fruit Juices                 26\n",
      "American Indian/Alaska Native Foods     23\n",
      "Vegetables and Vegetable Products       21\n",
      "Beef Products                           18\n",
      "Lamb, Veal, and Game Products           17\n",
      "Poultry Products                        15\n",
      "Finfish and Shellfish Products          13\n",
      "Pork Products                           13\n",
      "Dairy and Egg Products                  13\n",
      "Sausages and Luncheon Meats              5\n",
      "Soups, Sauces, and Gravies               4\n",
      "Fast Foods                               4\n",
      "Name: FoodGroup, dtype: int64\n",
      "\n"
     ]
    }
   ],
   "source": [
    "# Take two of the largest clusters\n",
    "largest_clusters = pca_df[('cluster_label',)].value_counts().nlargest(2).index\n",
    "\n",
    "# Print the number of food items in each food category for the two largest clusters\n",
    "for cluster_label in largest_clusters:\n",
    "    cluster_size = len(df_merged[df_merged[('cluster_label',)] == cluster_label])\n",
    "    food_group_sizes = df_merged[df_merged[('cluster_label',)] == cluster_label]['FoodGroup'].value_counts()\n",
    "    print(f\"Cluster {cluster_label}: {cluster_size} food items\")\n",
    "    print(f\"Food group sizes in cluster {cluster_label}:\")\n",
    "    print(food_group_sizes)\n",
    "    print()"
   ]
  },
  {
   "cell_type": "markdown",
   "id": "908281ce",
   "metadata": {},
   "source": [
    "(n) What are the dominant food groups in the two clusters in part (m)? Based on this\n",
    "result, what names would you give to these two clusters?\n"
   ]
  },
  {
   "cell_type": "markdown",
   "id": "edf37d47",
   "metadata": {},
   "source": [
    "Based on the food group sizes in the two clusters, we can see that Cluster 0 contains a larger number of food items and is dominated by food groups such as Beef Products, Vegetables and Vegetable Products, Baked Products, Soups, Sauces, and Gravies, Lamb, Veal, and Game Products, Poultry Products, etc. Cluster 1 contains a smaller number of food items and is dominated by food groups such as Baked Products, Sweets, Fats and Oils, Breakfast Cereals, Legumes and Legume Products, Nut and Seed Products, etc.\n",
    "\n",
    "Given these dominant food groups, we could name Cluster 0 as \"Mainstream Foods\" and Cluster 1 as \"Snacks and Sweets\""
   ]
  },
  {
   "cell_type": "markdown",
   "id": "b517c76e",
   "metadata": {},
   "source": [
    "# Course Evaluation "
   ]
  },
  {
   "attachments": {
    "image.png": {
     "image/png": "[encoded data removed]"
    }
   },
   "cell_type": "markdown",
   "id": "8dd6f98d",
   "metadata": {},
   "source": [
    "![image.png](attachment:image.png)"
   ]
  },
  {
   "cell_type": "markdown",
   "id": "0841a1a2",
   "metadata": {},
   "source": [
    "# Question 03\n"
   ]
  },
  {
   "cell_type": "markdown",
   "id": "2107a00c",
   "metadata": {},
   "source": [
    "3. Length of Time Sequence in RNN Models: Consider the example of Tesla’s stock value\n",
    "we studied in lecture 11. For this example, we structured the input of the model in the form\n",
    "of a tensor of shape (B, T = 50, d = 4). In this problem, we would like to study the effect of\n",
    "the length of the input sequence on the accuracy of the model."
   ]
  },
  {
   "cell_type": "markdown",
   "id": "69479fb1",
   "metadata": {},
   "source": [
    "(a) Take the same simple RNN model we constructed in class and run this model for T =\n",
    "{5, 10, 20, 30, 40, 50, 60}. Collect the R2\n",
    "-scores for the train and test data for different\n",
    "values of T in a dataframe. Plot the R2\n",
    "-score for the train and test data as a function\n",
    "of T.\n",
    "Note: Try to automate this problem as much as you can. Do not execute the model 7\n",
    "times by hand! Take the advantage of appropriate loops and/or functions"
   ]
  },
  {
   "cell_type": "code",
   "execution_count": 202,
   "id": "cd3dd16c",
   "metadata": {},
   "outputs": [],
   "source": [
    "# Importing basic libraries\n",
    "\n",
    "import numpy as np\n",
    "import pandas as pd\n",
    "import matplotlib.pyplot as plt\n",
    "%matplotlib inline\n",
    "import seaborn as sns\n",
    "import time"
   ]
  },
  {
   "cell_type": "code",
   "execution_count": 235,
   "id": "09eb479b",
   "metadata": {},
   "outputs": [
    {
     "name": "stdout",
     "output_type": "stream",
     "text": [
      "Collecting numpy==1.23"
     ]
    },
    {
     "name": "stderr",
     "output_type": "stream",
     "text": [
      "ERROR: pip's dependency resolver does not currently take into account all the packages that are installed. This behaviour is the source of the following dependency conflicts.\n",
      "daal4py 2021.5.0 requires daal==2021.4.0, which is not installed.\n",
      "scipy 1.7.3 requires numpy<1.23.0,>=1.16.5, but you have numpy 1.23.0 which is incompatible.\n",
      "numba 0.55.1 requires numpy<1.22,>=1.18, but you have numpy 1.23.0 which is incompatible.\n"
     ]
    },
    {
     "name": "stdout",
     "output_type": "stream",
     "text": [
      "\n",
      "  Downloading numpy-1.23.0-cp39-cp39-win_amd64.whl (14.7 MB)\n",
      "Installing collected packages: numpy\n",
      "  Attempting uninstall: numpy\n",
      "    Found existing installation: numpy 1.24.0\n",
      "    Uninstalling numpy-1.24.0:\n",
      "      Successfully uninstalled numpy-1.24.0\n",
      "Successfully installed numpy-1.23.0\n"
     ]
    }
   ],
   "source": [
    "!pip install numpy==1.23"
   ]
  },
  {
   "cell_type": "code",
   "execution_count": 229,
   "id": "ac79a9d5",
   "metadata": {},
   "outputs": [
    {
     "ename": "TypeError",
     "evalue": "Unable to convert function return value to a Python type! The signature was\n\t() -> handle",
     "output_type": "error",
     "traceback": [
      "\u001b[1;31m---------------------------------------------------------------------------\u001b[0m",
      "\u001b[1;31mTypeError\u001b[0m                                 Traceback (most recent call last)",
      "Input \u001b[1;32mIn [229]\u001b[0m, in \u001b[0;36m<cell line: 4>\u001b[1;34m()\u001b[0m\n\u001b[0;32m      1\u001b[0m \u001b[38;5;66;03m# Importing basic tensorflow modules\u001b[39;00m\n\u001b[0;32m      2\u001b[0m \u001b[38;5;66;03m# Importing basic tensorflow modules \u001b[39;00m\n\u001b[1;32m----> 4\u001b[0m \u001b[38;5;28;01mimport\u001b[39;00m \u001b[38;5;21;01mtensorflow\u001b[39;00m \u001b[38;5;28;01mas\u001b[39;00m \u001b[38;5;21;01mtf\u001b[39;00m\n\u001b[0;32m      5\u001b[0m \u001b[38;5;28;01mfrom\u001b[39;00m \u001b[38;5;21;01mtensorflow\u001b[39;00m\u001b[38;5;21;01m.\u001b[39;00m\u001b[38;5;21;01mkeras\u001b[39;00m\u001b[38;5;21;01m.\u001b[39;00m\u001b[38;5;21;01mlayers\u001b[39;00m \u001b[38;5;28;01mimport\u001b[39;00m Dense, Activation, SimpleRNN, LSTM\n\u001b[0;32m      6\u001b[0m \u001b[38;5;28;01mfrom\u001b[39;00m \u001b[38;5;21;01mtensorflow\u001b[39;00m\u001b[38;5;21;01m.\u001b[39;00m\u001b[38;5;21;01mkeras\u001b[39;00m\u001b[38;5;21;01m.\u001b[39;00m\u001b[38;5;21;01mmodels\u001b[39;00m \u001b[38;5;28;01mimport\u001b[39;00m Model, Sequential \n",
      "File \u001b[1;32m~\\Anaconda\\lib\\site-packages\\tensorflow\\__init__.py:37\u001b[0m, in \u001b[0;36m<module>\u001b[1;34m\u001b[0m\n\u001b[0;32m     34\u001b[0m \u001b[38;5;28;01mimport\u001b[39;00m \u001b[38;5;21;01msys\u001b[39;00m \u001b[38;5;28;01mas\u001b[39;00m \u001b[38;5;21;01m_sys\u001b[39;00m\n\u001b[0;32m     35\u001b[0m \u001b[38;5;28;01mimport\u001b[39;00m \u001b[38;5;21;01mtyping\u001b[39;00m \u001b[38;5;28;01mas\u001b[39;00m \u001b[38;5;21;01m_typing\u001b[39;00m\n\u001b[1;32m---> 37\u001b[0m \u001b[38;5;28;01mfrom\u001b[39;00m \u001b[38;5;21;01mtensorflow\u001b[39;00m\u001b[38;5;21;01m.\u001b[39;00m\u001b[38;5;21;01mpython\u001b[39;00m\u001b[38;5;21;01m.\u001b[39;00m\u001b[38;5;21;01mtools\u001b[39;00m \u001b[38;5;28;01mimport\u001b[39;00m module_util \u001b[38;5;28;01mas\u001b[39;00m _module_util\n\u001b[0;32m     38\u001b[0m \u001b[38;5;28;01mfrom\u001b[39;00m \u001b[38;5;21;01mtensorflow\u001b[39;00m\u001b[38;5;21;01m.\u001b[39;00m\u001b[38;5;21;01mpython\u001b[39;00m\u001b[38;5;21;01m.\u001b[39;00m\u001b[38;5;21;01mutil\u001b[39;00m\u001b[38;5;21;01m.\u001b[39;00m\u001b[38;5;21;01mlazy_loader\u001b[39;00m \u001b[38;5;28;01mimport\u001b[39;00m LazyLoader \u001b[38;5;28;01mas\u001b[39;00m _LazyLoader\n\u001b[0;32m     40\u001b[0m \u001b[38;5;66;03m# Make sure code inside the TensorFlow codebase can use tf2.enabled() at import.\u001b[39;00m\n",
      "File \u001b[1;32m~\\Anaconda\\lib\\site-packages\\tensorflow\\python\\__init__.py:42\u001b[0m, in \u001b[0;36m<module>\u001b[1;34m\u001b[0m\n\u001b[0;32m     37\u001b[0m \u001b[38;5;28;01mfrom\u001b[39;00m \u001b[38;5;21;01mtensorflow\u001b[39;00m\u001b[38;5;21;01m.\u001b[39;00m\u001b[38;5;21;01mpython\u001b[39;00m\u001b[38;5;21;01m.\u001b[39;00m\u001b[38;5;21;01meager\u001b[39;00m \u001b[38;5;28;01mimport\u001b[39;00m context\n\u001b[0;32m     39\u001b[0m \u001b[38;5;66;03m# pylint: enable=wildcard-import\u001b[39;00m\n\u001b[0;32m     40\u001b[0m \n\u001b[0;32m     41\u001b[0m \u001b[38;5;66;03m# Bring in subpackages.\u001b[39;00m\n\u001b[1;32m---> 42\u001b[0m \u001b[38;5;28;01mfrom\u001b[39;00m \u001b[38;5;21;01mtensorflow\u001b[39;00m\u001b[38;5;21;01m.\u001b[39;00m\u001b[38;5;21;01mpython\u001b[39;00m \u001b[38;5;28;01mimport\u001b[39;00m data\n\u001b[0;32m     43\u001b[0m \u001b[38;5;28;01mfrom\u001b[39;00m \u001b[38;5;21;01mtensorflow\u001b[39;00m\u001b[38;5;21;01m.\u001b[39;00m\u001b[38;5;21;01mpython\u001b[39;00m \u001b[38;5;28;01mimport\u001b[39;00m distribute\n\u001b[0;32m     44\u001b[0m \u001b[38;5;66;03m# from tensorflow.python import keras\u001b[39;00m\n",
      "File \u001b[1;32m~\\Anaconda\\lib\\site-packages\\tensorflow\\python\\data\\__init__.py:21\u001b[0m, in \u001b[0;36m<module>\u001b[1;34m\u001b[0m\n\u001b[0;32m     15\u001b[0m \u001b[38;5;124;03m\"\"\"`tf.data.Dataset` API for input pipelines.\u001b[39;00m\n\u001b[0;32m     16\u001b[0m \n\u001b[0;32m     17\u001b[0m \u001b[38;5;124;03mSee [Importing Data](https://tensorflow.org/guide/data) for an overview.\u001b[39;00m\n\u001b[0;32m     18\u001b[0m \u001b[38;5;124;03m\"\"\"\u001b[39;00m\n\u001b[0;32m     20\u001b[0m \u001b[38;5;66;03m# pylint: disable=unused-import\u001b[39;00m\n\u001b[1;32m---> 21\u001b[0m \u001b[38;5;28;01mfrom\u001b[39;00m \u001b[38;5;21;01mtensorflow\u001b[39;00m\u001b[38;5;21;01m.\u001b[39;00m\u001b[38;5;21;01mpython\u001b[39;00m\u001b[38;5;21;01m.\u001b[39;00m\u001b[38;5;21;01mdata\u001b[39;00m \u001b[38;5;28;01mimport\u001b[39;00m experimental\n\u001b[0;32m     22\u001b[0m \u001b[38;5;28;01mfrom\u001b[39;00m \u001b[38;5;21;01mtensorflow\u001b[39;00m\u001b[38;5;21;01m.\u001b[39;00m\u001b[38;5;21;01mpython\u001b[39;00m\u001b[38;5;21;01m.\u001b[39;00m\u001b[38;5;21;01mdata\u001b[39;00m\u001b[38;5;21;01m.\u001b[39;00m\u001b[38;5;21;01mops\u001b[39;00m\u001b[38;5;21;01m.\u001b[39;00m\u001b[38;5;21;01mdataset_ops\u001b[39;00m \u001b[38;5;28;01mimport\u001b[39;00m AUTOTUNE\n\u001b[0;32m     23\u001b[0m \u001b[38;5;28;01mfrom\u001b[39;00m \u001b[38;5;21;01mtensorflow\u001b[39;00m\u001b[38;5;21;01m.\u001b[39;00m\u001b[38;5;21;01mpython\u001b[39;00m\u001b[38;5;21;01m.\u001b[39;00m\u001b[38;5;21;01mdata\u001b[39;00m\u001b[38;5;21;01m.\u001b[39;00m\u001b[38;5;21;01mops\u001b[39;00m\u001b[38;5;21;01m.\u001b[39;00m\u001b[38;5;21;01mdataset_ops\u001b[39;00m \u001b[38;5;28;01mimport\u001b[39;00m Dataset\n",
      "File \u001b[1;32m~\\Anaconda\\lib\\site-packages\\tensorflow\\python\\data\\experimental\\__init__.py:97\u001b[0m, in \u001b[0;36m<module>\u001b[1;34m\u001b[0m\n\u001b[0;32m     15\u001b[0m \u001b[38;5;124;03m\"\"\"Experimental API for building input pipelines.\u001b[39;00m\n\u001b[0;32m     16\u001b[0m \n\u001b[0;32m     17\u001b[0m \u001b[38;5;124;03mThis module contains experimental `Dataset` sources and transformations that can\u001b[39;00m\n\u001b[1;32m   (...)\u001b[0m\n\u001b[0;32m     93\u001b[0m \u001b[38;5;124;03m@@UNKNOWN_CARDINALITY\u001b[39;00m\n\u001b[0;32m     94\u001b[0m \u001b[38;5;124;03m\"\"\"\u001b[39;00m\n\u001b[0;32m     96\u001b[0m \u001b[38;5;66;03m# pylint: disable=unused-import\u001b[39;00m\n\u001b[1;32m---> 97\u001b[0m \u001b[38;5;28;01mfrom\u001b[39;00m \u001b[38;5;21;01mtensorflow\u001b[39;00m\u001b[38;5;21;01m.\u001b[39;00m\u001b[38;5;21;01mpython\u001b[39;00m\u001b[38;5;21;01m.\u001b[39;00m\u001b[38;5;21;01mdata\u001b[39;00m\u001b[38;5;21;01m.\u001b[39;00m\u001b[38;5;21;01mexperimental\u001b[39;00m \u001b[38;5;28;01mimport\u001b[39;00m service\n\u001b[0;32m     98\u001b[0m \u001b[38;5;28;01mfrom\u001b[39;00m \u001b[38;5;21;01mtensorflow\u001b[39;00m\u001b[38;5;21;01m.\u001b[39;00m\u001b[38;5;21;01mpython\u001b[39;00m\u001b[38;5;21;01m.\u001b[39;00m\u001b[38;5;21;01mdata\u001b[39;00m\u001b[38;5;21;01m.\u001b[39;00m\u001b[38;5;21;01mexperimental\u001b[39;00m\u001b[38;5;21;01m.\u001b[39;00m\u001b[38;5;21;01mops\u001b[39;00m\u001b[38;5;21;01m.\u001b[39;00m\u001b[38;5;21;01mbatching\u001b[39;00m \u001b[38;5;28;01mimport\u001b[39;00m dense_to_ragged_batch\n\u001b[0;32m     99\u001b[0m \u001b[38;5;28;01mfrom\u001b[39;00m \u001b[38;5;21;01mtensorflow\u001b[39;00m\u001b[38;5;21;01m.\u001b[39;00m\u001b[38;5;21;01mpython\u001b[39;00m\u001b[38;5;21;01m.\u001b[39;00m\u001b[38;5;21;01mdata\u001b[39;00m\u001b[38;5;21;01m.\u001b[39;00m\u001b[38;5;21;01mexperimental\u001b[39;00m\u001b[38;5;21;01m.\u001b[39;00m\u001b[38;5;21;01mops\u001b[39;00m\u001b[38;5;21;01m.\u001b[39;00m\u001b[38;5;21;01mbatching\u001b[39;00m \u001b[38;5;28;01mimport\u001b[39;00m dense_to_sparse_batch\n",
      "File \u001b[1;32m~\\Anaconda\\lib\\site-packages\\tensorflow\\python\\data\\experimental\\service\\__init__.py:419\u001b[0m, in \u001b[0;36m<module>\u001b[1;34m\u001b[0m\n\u001b[0;32m      1\u001b[0m \u001b[38;5;66;03m# Copyright 2020 The TensorFlow Authors. All Rights Reserved.\u001b[39;00m\n\u001b[0;32m      2\u001b[0m \u001b[38;5;66;03m#\u001b[39;00m\n\u001b[0;32m      3\u001b[0m \u001b[38;5;66;03m# Licensed under the Apache License, Version 2.0 (the \"License\");\u001b[39;00m\n\u001b[1;32m   (...)\u001b[0m\n\u001b[0;32m     13\u001b[0m \u001b[38;5;66;03m# limitations under the License.\u001b[39;00m\n\u001b[0;32m     14\u001b[0m \u001b[38;5;66;03m# ==============================================================================\u001b[39;00m\n\u001b[0;32m     15\u001b[0m \u001b[38;5;124;03m\"\"\"API for using the tf.data service.\u001b[39;00m\n\u001b[0;32m     16\u001b[0m \n\u001b[0;32m     17\u001b[0m \u001b[38;5;124;03mThis module contains:\u001b[39;00m\n\u001b[1;32m   (...)\u001b[0m\n\u001b[0;32m    416\u001b[0m \u001b[38;5;124;03m  job of ParameterServerStrategy).\u001b[39;00m\n\u001b[0;32m    417\u001b[0m \u001b[38;5;124;03m\"\"\"\u001b[39;00m\n\u001b[1;32m--> 419\u001b[0m \u001b[38;5;28;01mfrom\u001b[39;00m \u001b[38;5;21;01mtensorflow\u001b[39;00m\u001b[38;5;21;01m.\u001b[39;00m\u001b[38;5;21;01mpython\u001b[39;00m\u001b[38;5;21;01m.\u001b[39;00m\u001b[38;5;21;01mdata\u001b[39;00m\u001b[38;5;21;01m.\u001b[39;00m\u001b[38;5;21;01mexperimental\u001b[39;00m\u001b[38;5;21;01m.\u001b[39;00m\u001b[38;5;21;01mops\u001b[39;00m\u001b[38;5;21;01m.\u001b[39;00m\u001b[38;5;21;01mdata_service_ops\u001b[39;00m \u001b[38;5;28;01mimport\u001b[39;00m distribute\n\u001b[0;32m    420\u001b[0m \u001b[38;5;28;01mfrom\u001b[39;00m \u001b[38;5;21;01mtensorflow\u001b[39;00m\u001b[38;5;21;01m.\u001b[39;00m\u001b[38;5;21;01mpython\u001b[39;00m\u001b[38;5;21;01m.\u001b[39;00m\u001b[38;5;21;01mdata\u001b[39;00m\u001b[38;5;21;01m.\u001b[39;00m\u001b[38;5;21;01mexperimental\u001b[39;00m\u001b[38;5;21;01m.\u001b[39;00m\u001b[38;5;21;01mops\u001b[39;00m\u001b[38;5;21;01m.\u001b[39;00m\u001b[38;5;21;01mdata_service_ops\u001b[39;00m \u001b[38;5;28;01mimport\u001b[39;00m from_dataset_id\n\u001b[0;32m    421\u001b[0m \u001b[38;5;28;01mfrom\u001b[39;00m \u001b[38;5;21;01mtensorflow\u001b[39;00m\u001b[38;5;21;01m.\u001b[39;00m\u001b[38;5;21;01mpython\u001b[39;00m\u001b[38;5;21;01m.\u001b[39;00m\u001b[38;5;21;01mdata\u001b[39;00m\u001b[38;5;21;01m.\u001b[39;00m\u001b[38;5;21;01mexperimental\u001b[39;00m\u001b[38;5;21;01m.\u001b[39;00m\u001b[38;5;21;01mops\u001b[39;00m\u001b[38;5;21;01m.\u001b[39;00m\u001b[38;5;21;01mdata_service_ops\u001b[39;00m \u001b[38;5;28;01mimport\u001b[39;00m register_dataset\n",
      "File \u001b[1;32m~\\Anaconda\\lib\\site-packages\\tensorflow\\python\\data\\experimental\\ops\\data_service_ops.py:22\u001b[0m, in \u001b[0;36m<module>\u001b[1;34m\u001b[0m\n\u001b[0;32m     20\u001b[0m \u001b[38;5;28;01mfrom\u001b[39;00m \u001b[38;5;21;01mtensorflow\u001b[39;00m\u001b[38;5;21;01m.\u001b[39;00m\u001b[38;5;21;01mcore\u001b[39;00m\u001b[38;5;21;01m.\u001b[39;00m\u001b[38;5;21;01mprotobuf\u001b[39;00m \u001b[38;5;28;01mimport\u001b[39;00m data_service_pb2\n\u001b[0;32m     21\u001b[0m \u001b[38;5;28;01mfrom\u001b[39;00m \u001b[38;5;21;01mtensorflow\u001b[39;00m\u001b[38;5;21;01m.\u001b[39;00m\u001b[38;5;21;01mpython\u001b[39;00m \u001b[38;5;28;01mimport\u001b[39;00m tf2\n\u001b[1;32m---> 22\u001b[0m \u001b[38;5;28;01mfrom\u001b[39;00m \u001b[38;5;21;01mtensorflow\u001b[39;00m\u001b[38;5;21;01m.\u001b[39;00m\u001b[38;5;21;01mpython\u001b[39;00m\u001b[38;5;21;01m.\u001b[39;00m\u001b[38;5;21;01mdata\u001b[39;00m\u001b[38;5;21;01m.\u001b[39;00m\u001b[38;5;21;01mexperimental\u001b[39;00m\u001b[38;5;21;01m.\u001b[39;00m\u001b[38;5;21;01mops\u001b[39;00m \u001b[38;5;28;01mimport\u001b[39;00m compression_ops\n\u001b[0;32m     23\u001b[0m \u001b[38;5;28;01mfrom\u001b[39;00m \u001b[38;5;21;01mtensorflow\u001b[39;00m\u001b[38;5;21;01m.\u001b[39;00m\u001b[38;5;21;01mpython\u001b[39;00m\u001b[38;5;21;01m.\u001b[39;00m\u001b[38;5;21;01mdata\u001b[39;00m\u001b[38;5;21;01m.\u001b[39;00m\u001b[38;5;21;01mexperimental\u001b[39;00m\u001b[38;5;21;01m.\u001b[39;00m\u001b[38;5;21;01mservice\u001b[39;00m \u001b[38;5;28;01mimport\u001b[39;00m _pywrap_server_lib\n\u001b[0;32m     24\u001b[0m \u001b[38;5;28;01mfrom\u001b[39;00m \u001b[38;5;21;01mtensorflow\u001b[39;00m\u001b[38;5;21;01m.\u001b[39;00m\u001b[38;5;21;01mpython\u001b[39;00m\u001b[38;5;21;01m.\u001b[39;00m\u001b[38;5;21;01mdata\u001b[39;00m\u001b[38;5;21;01m.\u001b[39;00m\u001b[38;5;21;01mexperimental\u001b[39;00m\u001b[38;5;21;01m.\u001b[39;00m\u001b[38;5;21;01mservice\u001b[39;00m \u001b[38;5;28;01mimport\u001b[39;00m _pywrap_utils\n",
      "File \u001b[1;32m~\\Anaconda\\lib\\site-packages\\tensorflow\\python\\data\\experimental\\ops\\compression_ops.py:16\u001b[0m, in \u001b[0;36m<module>\u001b[1;34m\u001b[0m\n\u001b[0;32m      1\u001b[0m \u001b[38;5;66;03m# Copyright 2020 The TensorFlow Authors. All Rights Reserved.\u001b[39;00m\n\u001b[0;32m      2\u001b[0m \u001b[38;5;66;03m#\u001b[39;00m\n\u001b[0;32m      3\u001b[0m \u001b[38;5;66;03m# Licensed under the Apache License, Version 2.0 (the \"License\");\u001b[39;00m\n\u001b[1;32m   (...)\u001b[0m\n\u001b[0;32m     13\u001b[0m \u001b[38;5;66;03m# limitations under the License.\u001b[39;00m\n\u001b[0;32m     14\u001b[0m \u001b[38;5;66;03m# ==============================================================================\u001b[39;00m\n\u001b[0;32m     15\u001b[0m \u001b[38;5;124;03m\"\"\"Ops for compressing and uncompressing dataset elements.\"\"\"\u001b[39;00m\n\u001b[1;32m---> 16\u001b[0m \u001b[38;5;28;01mfrom\u001b[39;00m \u001b[38;5;21;01mtensorflow\u001b[39;00m\u001b[38;5;21;01m.\u001b[39;00m\u001b[38;5;21;01mpython\u001b[39;00m\u001b[38;5;21;01m.\u001b[39;00m\u001b[38;5;21;01mdata\u001b[39;00m\u001b[38;5;21;01m.\u001b[39;00m\u001b[38;5;21;01mutil\u001b[39;00m \u001b[38;5;28;01mimport\u001b[39;00m structure\n\u001b[0;32m     17\u001b[0m \u001b[38;5;28;01mfrom\u001b[39;00m \u001b[38;5;21;01mtensorflow\u001b[39;00m\u001b[38;5;21;01m.\u001b[39;00m\u001b[38;5;21;01mpython\u001b[39;00m\u001b[38;5;21;01m.\u001b[39;00m\u001b[38;5;21;01mops\u001b[39;00m \u001b[38;5;28;01mimport\u001b[39;00m gen_experimental_dataset_ops \u001b[38;5;28;01mas\u001b[39;00m ged_ops\n\u001b[0;32m     20\u001b[0m \u001b[38;5;28;01mdef\u001b[39;00m \u001b[38;5;21mcompress\u001b[39m(element):\n",
      "File \u001b[1;32m~\\Anaconda\\lib\\site-packages\\tensorflow\\python\\data\\util\\structure.py:22\u001b[0m, in \u001b[0;36m<module>\u001b[1;34m\u001b[0m\n\u001b[0;32m     18\u001b[0m \u001b[38;5;28;01mimport\u001b[39;00m \u001b[38;5;21;01mitertools\u001b[39;00m\n\u001b[0;32m     20\u001b[0m \u001b[38;5;28;01mimport\u001b[39;00m \u001b[38;5;21;01mwrapt\u001b[39;00m\n\u001b[1;32m---> 22\u001b[0m \u001b[38;5;28;01mfrom\u001b[39;00m \u001b[38;5;21;01mtensorflow\u001b[39;00m\u001b[38;5;21;01m.\u001b[39;00m\u001b[38;5;21;01mpython\u001b[39;00m\u001b[38;5;21;01m.\u001b[39;00m\u001b[38;5;21;01mdata\u001b[39;00m\u001b[38;5;21;01m.\u001b[39;00m\u001b[38;5;21;01mutil\u001b[39;00m \u001b[38;5;28;01mimport\u001b[39;00m nest\n\u001b[0;32m     23\u001b[0m \u001b[38;5;28;01mfrom\u001b[39;00m \u001b[38;5;21;01mtensorflow\u001b[39;00m\u001b[38;5;21;01m.\u001b[39;00m\u001b[38;5;21;01mpython\u001b[39;00m\u001b[38;5;21;01m.\u001b[39;00m\u001b[38;5;21;01mframework\u001b[39;00m \u001b[38;5;28;01mimport\u001b[39;00m composite_tensor\n\u001b[0;32m     24\u001b[0m \u001b[38;5;28;01mfrom\u001b[39;00m \u001b[38;5;21;01mtensorflow\u001b[39;00m\u001b[38;5;21;01m.\u001b[39;00m\u001b[38;5;21;01mpython\u001b[39;00m\u001b[38;5;21;01m.\u001b[39;00m\u001b[38;5;21;01mframework\u001b[39;00m \u001b[38;5;28;01mimport\u001b[39;00m ops\n",
      "File \u001b[1;32m~\\Anaconda\\lib\\site-packages\\tensorflow\\python\\data\\util\\nest.py:34\u001b[0m, in \u001b[0;36m<module>\u001b[1;34m\u001b[0m\n\u001b[0;32m      1\u001b[0m \u001b[38;5;66;03m# Copyright 2017 The TensorFlow Authors. All Rights Reserved.\u001b[39;00m\n\u001b[0;32m      2\u001b[0m \u001b[38;5;66;03m#\u001b[39;00m\n\u001b[0;32m      3\u001b[0m \u001b[38;5;66;03m# Licensed under the Apache License, Version 2.0 (the \"License\");\u001b[39;00m\n\u001b[1;32m   (...)\u001b[0m\n\u001b[0;32m     13\u001b[0m \u001b[38;5;66;03m# limitations under the License.\u001b[39;00m\n\u001b[0;32m     14\u001b[0m \u001b[38;5;66;03m# ==============================================================================\u001b[39;00m\n\u001b[0;32m     16\u001b[0m \u001b[38;5;124;03m\"\"\"## Functions for working with arbitrarily nested sequences of elements.\u001b[39;00m\n\u001b[0;32m     17\u001b[0m \n\u001b[0;32m     18\u001b[0m \u001b[38;5;124;03mNOTE(mrry): This fork of the `tensorflow.python.util.nest` module\u001b[39;00m\n\u001b[1;32m   (...)\u001b[0m\n\u001b[0;32m     31\u001b[0m \u001b[38;5;124;03m   arrays.\u001b[39;00m\n\u001b[0;32m     32\u001b[0m \u001b[38;5;124;03m\"\"\"\u001b[39;00m\n\u001b[1;32m---> 34\u001b[0m \u001b[38;5;28;01mfrom\u001b[39;00m \u001b[38;5;21;01mtensorflow\u001b[39;00m\u001b[38;5;21;01m.\u001b[39;00m\u001b[38;5;21;01mpython\u001b[39;00m\u001b[38;5;21;01m.\u001b[39;00m\u001b[38;5;21;01mframework\u001b[39;00m \u001b[38;5;28;01mimport\u001b[39;00m sparse_tensor \u001b[38;5;28;01mas\u001b[39;00m _sparse_tensor\n\u001b[0;32m     35\u001b[0m \u001b[38;5;28;01mfrom\u001b[39;00m \u001b[38;5;21;01mtensorflow\u001b[39;00m\u001b[38;5;21;01m.\u001b[39;00m\u001b[38;5;21;01mpython\u001b[39;00m\u001b[38;5;21;01m.\u001b[39;00m\u001b[38;5;21;01mutil\u001b[39;00m \u001b[38;5;28;01mimport\u001b[39;00m _pywrap_utils\n\u001b[0;32m     36\u001b[0m \u001b[38;5;28;01mfrom\u001b[39;00m \u001b[38;5;21;01mtensorflow\u001b[39;00m\u001b[38;5;21;01m.\u001b[39;00m\u001b[38;5;21;01mpython\u001b[39;00m\u001b[38;5;21;01m.\u001b[39;00m\u001b[38;5;21;01mutil\u001b[39;00m \u001b[38;5;28;01mimport\u001b[39;00m nest\n",
      "File \u001b[1;32m~\\Anaconda\\lib\\site-packages\\tensorflow\\python\\framework\\sparse_tensor.py:25\u001b[0m, in \u001b[0;36m<module>\u001b[1;34m\u001b[0m\n\u001b[0;32m     23\u001b[0m \u001b[38;5;28;01mfrom\u001b[39;00m \u001b[38;5;21;01mtensorflow\u001b[39;00m\u001b[38;5;21;01m.\u001b[39;00m\u001b[38;5;21;01mpython\u001b[39;00m \u001b[38;5;28;01mimport\u001b[39;00m tf2\n\u001b[0;32m     24\u001b[0m \u001b[38;5;28;01mfrom\u001b[39;00m \u001b[38;5;21;01mtensorflow\u001b[39;00m\u001b[38;5;21;01m.\u001b[39;00m\u001b[38;5;21;01mpython\u001b[39;00m\u001b[38;5;21;01m.\u001b[39;00m\u001b[38;5;21;01mframework\u001b[39;00m \u001b[38;5;28;01mimport\u001b[39;00m composite_tensor\n\u001b[1;32m---> 25\u001b[0m \u001b[38;5;28;01mfrom\u001b[39;00m \u001b[38;5;21;01mtensorflow\u001b[39;00m\u001b[38;5;21;01m.\u001b[39;00m\u001b[38;5;21;01mpython\u001b[39;00m\u001b[38;5;21;01m.\u001b[39;00m\u001b[38;5;21;01mframework\u001b[39;00m \u001b[38;5;28;01mimport\u001b[39;00m constant_op\n\u001b[0;32m     26\u001b[0m \u001b[38;5;28;01mfrom\u001b[39;00m \u001b[38;5;21;01mtensorflow\u001b[39;00m\u001b[38;5;21;01m.\u001b[39;00m\u001b[38;5;21;01mpython\u001b[39;00m\u001b[38;5;21;01m.\u001b[39;00m\u001b[38;5;21;01mframework\u001b[39;00m \u001b[38;5;28;01mimport\u001b[39;00m dtypes\n\u001b[0;32m     27\u001b[0m \u001b[38;5;28;01mfrom\u001b[39;00m \u001b[38;5;21;01mtensorflow\u001b[39;00m\u001b[38;5;21;01m.\u001b[39;00m\u001b[38;5;21;01mpython\u001b[39;00m\u001b[38;5;21;01m.\u001b[39;00m\u001b[38;5;21;01mframework\u001b[39;00m \u001b[38;5;28;01mimport\u001b[39;00m ops\n",
      "File \u001b[1;32m~\\Anaconda\\lib\\site-packages\\tensorflow\\python\\framework\\constant_op.py:25\u001b[0m, in \u001b[0;36m<module>\u001b[1;34m\u001b[0m\n\u001b[0;32m     23\u001b[0m \u001b[38;5;28;01mfrom\u001b[39;00m \u001b[38;5;21;01mtensorflow\u001b[39;00m\u001b[38;5;21;01m.\u001b[39;00m\u001b[38;5;21;01mcore\u001b[39;00m\u001b[38;5;21;01m.\u001b[39;00m\u001b[38;5;21;01mframework\u001b[39;00m \u001b[38;5;28;01mimport\u001b[39;00m types_pb2\n\u001b[0;32m     24\u001b[0m \u001b[38;5;28;01mfrom\u001b[39;00m \u001b[38;5;21;01mtensorflow\u001b[39;00m\u001b[38;5;21;01m.\u001b[39;00m\u001b[38;5;21;01mpython\u001b[39;00m\u001b[38;5;21;01m.\u001b[39;00m\u001b[38;5;21;01meager\u001b[39;00m \u001b[38;5;28;01mimport\u001b[39;00m context\n\u001b[1;32m---> 25\u001b[0m \u001b[38;5;28;01mfrom\u001b[39;00m \u001b[38;5;21;01mtensorflow\u001b[39;00m\u001b[38;5;21;01m.\u001b[39;00m\u001b[38;5;21;01mpython\u001b[39;00m\u001b[38;5;21;01m.\u001b[39;00m\u001b[38;5;21;01meager\u001b[39;00m \u001b[38;5;28;01mimport\u001b[39;00m execute\n\u001b[0;32m     26\u001b[0m \u001b[38;5;28;01mfrom\u001b[39;00m \u001b[38;5;21;01mtensorflow\u001b[39;00m\u001b[38;5;21;01m.\u001b[39;00m\u001b[38;5;21;01mpython\u001b[39;00m\u001b[38;5;21;01m.\u001b[39;00m\u001b[38;5;21;01mframework\u001b[39;00m \u001b[38;5;28;01mimport\u001b[39;00m dtypes\n\u001b[0;32m     27\u001b[0m \u001b[38;5;28;01mfrom\u001b[39;00m \u001b[38;5;21;01mtensorflow\u001b[39;00m\u001b[38;5;21;01m.\u001b[39;00m\u001b[38;5;21;01mpython\u001b[39;00m\u001b[38;5;21;01m.\u001b[39;00m\u001b[38;5;21;01mframework\u001b[39;00m \u001b[38;5;28;01mimport\u001b[39;00m op_callbacks\n",
      "File \u001b[1;32m~\\Anaconda\\lib\\site-packages\\tensorflow\\python\\eager\\execute.py:21\u001b[0m, in \u001b[0;36m<module>\u001b[1;34m\u001b[0m\n\u001b[0;32m     19\u001b[0m \u001b[38;5;28;01mfrom\u001b[39;00m \u001b[38;5;21;01mtensorflow\u001b[39;00m\u001b[38;5;21;01m.\u001b[39;00m\u001b[38;5;21;01mpython\u001b[39;00m \u001b[38;5;28;01mimport\u001b[39;00m pywrap_tfe\n\u001b[0;32m     20\u001b[0m \u001b[38;5;28;01mfrom\u001b[39;00m \u001b[38;5;21;01mtensorflow\u001b[39;00m\u001b[38;5;21;01m.\u001b[39;00m\u001b[38;5;21;01mpython\u001b[39;00m\u001b[38;5;21;01m.\u001b[39;00m\u001b[38;5;21;01meager\u001b[39;00m \u001b[38;5;28;01mimport\u001b[39;00m core\n\u001b[1;32m---> 21\u001b[0m \u001b[38;5;28;01mfrom\u001b[39;00m \u001b[38;5;21;01mtensorflow\u001b[39;00m\u001b[38;5;21;01m.\u001b[39;00m\u001b[38;5;21;01mpython\u001b[39;00m\u001b[38;5;21;01m.\u001b[39;00m\u001b[38;5;21;01mframework\u001b[39;00m \u001b[38;5;28;01mimport\u001b[39;00m dtypes\n\u001b[0;32m     22\u001b[0m \u001b[38;5;28;01mfrom\u001b[39;00m \u001b[38;5;21;01mtensorflow\u001b[39;00m\u001b[38;5;21;01m.\u001b[39;00m\u001b[38;5;21;01mpython\u001b[39;00m\u001b[38;5;21;01m.\u001b[39;00m\u001b[38;5;21;01mframework\u001b[39;00m \u001b[38;5;28;01mimport\u001b[39;00m ops\n\u001b[0;32m     23\u001b[0m \u001b[38;5;28;01mfrom\u001b[39;00m \u001b[38;5;21;01mtensorflow\u001b[39;00m\u001b[38;5;21;01m.\u001b[39;00m\u001b[38;5;21;01mpython\u001b[39;00m\u001b[38;5;21;01m.\u001b[39;00m\u001b[38;5;21;01mframework\u001b[39;00m \u001b[38;5;28;01mimport\u001b[39;00m tensor_shape\n",
      "File \u001b[1;32m~\\Anaconda\\lib\\site-packages\\tensorflow\\python\\framework\\dtypes.py:37\u001b[0m, in \u001b[0;36m<module>\u001b[1;34m\u001b[0m\n\u001b[0;32m     34\u001b[0m \u001b[38;5;28;01mfrom\u001b[39;00m \u001b[38;5;21;01mtensorflow\u001b[39;00m\u001b[38;5;21;01m.\u001b[39;00m\u001b[38;5;21;01mcore\u001b[39;00m\u001b[38;5;21;01m.\u001b[39;00m\u001b[38;5;21;01mfunction\u001b[39;00m \u001b[38;5;28;01mimport\u001b[39;00m trace_type\n\u001b[0;32m     35\u001b[0m \u001b[38;5;28;01mfrom\u001b[39;00m \u001b[38;5;21;01mtensorflow\u001b[39;00m\u001b[38;5;21;01m.\u001b[39;00m\u001b[38;5;21;01mtools\u001b[39;00m\u001b[38;5;21;01m.\u001b[39;00m\u001b[38;5;21;01mdocs\u001b[39;00m \u001b[38;5;28;01mimport\u001b[39;00m doc_controls\n\u001b[1;32m---> 37\u001b[0m _np_bfloat16 \u001b[38;5;241m=\u001b[39m \u001b[43m_pywrap_bfloat16\u001b[49m\u001b[38;5;241;43m.\u001b[39;49m\u001b[43mTF_bfloat16_type\u001b[49m\u001b[43m(\u001b[49m\u001b[43m)\u001b[49m\n\u001b[0;32m     38\u001b[0m _np_float8_e4m3fn \u001b[38;5;241m=\u001b[39m _pywrap_float8\u001b[38;5;241m.\u001b[39mTF_float8_e4m3fn_type()\n\u001b[0;32m     39\u001b[0m _np_float8_e5m2 \u001b[38;5;241m=\u001b[39m _pywrap_float8\u001b[38;5;241m.\u001b[39mTF_float8_e5m2_type()\n",
      "\u001b[1;31mTypeError\u001b[0m: Unable to convert function return value to a Python type! The signature was\n\t() -> handle"
     ]
    }
   ],
   "source": [
    "# Importing basic tensorflow modules\n",
    "# Importing basic tensorflow modules \n",
    "\n",
    "import tensorflow as tf\n",
    "from tensorflow.keras.layers import Dense, Activation, SimpleRNN, LSTM\n",
    "from tensorflow.keras.models import Model, Sequential \n",
    "from tensorflow.keras.optimizers import Adam\n",
    "import tensorflow_addons as tfa\n",
    "from tensorflow.keras.utils import plot_model "
   ]
  },
  {
   "cell_type": "code",
   "execution_count": 212,
   "id": "c6cf8e44",
   "metadata": {},
   "outputs": [
    {
     "data": {
      "text/plain": [
       "(2416, 7)"
      ]
     },
     "execution_count": 212,
     "metadata": {},
     "output_type": "execute_result"
    }
   ],
   "source": [
    "df = pd.read_csv('Tesla-Stocks.csv')     # Reading the csv source file as a dataframe\n",
    "df.shape"
   ]
  },
  {
   "cell_type": "code",
   "execution_count": 213,
   "id": "d86c9339",
   "metadata": {},
   "outputs": [],
   "source": [
    "# Defining a function that arranges the dataset in the form of (B,T,d) numpy array (T=n_day)\n",
    "\n",
    "def time_sequence(df, n_day):\n",
    "    X = []\n",
    "    y = []\n",
    "    for i in range(len(df)-n_day):\n",
    "        a = []\n",
    "        b = 0\n",
    "        for j in range(n_day):\n",
    "            a.append([df.iloc[i+j]['Open'], df.iloc[i+j]['High'], df.iloc[i+j]['Low'], df.iloc[i+j]['Close']])\n",
    "            b = df.iloc[i+j+1]['Open']\n",
    "        X.append(a)\n",
    "        y.append(b)\n",
    "    X = np.array(X)\n",
    "    y = np.array(y)\n",
    "    return X, y"
   ]
  },
  {
   "cell_type": "code",
   "execution_count": 214,
   "id": "c884a78b",
   "metadata": {},
   "outputs": [
    {
     "name": "stdout",
     "output_type": "stream",
     "text": [
      "Computing time: 33.869 seconds\n"
     ]
    }
   ],
   "source": [
    "# Forming the sequence input data for the interval of 50 days\n",
    "\n",
    "n_days = 50\n",
    "\n",
    "start_time = time.time()\n",
    "X, y = time_sequence(df, n_days)\n",
    "print(\"Computing time: %s seconds\" % (round(time.time() - start_time, 3)))"
   ]
  },
  {
   "cell_type": "code",
   "execution_count": 215,
   "id": "7fd6d1a4",
   "metadata": {},
   "outputs": [
    {
     "name": "stdout",
     "output_type": "stream",
     "text": [
      "X shape : (2366, 50, 4)\n",
      "y shape : (2366,)\n"
     ]
    }
   ],
   "source": [
    "# Displaying the shape of the features and the target\n",
    "\n",
    "print('X shape :', X.shape)\n",
    "print('y shape :', y.shape)"
   ]
  },
  {
   "cell_type": "code",
   "execution_count": 216,
   "id": "2973c14a",
   "metadata": {},
   "outputs": [
    {
     "data": {
      "image/png": "[encoded data removed]",
      "text/plain": [
       "<Figure size 1080x504 with 1 Axes>"
      ]
     },
     "metadata": {
      "needs_background": "light"
     },
     "output_type": "display_data"
    }
   ],
   "source": [
    "# Plotting the target variable (the value of stock when market opens) per day\n",
    "\n",
    "plt.subplots(figsize = (15,7))\n",
    "plt.plot(y)\n",
    "plt.show()"
   ]
  },
  {
   "cell_type": "code",
   "execution_count": 217,
   "id": "aa7fa467",
   "metadata": {},
   "outputs": [],
   "source": [
    "\n",
    "# Breaking the data into train and test subsets\n",
    "\n",
    "from sklearn.model_selection import train_test_split\n",
    "\n",
    "X_train, X_test, y_train, y_test = train_test_split(X, y, test_size=0.25, random_state=3)\n"
   ]
  },
  {
   "cell_type": "code",
   "execution_count": 218,
   "id": "518154e0",
   "metadata": {},
   "outputs": [
    {
     "name": "stdout",
     "output_type": "stream",
     "text": [
      "X_train shape : (1774, 50, 4)\n",
      "y_train shape : (1774,)\n",
      "X_test shape : (592, 50, 4)\n",
      "y_test shape : (592,)\n"
     ]
    }
   ],
   "source": [
    "# Displaying the shape of the train and test datasets\n",
    "\n",
    "print('X_train shape :', X_train.shape)\n",
    "print('y_train shape :', y_train.shape)\n",
    "print('X_test shape :', X_test.shape)\n",
    "print('y_test shape :', y_test.shape)"
   ]
  },
  {
   "cell_type": "code",
   "execution_count": 219,
   "id": "cc4008ad",
   "metadata": {},
   "outputs": [
    {
     "ename": "NameError",
     "evalue": "name 'tf' is not defined",
     "output_type": "error",
     "traceback": [
      "\u001b[1;31m---------------------------------------------------------------------------\u001b[0m",
      "\u001b[1;31mNameError\u001b[0m                                 Traceback (most recent call last)",
      "Input \u001b[1;32mIn [219]\u001b[0m, in \u001b[0;36m<cell line: 3>\u001b[1;34m()\u001b[0m\n\u001b[0;32m      1\u001b[0m \u001b[38;5;66;03m# Converting data into tensorflow tensor objects and presenting the shape of tensors\u001b[39;00m\n\u001b[1;32m----> 3\u001b[0m X_train \u001b[38;5;241m=\u001b[39m \u001b[43mtf\u001b[49m\u001b[38;5;241m.\u001b[39mconvert_to_tensor(X_train, dtype\u001b[38;5;241m=\u001b[39mtf\u001b[38;5;241m.\u001b[39mfloat32)\n\u001b[0;32m      4\u001b[0m X_test \u001b[38;5;241m=\u001b[39m tf\u001b[38;5;241m.\u001b[39mconvert_to_tensor(X_test, dtype\u001b[38;5;241m=\u001b[39mtf\u001b[38;5;241m.\u001b[39mfloat32)\n\u001b[0;32m      5\u001b[0m y_train \u001b[38;5;241m=\u001b[39m tf\u001b[38;5;241m.\u001b[39mconvert_to_tensor(y_train, dtype\u001b[38;5;241m=\u001b[39mtf\u001b[38;5;241m.\u001b[39mfloat32)\n",
      "\u001b[1;31mNameError\u001b[0m: name 'tf' is not defined"
     ]
    }
   ],
   "source": [
    "# Converting data into tensorflow tensor objects and presenting the shape of tensors\n",
    "\n",
    "X_train = tf.convert_to_tensor(X_train, dtype=tf.float32)\n",
    "X_test = tf.convert_to_tensor(X_test, dtype=tf.float32)\n",
    "y_train = tf.convert_to_tensor(y_train, dtype=tf.float32)\n",
    "y_test = tf.convert_to_tensor(y_test, dtype=tf.float32)\n",
    "\n",
    "print('X_train shape : ', X_train.shape)\n",
    "print('y_train shape : ', y_train.shape)\n",
    "print('X_test shape : ', X_test.shape)\n",
    "print('y_test shape : ', y_test.shape)"
   ]
  },
  {
   "cell_type": "code",
   "execution_count": null,
   "id": "d8e7ec3a",
   "metadata": {},
   "outputs": [],
   "source": []
  },
  {
   "cell_type": "code",
   "execution_count": null,
   "id": "ac8d1295",
   "metadata": {},
   "outputs": [],
   "source": []
  },
  {
   "cell_type": "code",
   "execution_count": 207,
   "id": "e220dd2b",
   "metadata": {},
   "outputs": [
    {
     "ename": "NameError",
     "evalue": "name 'time_sequence' is not defined",
     "output_type": "error",
     "traceback": [
      "\u001b[1;31m---------------------------------------------------------------------------\u001b[0m",
      "\u001b[1;31mNameError\u001b[0m                                 Traceback (most recent call last)",
      "Input \u001b[1;32mIn [207]\u001b[0m, in \u001b[0;36m<cell line: 37>\u001b[1;34m()\u001b[0m\n\u001b[0;32m     36\u001b[0m \u001b[38;5;66;03m# Loop over the sequence lengths and collect the R2-scores in the dataframe\u001b[39;00m\n\u001b[0;32m     37\u001b[0m \u001b[38;5;28;01mfor\u001b[39;00m T \u001b[38;5;129;01min\u001b[39;00m T_list:\n\u001b[1;32m---> 38\u001b[0m     train_r2, test_r2 \u001b[38;5;241m=\u001b[39m \u001b[43mrun_rnn_model\u001b[49m\u001b[43m(\u001b[49m\u001b[43mT\u001b[49m\u001b[43m)\u001b[49m\n\u001b[0;32m     39\u001b[0m     r2_scores_df \u001b[38;5;241m=\u001b[39m r2_scores_df\u001b[38;5;241m.\u001b[39mappend({\u001b[38;5;124m'\u001b[39m\u001b[38;5;124mT\u001b[39m\u001b[38;5;124m'\u001b[39m: T, \u001b[38;5;124m'\u001b[39m\u001b[38;5;124mtrain_r2\u001b[39m\u001b[38;5;124m'\u001b[39m: train_r2, \u001b[38;5;124m'\u001b[39m\u001b[38;5;124mtest_r2\u001b[39m\u001b[38;5;124m'\u001b[39m: test_r2}, ignore_index\u001b[38;5;241m=\u001b[39m\u001b[38;5;28;01mTrue\u001b[39;00m)\n\u001b[0;32m     41\u001b[0m \u001b[38;5;66;03m# Plot the R2-scores for train and test data as a function of T\u001b[39;00m\n",
      "Input \u001b[1;32mIn [207]\u001b[0m, in \u001b[0;36mrun_rnn_model\u001b[1;34m(T)\u001b[0m\n\u001b[0;32m      2\u001b[0m \u001b[38;5;28;01mdef\u001b[39;00m \u001b[38;5;21mrun_rnn_model\u001b[39m(T):\n\u001b[0;32m      3\u001b[0m     \u001b[38;5;66;03m# Form the sequence input data for the given length of sequence\u001b[39;00m\n\u001b[1;32m----> 4\u001b[0m     X, y \u001b[38;5;241m=\u001b[39m \u001b[43mtime_sequence\u001b[49m(df, T)\n\u001b[0;32m      6\u001b[0m     \u001b[38;5;66;03m# Split the data into train and test subsets\u001b[39;00m\n\u001b[0;32m      7\u001b[0m     X_train, X_test, y_train, y_test \u001b[38;5;241m=\u001b[39m train_test_split(X, y, test_size\u001b[38;5;241m=\u001b[39m\u001b[38;5;241m0.25\u001b[39m, random_state\u001b[38;5;241m=\u001b[39m\u001b[38;5;241m3\u001b[39m)\n",
      "\u001b[1;31mNameError\u001b[0m: name 'time_sequence' is not defined"
     ]
    }
   ],
   "source": [
    "# Define a function to run the RNN model for a given sequence length and return the R2-scores\n",
    "def run_rnn_model(T):\n",
    "    # Form the sequence input data for the given length of sequence\n",
    "    X, y = time_sequence(df, T)\n",
    "    \n",
    "    # Split the data into train and test subsets\n",
    "    X_train, X_test, y_train, y_test = train_test_split(X, y, test_size=0.25, random_state=3)\n",
    "    \n",
    "    # Convert data into tensorflow tensor objects\n",
    "    X_train = tf.convert_to_tensor(X_train, dtype=tf.float32)\n",
    "    X_test = tf.convert_to_tensor(X_test, dtype=tf.float32)\n",
    "    y_train = tf.convert_to_tensor(y_train, dtype=tf.float32)\n",
    "    y_test = tf.convert_to_tensor(y_test, dtype=tf.float32)\n",
    "    \n",
    "    # Create an RNN model with 128 neurons and learning rate 0.001\n",
    "    rnn_model = create_rnn_model(n_neurons=128, shape=(X_train.shape[1], X_train.shape[2]), learning_rate=0.001)\n",
    "    \n",
    "    # Train the model for 150 epochs\n",
    "    epochs = 150\n",
    "    rnn_model_history = rnn_model.fit(X_train, y_train, epochs=epochs, validation_data=(X_test, y_test), verbose=0)\n",
    "    \n",
    "    # Calculate R2-scores for train and test data\n",
    "    y_train_pred = rnn_model.predict(X_train)\n",
    "    train_r2 = r2_score(y_train, y_train_pred)\n",
    "    y_test_pred = rnn_model.predict(X_test)\n",
    "    test_r2 = r2_score(y_test, y_test_pred)\n",
    "    \n",
    "    return train_r2, test_r2\n",
    "\n",
    "# Create a list of sequence lengths to test\n",
    "T_list = [5, 10, 20, 30, 40, 50, 60]\n",
    "\n",
    "# Create an empty dataframe to collect the R2-scores\n",
    "r2_scores_df = pd.DataFrame(columns=['T', 'train_r2', 'test_r2'])\n",
    "\n",
    "# Loop over the sequence lengths and collect the R2-scores in the dataframe\n",
    "for T in T_list:\n",
    "    train_r2, test_r2 = run_rnn_model(T)\n",
    "    r2_scores_df = r2_scores_df.append({'T': T, 'train_r2': train_r2, 'test_r2': test_r2}, ignore_index=True)\n",
    "\n",
    "# Plot the R2-scores for train and test data as a function of T\n",
    "plt.plot(r2_scores_df['T'], r2_scores_df['train_r2'], label='Train')\n",
    "plt.plot(r2_scores_df['T'], r2_scores_df['test_r2'], label='Test')\n",
    "plt.xlabel('Sequence Length (T)')\n",
    "plt.ylabel('R2-score')\n",
    "plt.legend()\n",
    "plt.show()\n"
   ]
  },
  {
   "cell_type": "code",
   "execution_count": null,
   "id": "495dde9c",
   "metadata": {},
   "outputs": [],
   "source": []
  }
 ],
 "metadata": {
  "kernelspec": {
   "display_name": "Python 3 (ipykernel)",
   "language": "python",
   "name": "python3"
  },
  "language_info": {
   "codemirror_mode": {
    "name": "ipython",
    "version": 3
   },
   "file_extension": ".py",
   "mimetype": "text/x-python",
   "name": "python",
   "nbconvert_exporter": "python",
   "pygments_lexer": "ipython3",
   "version": "3.9.12"
  }
 },
 "nbformat": 4,
 "nbformat_minor": 5
}
