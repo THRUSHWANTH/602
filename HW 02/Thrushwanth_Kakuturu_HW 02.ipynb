{
 "cells": [
  {
   "cell_type": "markdown",
   "id": "d23bd81f",
   "metadata": {},
   "source": [
    "1. Unsatisfactory Performance of Logistic Regression: Suppose you are implementing a\n",
    "simple logistic regression to solve a binary classification problem but you find unsatisfactory\n",
    "results.\n",
    "(a) What actions on your dataset would you consider to take in order to improve the\n",
    "performance of the model?\n",
    "(b) What would you consider to try for the existing algorithm to improve the performance\n",
    "of the model? Hint: Think about hyperparameters.\n",
    "(c) What other algorithms would you consider to try in this case? Why? Explain"
   ]
  },
  {
   "cell_type": "markdown",
   "id": "622fc8d7",
   "metadata": {},
   "source": [
    "(a) First I will check the data set is balanced or unbalanced as it is the classification problem. If the dataset is unbalanced I will try to balance the data set and ensures both classes are evenly distributed in training and testing data set.Again it depends on the data set, if it requires minority class like cancer diagnosis then we should not balance the data set.\n",
    "\n",
    "Secondly I will check the all the features of the data set are independent of each other, if features are highly dependent then I try to get the potential features for better performance."
   ]
  },
  {
   "cell_type": "markdown",
   "id": "1dc34019",
   "metadata": {},
   "source": [
    "(b) I will check first the model has high bias or high varience. If it has high varience I will try to reduce the varience by imposing regularizations(l1,l2,elasticnet) using C and also by reducing the max_iter value i.e by reducing the number to iterations to reduce the varience. \n",
    "\n",
    "If it is showing high bias then I will try to find the bias varience trade off value through grid search to get the hyperparameters to get the best performance of the model."
   ]
  },
  {
   "cell_type": "markdown",
   "id": "3dc26e40",
   "metadata": {},
   "source": [
    "(c)As we know that liblinear is the default in scikit learn, which can handle large data sets and also l1 and l2 norms. I will consider LBFGS, SAG, and SAGA as other algorithms to cross vaidate each other to pick the better one.\n",
    "If the data set is very small I will be using LBFGS i.e Limited-memory Broyden-Fletcher-Goldfarb-Shanno.\n",
    "If the data is large then I will use SAG stochastic Average Gradient Descent, which can handle l2 norm. \n",
    "If it requires l1 norm then I will use SAGA variance-reduced stochastic gradient algorithm which is better than other SAG models"
   ]
  },
  {
   "cell_type": "markdown",
   "id": "adce62a2",
   "metadata": {},
   "source": [
    "2. Hybrid Naive Bayes: In lecture 6, we introduced two types of naive Bayes classifiers,\n",
    "namely the classical naive Bayes classifier and the Gaussian naive Bayes classifier. As we saw,\n",
    "the former is applied when the features are categorical, whereas the latter is applied when\n",
    "features are continuous. With a simple modification, we can build a naive Bayes classifier\n",
    "when both categorical and continuous features are present. We refer to this classifier as the\n",
    "hybrid naive Bayes classifier. Suppose in a classification problem with K classes, we have d1\n",
    "categorical features, denoted by Z = (z1, z2, · · · , zd1\n",
    "), and d2 continuous features, denoted by\n",
    "~x ∈ R\n",
    "d2\n",
    ". As in classical and Gaussian naive Bayes classifiers, the hybrid naive Bayes classifier\n",
    "assumes independence among features. This allows us to take the advantage of formula (8)\n",
    "in lecture 6, and predict the class of the target in the hybrid case by a similar formula\n",
    "yˆ = argmax\n",
    "i∈{1,2··· ,K}\n",
    "\u0010\n",
    "p(Z = Z\n",
    "∗\n",
    "|y = i) p(~x = ~x∗\n",
    "|y = i) p(y = i)\n",
    "\u0011\n",
    ".\n",
    "In other words, in order to predict the class of the target variable, we can calculate the\n",
    "likelihoods of the categorical and continuous features separately, and multiply them due to\n",
    "their independence. That is the only change we need to impose for the hybrid naive Bayes\n",
    "classifier to work. A library, called Mixed Naive Bayes, has been written to implement naive\n",
    "Bayes classification to hybrid datasets. Visit the Github repository https://github.com/\n",
    "remykarem/mixed-naive-bayes to see how the mixed naive Bayes is implemented."
   ]
  },
  {
   "cell_type": "markdown",
   "id": "efaa2c7d",
   "metadata": {},
   "source": [
    "(a)Build a mixed naive Bayes classifier for the Heart Disease Dataset used in lecture 6. In\n",
    "this implementation, consider all 13 features (Recall that in this dataset, 8 features are\n",
    "categorical and 5 features are continuous)\n"
   ]
  },
  {
   "cell_type": "code",
   "execution_count": 4,
   "id": "f3525921",
   "metadata": {},
   "outputs": [
    {
     "name": "stdout",
     "output_type": "stream",
     "text": [
      "Requirement already satisfied: mixed-naive-bayes in c:\\users\\kakut\\anaconda\\lib\\site-packages (0.0.3)\n",
      "Requirement already satisfied: numpy>=1.22.0 in c:\\users\\kakut\\anaconda\\lib\\site-packages (from mixed-naive-bayes) (1.22.4)\n",
      "Requirement already satisfied: scikit-learn>=0.20.2 in c:\\users\\kakut\\anaconda\\lib\\site-packages (from mixed-naive-bayes) (1.0.2)\n",
      "Requirement already satisfied: joblib>=0.11 in c:\\users\\kakut\\anaconda\\lib\\site-packages (from scikit-learn>=0.20.2->mixed-naive-bayes) (1.1.0)\n",
      "Requirement already satisfied: threadpoolctl>=2.0.0 in c:\\users\\kakut\\anaconda\\lib\\site-packages (from scikit-learn>=0.20.2->mixed-naive-bayes) (2.2.0)\n",
      "Requirement already satisfied: scipy>=1.1.0 in c:\\users\\kakut\\anaconda\\lib\\site-packages (from scikit-learn>=0.20.2->mixed-naive-bayes) (1.7.3)\n"
     ]
    }
   ],
   "source": [
    "!pip install mixed-naive-bayes"
   ]
  },
  {
   "cell_type": "code",
   "execution_count": 5,
   "id": "b5406009",
   "metadata": {},
   "outputs": [],
   "source": [
    "import numpy as np\n",
    "import pandas as pd\n",
    "import matplotlib.pyplot as plt\n",
    "%matplotlib inline\n",
    "import seaborn as sns\n",
    "from sklearn.preprocessing import LabelEncoder\n"
   ]
  },
  {
   "cell_type": "code",
   "execution_count": 6,
   "id": "2319ed4c",
   "metadata": {},
   "outputs": [
    {
     "data": {
      "text/plain": [
       "(1025, 14)"
      ]
     },
     "execution_count": 6,
     "metadata": {},
     "output_type": "execute_result"
    }
   ],
   "source": [
    "heart_df = pd.read_csv('heart.csv')     # Reading the csv source file as a dataframe\n",
    "heart_df1=pd.read_csv('heart.csv')\n",
    "heart_df.shape"
   ]
  },
  {
   "cell_type": "code",
   "execution_count": 7,
   "id": "e947d807",
   "metadata": {},
   "outputs": [
    {
     "data": {
      "text/html": [
       "<div>\n",
       "<style scoped>\n",
       "    .dataframe tbody tr th:only-of-type {\n",
       "        vertical-align: middle;\n",
       "    }\n",
       "\n",
       "    .dataframe tbody tr th {\n",
       "        vertical-align: top;\n",
       "    }\n",
       "\n",
       "    .dataframe thead th {\n",
       "        text-align: right;\n",
       "    }\n",
       "</style>\n",
       "<table border=\"1\" class=\"dataframe\">\n",
       "  <thead>\n",
       "    <tr style=\"text-align: right;\">\n",
       "      <th></th>\n",
       "      <th>age</th>\n",
       "      <th>sex</th>\n",
       "      <th>cp</th>\n",
       "      <th>trestbps</th>\n",
       "      <th>chol</th>\n",
       "      <th>fbs</th>\n",
       "      <th>restecg</th>\n",
       "      <th>thalach</th>\n",
       "      <th>exang</th>\n",
       "      <th>oldpeak</th>\n",
       "      <th>slope</th>\n",
       "      <th>ca</th>\n",
       "      <th>thal</th>\n",
       "      <th>target</th>\n",
       "    </tr>\n",
       "  </thead>\n",
       "  <tbody>\n",
       "    <tr>\n",
       "      <th>750</th>\n",
       "      <td>55</td>\n",
       "      <td>1</td>\n",
       "      <td>1</td>\n",
       "      <td>130</td>\n",
       "      <td>262</td>\n",
       "      <td>0</td>\n",
       "      <td>1</td>\n",
       "      <td>155</td>\n",
       "      <td>0</td>\n",
       "      <td>0.0</td>\n",
       "      <td>2</td>\n",
       "      <td>0</td>\n",
       "      <td>2</td>\n",
       "      <td>1</td>\n",
       "    </tr>\n",
       "    <tr>\n",
       "      <th>525</th>\n",
       "      <td>51</td>\n",
       "      <td>0</td>\n",
       "      <td>2</td>\n",
       "      <td>130</td>\n",
       "      <td>256</td>\n",
       "      <td>0</td>\n",
       "      <td>0</td>\n",
       "      <td>149</td>\n",
       "      <td>0</td>\n",
       "      <td>0.5</td>\n",
       "      <td>2</td>\n",
       "      <td>0</td>\n",
       "      <td>2</td>\n",
       "      <td>1</td>\n",
       "    </tr>\n",
       "    <tr>\n",
       "      <th>562</th>\n",
       "      <td>42</td>\n",
       "      <td>0</td>\n",
       "      <td>2</td>\n",
       "      <td>120</td>\n",
       "      <td>209</td>\n",
       "      <td>0</td>\n",
       "      <td>1</td>\n",
       "      <td>173</td>\n",
       "      <td>0</td>\n",
       "      <td>0.0</td>\n",
       "      <td>1</td>\n",
       "      <td>0</td>\n",
       "      <td>2</td>\n",
       "      <td>1</td>\n",
       "    </tr>\n",
       "    <tr>\n",
       "      <th>1003</th>\n",
       "      <td>52</td>\n",
       "      <td>1</td>\n",
       "      <td>0</td>\n",
       "      <td>108</td>\n",
       "      <td>233</td>\n",
       "      <td>1</td>\n",
       "      <td>1</td>\n",
       "      <td>147</td>\n",
       "      <td>0</td>\n",
       "      <td>0.1</td>\n",
       "      <td>2</td>\n",
       "      <td>3</td>\n",
       "      <td>3</td>\n",
       "      <td>1</td>\n",
       "    </tr>\n",
       "    <tr>\n",
       "      <th>782</th>\n",
       "      <td>64</td>\n",
       "      <td>0</td>\n",
       "      <td>0</td>\n",
       "      <td>130</td>\n",
       "      <td>303</td>\n",
       "      <td>0</td>\n",
       "      <td>1</td>\n",
       "      <td>122</td>\n",
       "      <td>0</td>\n",
       "      <td>2.0</td>\n",
       "      <td>1</td>\n",
       "      <td>2</td>\n",
       "      <td>2</td>\n",
       "      <td>1</td>\n",
       "    </tr>\n",
       "  </tbody>\n",
       "</table>\n",
       "</div>"
      ],
      "text/plain": [
       "      age  sex  cp  trestbps  chol  fbs  restecg  thalach  exang  oldpeak  \\\n",
       "750    55    1   1       130   262    0        1      155      0      0.0   \n",
       "525    51    0   2       130   256    0        0      149      0      0.5   \n",
       "562    42    0   2       120   209    0        1      173      0      0.0   \n",
       "1003   52    1   0       108   233    1        1      147      0      0.1   \n",
       "782    64    0   0       130   303    0        1      122      0      2.0   \n",
       "\n",
       "      slope  ca  thal  target  \n",
       "750       2   0     2       1  \n",
       "525       2   0     2       1  \n",
       "562       1   0     2       1  \n",
       "1003      2   3     3       1  \n",
       "782       1   2     2       1  "
      ]
     },
     "execution_count": 7,
     "metadata": {},
     "output_type": "execute_result"
    }
   ],
   "source": [
    "# print the sample 5 values \n",
    "heart_df.sample(5)"
   ]
  },
  {
   "cell_type": "code",
   "execution_count": 8,
   "id": "c1c7c2ec",
   "metadata": {},
   "outputs": [],
   "source": [
    "# Breaking features to continuous and categorical ones\n",
    "cat_features = ['sex', 'cp', 'fbs', 'restecg', 'exang', 'slope', 'ca', 'thal']\n",
    "cont_features = ['age', 'trestbps', 'chol', 'thalach', 'oldpeak']\n",
    "heart_df=heart_df[['sex', 'cp', 'fbs', 'restecg', 'exang', 'slope', 'ca', 'thal','age', 'trestbps', 'chol', 'thalach', 'oldpeak','target']]"
   ]
  },
  {
   "cell_type": "code",
   "execution_count": 9,
   "id": "fa6decaa",
   "metadata": {},
   "outputs": [
    {
     "data": {
      "text/html": [
       "<div>\n",
       "<style scoped>\n",
       "    .dataframe tbody tr th:only-of-type {\n",
       "        vertical-align: middle;\n",
       "    }\n",
       "\n",
       "    .dataframe tbody tr th {\n",
       "        vertical-align: top;\n",
       "    }\n",
       "\n",
       "    .dataframe thead th {\n",
       "        text-align: right;\n",
       "    }\n",
       "</style>\n",
       "<table border=\"1\" class=\"dataframe\">\n",
       "  <thead>\n",
       "    <tr style=\"text-align: right;\">\n",
       "      <th></th>\n",
       "      <th>sex</th>\n",
       "      <th>cp</th>\n",
       "      <th>fbs</th>\n",
       "      <th>restecg</th>\n",
       "      <th>exang</th>\n",
       "      <th>slope</th>\n",
       "      <th>ca</th>\n",
       "      <th>thal</th>\n",
       "      <th>age</th>\n",
       "      <th>trestbps</th>\n",
       "      <th>chol</th>\n",
       "      <th>thalach</th>\n",
       "      <th>oldpeak</th>\n",
       "      <th>target</th>\n",
       "    </tr>\n",
       "  </thead>\n",
       "  <tbody>\n",
       "    <tr>\n",
       "      <th>487</th>\n",
       "      <td>1</td>\n",
       "      <td>0</td>\n",
       "      <td>0</td>\n",
       "      <td>0</td>\n",
       "      <td>0</td>\n",
       "      <td>1</td>\n",
       "      <td>1</td>\n",
       "      <td>3</td>\n",
       "      <td>65.0</td>\n",
       "      <td>135.0</td>\n",
       "      <td>254.0</td>\n",
       "      <td>127.0</td>\n",
       "      <td>2.8</td>\n",
       "      <td>0</td>\n",
       "    </tr>\n",
       "    <tr>\n",
       "      <th>758</th>\n",
       "      <td>0</td>\n",
       "      <td>1</td>\n",
       "      <td>0</td>\n",
       "      <td>1</td>\n",
       "      <td>0</td>\n",
       "      <td>2</td>\n",
       "      <td>0</td>\n",
       "      <td>2</td>\n",
       "      <td>46.0</td>\n",
       "      <td>105.0</td>\n",
       "      <td>204.0</td>\n",
       "      <td>172.0</td>\n",
       "      <td>0.0</td>\n",
       "      <td>1</td>\n",
       "    </tr>\n",
       "    <tr>\n",
       "      <th>694</th>\n",
       "      <td>1</td>\n",
       "      <td>0</td>\n",
       "      <td>0</td>\n",
       "      <td>1</td>\n",
       "      <td>0</td>\n",
       "      <td>1</td>\n",
       "      <td>0</td>\n",
       "      <td>3</td>\n",
       "      <td>39.0</td>\n",
       "      <td>118.0</td>\n",
       "      <td>219.0</td>\n",
       "      <td>140.0</td>\n",
       "      <td>1.2</td>\n",
       "      <td>0</td>\n",
       "    </tr>\n",
       "    <tr>\n",
       "      <th>1014</th>\n",
       "      <td>0</td>\n",
       "      <td>2</td>\n",
       "      <td>0</td>\n",
       "      <td>1</td>\n",
       "      <td>0</td>\n",
       "      <td>1</td>\n",
       "      <td>0</td>\n",
       "      <td>2</td>\n",
       "      <td>44.0</td>\n",
       "      <td>108.0</td>\n",
       "      <td>141.0</td>\n",
       "      <td>175.0</td>\n",
       "      <td>0.6</td>\n",
       "      <td>1</td>\n",
       "    </tr>\n",
       "    <tr>\n",
       "      <th>206</th>\n",
       "      <td>1</td>\n",
       "      <td>2</td>\n",
       "      <td>1</td>\n",
       "      <td>1</td>\n",
       "      <td>0</td>\n",
       "      <td>1</td>\n",
       "      <td>1</td>\n",
       "      <td>1</td>\n",
       "      <td>59.0</td>\n",
       "      <td>126.0</td>\n",
       "      <td>218.0</td>\n",
       "      <td>134.0</td>\n",
       "      <td>2.2</td>\n",
       "      <td>0</td>\n",
       "    </tr>\n",
       "  </tbody>\n",
       "</table>\n",
       "</div>"
      ],
      "text/plain": [
       "      sex  cp  fbs  restecg  exang  slope  ca  thal   age  trestbps   chol  \\\n",
       "487     1   0    0        0      0      1   1     3  65.0     135.0  254.0   \n",
       "758     0   1    0        1      0      2   0     2  46.0     105.0  204.0   \n",
       "694     1   0    0        1      0      1   0     3  39.0     118.0  219.0   \n",
       "1014    0   2    0        1      0      1   0     2  44.0     108.0  141.0   \n",
       "206     1   2    1        1      0      1   1     1  59.0     126.0  218.0   \n",
       "\n",
       "      thalach  oldpeak  target  \n",
       "487     127.0      2.8       0  \n",
       "758     172.0      0.0       1  \n",
       "694     140.0      1.2       0  \n",
       "1014    175.0      0.6       1  \n",
       "206     134.0      2.2       0  "
      ]
     },
     "execution_count": 9,
     "metadata": {},
     "output_type": "execute_result"
    }
   ],
   "source": [
    "# converting continuoues features to floating values\n",
    "heart_df.iloc[:,8:-1] = heart_df.iloc[:,8:-1] / 1.0\n",
    "heart_df.sample(5)"
   ]
  },
  {
   "cell_type": "code",
   "execution_count": 10,
   "id": "7a10164c",
   "metadata": {},
   "outputs": [
    {
     "data": {
      "text/html": [
       "<div>\n",
       "<style scoped>\n",
       "    .dataframe tbody tr th:only-of-type {\n",
       "        vertical-align: middle;\n",
       "    }\n",
       "\n",
       "    .dataframe tbody tr th {\n",
       "        vertical-align: top;\n",
       "    }\n",
       "\n",
       "    .dataframe thead th {\n",
       "        text-align: right;\n",
       "    }\n",
       "</style>\n",
       "<table border=\"1\" class=\"dataframe\">\n",
       "  <thead>\n",
       "    <tr style=\"text-align: right;\">\n",
       "      <th></th>\n",
       "      <th>sex</th>\n",
       "      <th>cp</th>\n",
       "      <th>fbs</th>\n",
       "      <th>restecg</th>\n",
       "      <th>exang</th>\n",
       "      <th>slope</th>\n",
       "      <th>ca</th>\n",
       "      <th>thal</th>\n",
       "      <th>age</th>\n",
       "      <th>trestbps</th>\n",
       "      <th>chol</th>\n",
       "      <th>thalach</th>\n",
       "      <th>oldpeak</th>\n",
       "      <th>target</th>\n",
       "    </tr>\n",
       "  </thead>\n",
       "  <tbody>\n",
       "    <tr>\n",
       "      <th>400</th>\n",
       "      <td>1</td>\n",
       "      <td>2</td>\n",
       "      <td>0</td>\n",
       "      <td>1</td>\n",
       "      <td>0</td>\n",
       "      <td>1</td>\n",
       "      <td>3</td>\n",
       "      <td>3</td>\n",
       "      <td>49.0</td>\n",
       "      <td>120.0</td>\n",
       "      <td>188.0</td>\n",
       "      <td>139.0</td>\n",
       "      <td>2.0</td>\n",
       "      <td>0</td>\n",
       "    </tr>\n",
       "    <tr>\n",
       "      <th>649</th>\n",
       "      <td>0</td>\n",
       "      <td>1</td>\n",
       "      <td>0</td>\n",
       "      <td>0</td>\n",
       "      <td>0</td>\n",
       "      <td>1</td>\n",
       "      <td>0</td>\n",
       "      <td>2</td>\n",
       "      <td>45.0</td>\n",
       "      <td>130.0</td>\n",
       "      <td>234.0</td>\n",
       "      <td>175.0</td>\n",
       "      <td>0.6</td>\n",
       "      <td>1</td>\n",
       "    </tr>\n",
       "    <tr>\n",
       "      <th>961</th>\n",
       "      <td>0</td>\n",
       "      <td>0</td>\n",
       "      <td>0</td>\n",
       "      <td>0</td>\n",
       "      <td>0</td>\n",
       "      <td>1</td>\n",
       "      <td>0</td>\n",
       "      <td>2</td>\n",
       "      <td>58.0</td>\n",
       "      <td>100.0</td>\n",
       "      <td>248.0</td>\n",
       "      <td>122.0</td>\n",
       "      <td>1.0</td>\n",
       "      <td>1</td>\n",
       "    </tr>\n",
       "    <tr>\n",
       "      <th>368</th>\n",
       "      <td>1</td>\n",
       "      <td>2</td>\n",
       "      <td>0</td>\n",
       "      <td>0</td>\n",
       "      <td>1</td>\n",
       "      <td>1</td>\n",
       "      <td>0</td>\n",
       "      <td>3</td>\n",
       "      <td>58.0</td>\n",
       "      <td>105.0</td>\n",
       "      <td>240.0</td>\n",
       "      <td>154.0</td>\n",
       "      <td>0.6</td>\n",
       "      <td>1</td>\n",
       "    </tr>\n",
       "    <tr>\n",
       "      <th>914</th>\n",
       "      <td>1</td>\n",
       "      <td>0</td>\n",
       "      <td>0</td>\n",
       "      <td>0</td>\n",
       "      <td>1</td>\n",
       "      <td>2</td>\n",
       "      <td>1</td>\n",
       "      <td>2</td>\n",
       "      <td>66.0</td>\n",
       "      <td>112.0</td>\n",
       "      <td>212.0</td>\n",
       "      <td>132.0</td>\n",
       "      <td>0.1</td>\n",
       "      <td>0</td>\n",
       "    </tr>\n",
       "    <tr>\n",
       "      <th>301</th>\n",
       "      <td>1</td>\n",
       "      <td>2</td>\n",
       "      <td>0</td>\n",
       "      <td>1</td>\n",
       "      <td>1</td>\n",
       "      <td>2</td>\n",
       "      <td>1</td>\n",
       "      <td>3</td>\n",
       "      <td>51.0</td>\n",
       "      <td>94.0</td>\n",
       "      <td>227.0</td>\n",
       "      <td>154.0</td>\n",
       "      <td>0.0</td>\n",
       "      <td>1</td>\n",
       "    </tr>\n",
       "  </tbody>\n",
       "</table>\n",
       "</div>"
      ],
      "text/plain": [
       "     sex  cp  fbs  restecg  exang  slope  ca  thal   age  trestbps   chol  \\\n",
       "400    1   2    0        1      0      1   3     3  49.0     120.0  188.0   \n",
       "649    0   1    0        0      0      1   0     2  45.0     130.0  234.0   \n",
       "961    0   0    0        0      0      1   0     2  58.0     100.0  248.0   \n",
       "368    1   2    0        0      1      1   0     3  58.0     105.0  240.0   \n",
       "914    1   0    0        0      1      2   1     2  66.0     112.0  212.0   \n",
       "301    1   2    0        1      1      2   1     3  51.0      94.0  227.0   \n",
       "\n",
       "     thalach  oldpeak  target  \n",
       "400    139.0      2.0       0  \n",
       "649    175.0      0.6       1  \n",
       "961    122.0      1.0       1  \n",
       "368    154.0      0.6       1  \n",
       "914    132.0      0.1       0  \n",
       "301    154.0      0.0       1  "
      ]
     },
     "execution_count": 10,
     "metadata": {},
     "output_type": "execute_result"
    }
   ],
   "source": [
    "# Label encoding every categorical feature\n",
    "label_encoder = LabelEncoder()\n",
    "heart_df.iloc[:,0]=label_encoder.fit_transform(heart_df.iloc[:,0])\n",
    "heart_df.iloc[:,1]=label_encoder.fit_transform(heart_df.iloc[:,1])\n",
    "heart_df.iloc[:,2]=label_encoder.fit_transform(heart_df.iloc[:,2])\n",
    "heart_df.iloc[:,3]=label_encoder.fit_transform(heart_df.iloc[:,3])\n",
    "heart_df.iloc[:,4]=label_encoder.fit_transform(heart_df.iloc[:,4])\n",
    "heart_df.iloc[:,5]=label_encoder.fit_transform(heart_df.iloc[:,5])\n",
    "heart_df.iloc[:,6]=label_encoder.fit_transform(heart_df.iloc[:,6])\n",
    "heart_df.iloc[:,7]=label_encoder.fit_transform(heart_df.iloc[:,7])\n",
    "heart_df.sample(6)"
   ]
  },
  {
   "cell_type": "code",
   "execution_count": 11,
   "id": "bf0bcc85",
   "metadata": {},
   "outputs": [
    {
     "name": "stdout",
     "output_type": "stream",
     "text": [
      "(1025,)\n"
     ]
    }
   ],
   "source": [
    "# # Defining the continuous features, categorical features and the target of the model\n",
    "X = heart_df[cat_features+cont_features].values     # Features\n",
    "y = heart_df['target'].values          # Target \n",
    "print(y.shape)"
   ]
  },
  {
   "cell_type": "code",
   "execution_count": 12,
   "id": "ad36b99d",
   "metadata": {},
   "outputs": [],
   "source": [
    "# Breaking the data into train and test subsets\n",
    "\n",
    "from sklearn.model_selection import train_test_split\n",
    "\n",
    "X_train, X_test, y_train, y_test = train_test_split(X, y, test_size=0.2, random_state=3)"
   ]
  },
  {
   "cell_type": "code",
   "execution_count": 13,
   "id": "cce409d0",
   "metadata": {},
   "outputs": [
    {
     "data": {
      "text/plain": [
       "MixedNB(alpha=0.5, var_smoothing=1e-09)"
      ]
     },
     "execution_count": 13,
     "metadata": {},
     "output_type": "execute_result"
    }
   ],
   "source": [
    "from mixed_naive_bayes import MixedNB\n",
    "clf = MixedNB(categorical_features=[0,1,2,3,4,5,6,7])\n",
    "clf.fit(X_train,y_train)"
   ]
  },
  {
   "cell_type": "code",
   "execution_count": 14,
   "id": "ddd2663d",
   "metadata": {},
   "outputs": [],
   "source": [
    "train_y_pred = clf.predict(X_train)\n",
    "test_y_pred = clf.predict(X_test)"
   ]
  },
  {
   "cell_type": "code",
   "execution_count": 15,
   "id": "3025c280",
   "metadata": {},
   "outputs": [
    {
     "name": "stdout",
     "output_type": "stream",
     "text": [
      "mixed naive bias Train Classification Report: \n",
      "\n",
      "               precision    recall  f1-score   support\n",
      "\n",
      "           0       0.86      0.83      0.85       393\n",
      "           1       0.85      0.88      0.86       427\n",
      "\n",
      "    accuracy                           0.86       820\n",
      "   macro avg       0.86      0.86      0.86       820\n",
      "weighted avg       0.86      0.86      0.86       820\n",
      " \n",
      "\n",
      "\n",
      "mixed naive bias Test Classification Report: \n",
      "\n",
      "               precision    recall  f1-score   support\n",
      "\n",
      "           0       0.89      0.81      0.85       106\n",
      "           1       0.81      0.89      0.85        99\n",
      "\n",
      "    accuracy                           0.85       205\n",
      "   macro avg       0.85      0.85      0.85       205\n",
      "weighted avg       0.85      0.85      0.85       205\n",
      "\n"
     ]
    }
   ],
   "source": [
    "from sklearn import metrics\n",
    "from sklearn.metrics import confusion_matrix, classification_report\n",
    "\n",
    "train_score = metrics.accuracy_score(y_train, train_y_pred)   # Compute train accuracy\n",
    "test_score = metrics.accuracy_score(y_test, test_y_pred)      # Compute test accuracy\n",
    "train_report = classification_report(y_train, train_y_pred)   # Generate classification report for train data\n",
    "test_report = classification_report(y_test, test_y_pred)      # Generate classification report for test data\n",
    "\n",
    "print('mixed naive bias Train Classification Report: \\n\\n', train_report,'\\n\\n')\n",
    "print('mixed naive bias Test Classification Report: \\n\\n', test_report)"
   ]
  },
  {
   "cell_type": "code",
   "execution_count": 16,
   "id": "60240959",
   "metadata": {},
   "outputs": [
    {
     "data": {
      "image/png": "[encoded data removed]",
      "text/plain": [
       "<Figure size 288x288 with 2 Axes>"
      ]
     },
     "metadata": {
      "needs_background": "light"
     },
     "output_type": "display_data"
    }
   ],
   "source": [
    "# Computing mixed naive bias confusion matrix\n",
    "\n",
    "lda_c_matrix = confusion_matrix(y_test, test_y_pred)\n",
    "\n",
    "plt.figure(figsize=(4,4))\n",
    "sns.heatmap(lda_c_matrix, annot=True, fmt=\".0f\", linewidths=.5, square = True, cmap = 'Pastel1');\n",
    "plt.ylabel('Actual label');\n",
    "plt.xlabel('Predicted label');\n",
    "all_sample_title = 'Accuracy Score: {0}'.format(round(test_score, 4))\n",
    "plt.title(all_sample_title, size = 15);\n",
    "plt.show()"
   ]
  },
  {
   "cell_type": "markdown",
   "id": "eb70280b",
   "metadata": {},
   "source": [
    "---------------------------------------------------------------2(b)----------------------------------------------------------\n"
   ]
  },
  {
   "cell_type": "markdown",
   "id": "34e045f5",
   "metadata": {},
   "source": [
    "(b) How do you evaluate the performance of the mixed naive Bayes classifier in part (a)? How do you compare the performance of the mixed naive Bayes classifier with the classical and Gaussian naive Bayes classifiers constructed in lecture 6?"
   ]
  },
  {
   "cell_type": "markdown",
   "id": "8210e715",
   "metadata": {},
   "source": [
    "The mixed naive bias classifer should good perfromace for the Heart Disease Data set. It shows accuracy of 85 for both test and train data sets. The f1 score is also 85 for both test and train data sets. The precision of finding 0 is 89 for test and finding 1 is 81 percent. Overall the mixed naice bias classifer performs well."
   ]
  },
  {
   "cell_type": "code",
   "execution_count": 17,
   "id": "12ab5f2a",
   "metadata": {},
   "outputs": [],
   "source": [
    "# Getting the naive bais model \n",
    "from sklearn.naive_bayes import MultinomialNB\n",
    "from sklearn.model_selection import train_test_split\n",
    "from sklearn.metrics import accuracy_score, confusion_matrix\n",
    "import pandas as pd\n",
    "\n",
    "\n",
    "# Defining the categorical features and the target of the model\n",
    "X = heart_df1[cat_features].values     # Features\n",
    "y = heart_df1['target'].values          # Target \n",
    "\n",
    "X_train, X_test, y_train, y_test = train_test_split(X, y, test_size=0.3, random_state=3)\n",
    "\n",
    "# Create a Multinomial naive Bayes model and fit it to the training data\n",
    "mnb = MultinomialNB()\n",
    "mnb.fit(X_train, y_train)\n",
    "\n",
    "# Predict the class labels for the testing set and training using the trained model\n",
    "train_y_pred = mnb.predict(X_train)\n",
    "test_y_pred = mnb.predict(X_test)\n",
    "\n",
    "\n"
   ]
  },
  {
   "cell_type": "code",
   "execution_count": 18,
   "id": "a0a399d4",
   "metadata": {},
   "outputs": [
    {
     "name": "stdout",
     "output_type": "stream",
     "text": [
      " Gaussian naive bias Train Classification Report: \n",
      "\n",
      "               precision    recall  f1-score   support\n",
      "\n",
      "           0       0.82      0.78      0.80       349\n",
      "           1       0.80      0.84      0.82       368\n",
      "\n",
      "    accuracy                           0.81       717\n",
      "   macro avg       0.81      0.81      0.81       717\n",
      "weighted avg       0.81      0.81      0.81       717\n",
      " \n",
      "\n",
      "\n",
      " Gaussian naive bias Test Classification Report: \n",
      "\n",
      "               precision    recall  f1-score   support\n",
      "\n",
      "           0       0.87      0.74      0.80       150\n",
      "           1       0.78      0.89      0.83       158\n",
      "\n",
      "    accuracy                           0.82       308\n",
      "   macro avg       0.83      0.82      0.82       308\n",
      "weighted avg       0.82      0.82      0.82       308\n",
      "\n"
     ]
    }
   ],
   "source": [
    "train_score = metrics.accuracy_score(y_train, train_y_pred)   # Compute train accuracy\n",
    "test_score = metrics.accuracy_score(y_test, test_y_pred)      # Compute test accuracy\n",
    "train_report = classification_report(y_train, train_y_pred)   # Generate classification report for train data\n",
    "test_report = classification_report(y_test, test_y_pred)      # Generate classification report for test data\n",
    "\n",
    "print(' Gaussian naive bias Train Classification Report: \\n\\n', train_report,'\\n\\n')\n",
    "print(' Gaussian naive bias Test Classification Report: \\n\\n', test_report)"
   ]
  },
  {
   "cell_type": "code",
   "execution_count": 19,
   "id": "32cd7a4e",
   "metadata": {},
   "outputs": [
    {
     "data": {
      "text/plain": [
       "GaussianNB()"
      ]
     },
     "execution_count": 19,
     "metadata": {},
     "output_type": "execute_result"
    }
   ],
   "source": [
    "# Defining the continuous features and the target of the model\n",
    "\n",
    "from sklearn.naive_bayes import GaussianNB\n",
    "\n",
    "\n",
    "# Defining the continuous features and the target of the model\n",
    "X = heart_df1[cont_features].values     # Features\n",
    "y = heart_df1['target'].values          # Target \n",
    "\n",
    "X_train, X_test, y_train, y_test = train_test_split(X, y, test_size=0.3, random_state=3)\n",
    "\n",
    "gnb_clf = GaussianNB()              # Instantiating the gaussian naive Bayes classifier\n",
    "gnb_clf.fit(X_train, y_train)       # Fitting the training data"
   ]
  },
  {
   "cell_type": "code",
   "execution_count": 20,
   "id": "5f9d5514",
   "metadata": {},
   "outputs": [],
   "source": [
    "# Predict the class labels for the testing set and training using the trained model\n",
    "train_y_pred = gnb_clf.predict(X_train)\n",
    "test_y_pred = gnb_clf.predict(X_test)"
   ]
  },
  {
   "cell_type": "code",
   "execution_count": 21,
   "id": "9e5ca80a",
   "metadata": {},
   "outputs": [
    {
     "name": "stdout",
     "output_type": "stream",
     "text": [
      " naive bias Train Classification Report: \n",
      "\n",
      "               precision    recall  f1-score   support\n",
      "\n",
      "           0       0.75      0.66      0.70       349\n",
      "           1       0.71      0.79      0.75       368\n",
      "\n",
      "    accuracy                           0.73       717\n",
      "   macro avg       0.73      0.72      0.72       717\n",
      "weighted avg       0.73      0.73      0.72       717\n",
      " \n",
      "\n",
      "\n",
      " naive bias Test Classification Report: \n",
      "\n",
      "               precision    recall  f1-score   support\n",
      "\n",
      "           0       0.74      0.62      0.67       150\n",
      "           1       0.69      0.79      0.74       158\n",
      "\n",
      "    accuracy                           0.71       308\n",
      "   macro avg       0.71      0.71      0.70       308\n",
      "weighted avg       0.71      0.71      0.71       308\n",
      "\n"
     ]
    }
   ],
   "source": [
    "train_score = metrics.accuracy_score(y_train, train_y_pred)   # Compute train accuracy\n",
    "test_score = metrics.accuracy_score(y_test, test_y_pred)      # Compute test accuracy\n",
    "train_report = classification_report(y_train, train_y_pred)   # Generate classification report for train data\n",
    "test_report = classification_report(y_test, test_y_pred)      # Generate classification report for test data\n",
    "\n",
    "print(' naive bias Train Classification Report: \\n\\n', train_report,'\\n\\n')\n",
    "print(' naive bias Test Classification Report: \\n\\n', test_report)"
   ]
  },
  {
   "cell_type": "markdown",
   "id": "4716de68",
   "metadata": {},
   "source": [
    "After analysing the performace of mixed naive bias classifer and the native bias classifier for categorical features and the Gaussian naive bias for continuous features, mixed naive bias classifies better than individual biases.Its accuray and F1 score is higher than the native and Gaussian bias classifiers.\n",
    "\n",
    "Native bias classifier gives the accuracy upto 81 percent for both test and train datasets, where as Gaussian naive bias shows just 70 percent accuracy. The F1 score of mixed naive bias classifier is 85, but the F1 scores of Classical and Gaussian naive bias classifiers are 80 and 70 percent respectively."
   ]
  },
  {
   "cell_type": "markdown",
   "id": "87eeb903",
   "metadata": {},
   "source": [
    "---------------------------------------------------------2(c)---------------------------------------------------------------"
   ]
  },
  {
   "cell_type": "markdown",
   "id": "4d441ba8",
   "metadata": {},
   "source": [
    "(c) Is there a straightforward generalization of LDA/QDA classification algorithms to hybrid datasets? Why? Explain.\n",
    "\n",
    "I don't think there will be straight forword generalization of LDA/QDA classification algotithms to hybrid datasets, because LDA/BDA assumes and avoids the assumption of Gaussian naive bias classifier i.e features are independent of each other. In LDA the covarience matrix is diagonal and in QDA each feature has its own covarience matrix.Because of this reason I assume that there will be no straigt forward generalization of LDA and QDA to hybrid data sets.\n",
    "\n",
    "Another reason is that LDA and QDA assumes that features are continuous. So, straight generalization is not possible.\n"
   ]
  },
  {
   "cell_type": "code",
   "execution_count": 22,
   "id": "718e332c",
   "metadata": {},
   "outputs": [
    {
     "name": "stdout",
     "output_type": "stream",
     "text": [
      "Requirement already satisfied: mlxtend in c:\\users\\kakut\\anaconda\\lib\\site-packages (0.21.0)\n",
      "Requirement already satisfied: setuptools in c:\\users\\kakut\\anaconda\\lib\\site-packages (from mlxtend) (61.2.0)\n",
      "Requirement already satisfied: matplotlib>=3.0.0 in c:\\users\\kakut\\anaconda\\lib\\site-packages (from mlxtend) (3.5.1)\n",
      "Requirement already satisfied: scikit-learn>=1.0.2 in c:\\users\\kakut\\anaconda\\lib\\site-packages (from mlxtend) (1.0.2)\n",
      "Requirement already satisfied: joblib>=0.13.2 in c:\\users\\kakut\\anaconda\\lib\\site-packages (from mlxtend) (1.1.0)\n",
      "Requirement already satisfied: numpy>=1.16.2 in c:\\users\\kakut\\anaconda\\lib\\site-packages (from mlxtend) (1.22.4)\n",
      "Requirement already satisfied: pandas>=0.24.2 in c:\\users\\kakut\\anaconda\\lib\\site-packages (from mlxtend) (1.4.2)\n",
      "Requirement already satisfied: scipy>=1.2.1 in c:\\users\\kakut\\anaconda\\lib\\site-packages (from mlxtend) (1.7.3)\n",
      "Requirement already satisfied: pyparsing>=2.2.1 in c:\\users\\kakut\\anaconda\\lib\\site-packages (from matplotlib>=3.0.0->mlxtend) (3.0.4)\n",
      "Requirement already satisfied: packaging>=20.0 in c:\\users\\kakut\\anaconda\\lib\\site-packages (from matplotlib>=3.0.0->mlxtend) (21.3)\n",
      "Requirement already satisfied: fonttools>=4.22.0 in c:\\users\\kakut\\anaconda\\lib\\site-packages (from matplotlib>=3.0.0->mlxtend) (4.25.0)\n",
      "Requirement already satisfied: cycler>=0.10 in c:\\users\\kakut\\anaconda\\lib\\site-packages (from matplotlib>=3.0.0->mlxtend) (0.11.0)\n",
      "Requirement already satisfied: kiwisolver>=1.0.1 in c:\\users\\kakut\\anaconda\\lib\\site-packages (from matplotlib>=3.0.0->mlxtend) (1.3.2)\n",
      "Requirement already satisfied: python-dateutil>=2.7 in c:\\users\\kakut\\anaconda\\lib\\site-packages (from matplotlib>=3.0.0->mlxtend) (2.8.2)\n",
      "Requirement already satisfied: pillow>=6.2.0 in c:\\users\\kakut\\anaconda\\lib\\site-packages (from matplotlib>=3.0.0->mlxtend) (9.0.1)\n",
      "Requirement already satisfied: pytz>=2020.1 in c:\\users\\kakut\\anaconda\\lib\\site-packages (from pandas>=0.24.2->mlxtend) (2021.3)\n",
      "Requirement already satisfied: six>=1.5 in c:\\users\\kakut\\anaconda\\lib\\site-packages (from python-dateutil>=2.7->matplotlib>=3.0.0->mlxtend) (1.16.0)\n",
      "Requirement already satisfied: threadpoolctl>=2.0.0 in c:\\users\\kakut\\anaconda\\lib\\site-packages (from scikit-learn>=1.0.2->mlxtend) (2.2.0)\n",
      "Note: you may need to restart the kernel to use updated packages.\n"
     ]
    }
   ],
   "source": [
    "pip install mlxtend"
   ]
  },
  {
   "cell_type": "markdown",
   "id": "2f50443e",
   "metadata": {},
   "source": [
    "# 3. LDA vs. QDA: In this problem, you will compare the performances of the LDA and QDA\n",
    "classifiers on a given dataset. The goal is to find out what classifier (between LDA and QDA)\n",
    "is most appropriate to be applied in different cases. In this problem proceed as follows."
   ]
  },
  {
   "cell_type": "markdown",
   "id": "7ceb07c2",
   "metadata": {},
   "source": [
    "(a) Download LDA-QDA-Toy-Data.csv and read the csv file into a dataframe. Regard x1 and\n",
    "x2 columns as continuous features, and the y column as a binary categorical target. Split\n",
    "the data into train and test with test size=0.25."
   ]
  },
  {
   "cell_type": "code",
   "execution_count": 23,
   "id": "5f650657",
   "metadata": {},
   "outputs": [
    {
     "name": "stdout",
     "output_type": "stream",
     "text": [
      "Index(['$x_1$', '$x_2$', '$y$'], dtype='object')\n",
      "Size of class 0: 1565\n",
      "Size of class 1: 1435\n",
      "Shape of the dataset: (3000, 3)\n"
     ]
    }
   ],
   "source": [
    "# Importing basic libraries\n",
    "\n",
    "import numpy as np\n",
    "import pandas as pd\n",
    "import matplotlib.pyplot as plt\n",
    "%matplotlib inline\n",
    "import seaborn as sns\n",
    "# Loading the dataset\n",
    "\n",
    "toy_df = pd.read_csv('LDA-QDA-Toy-Data.csv')     # Reading the csv source file as a dataframe\n",
    "toy_df = toy_df.drop('Unnamed: 0', axis=1)       # Removing the un named column\n",
    "\n",
    "# Finding the size of each class\n",
    "print(toy_df.columns)\n",
    "print('Size of class 0:', len(toy_df[toy_df['$y$']==0]))\n",
    "print('Size of class 1:', len(toy_df[toy_df['$y$']==1]))\n",
    "print('Shape of the dataset:', toy_df.shape)\n",
    "\n",
    "X = toy_df[['$x_1$','$x_2$']].values     # Features\n",
    "y = toy_df['$y$'].values   \n",
    "\n",
    "# Breaking the data into train and test subsets\n",
    "\n",
    "from sklearn.model_selection import train_test_split\n",
    "\n",
    "X_train, X_test, y_train, y_test = train_test_split(X, y, test_size=0.25, random_state=3)\n"
   ]
  },
  {
   "cell_type": "markdown",
   "id": "4c9d2184",
   "metadata": {},
   "source": [
    "(b) Train LDA and QDA classifiers on the train subset established in part (a). Find the predictions of both classifiers for the test subset."
   ]
  },
  {
   "cell_type": "code",
   "execution_count": 24,
   "id": "4c8a5658",
   "metadata": {},
   "outputs": [
    {
     "name": "stdout",
     "output_type": "stream",
     "text": [
      "[0 1 0 1 0 0 0 1 0 0]\n",
      "[1 1 0 1 0 1 0 1 0 1]\n"
     ]
    }
   ],
   "source": [
    "from sklearn.discriminant_analysis import LinearDiscriminantAnalysis\n",
    "from sklearn.discriminant_analysis import QuadraticDiscriminantAnalysis\n",
    "\n",
    "lda_clf = LinearDiscriminantAnalysis()     # Instantiating the lda classifier\n",
    "lda_clf.fit(X_train, y_train)              # Fitting the train data\n",
    "\n",
    "qda_clf = QuadraticDiscriminantAnalysis()      # Instantiating the QDA classifier\n",
    "qda_clf.fit(X_train, y_train)                  # Fitting the training data\n",
    "\n",
    "# Finding the predictions of the lda classifier for train and test subsets \n",
    "\n",
    "lda_train_y_pred = lda_clf.predict(X_train)\n",
    "lda_test_y_pred = lda_clf.predict(X_test)\n",
    "qda_train_y_pred=qda_clf.predict(X_train)\n",
    "qda_test_y_pred=qda_clf.predict(X_test)\n",
    "print(lda_test_y_pred[:10])\n",
    "print(qda_test_y_pred[:10])\n"
   ]
  },
  {
   "cell_type": "markdown",
   "id": "fd010aa4",
   "metadata": {},
   "source": [
    "(c) Calculate the relevant accuracy metrics by presenting the classification report for both train and test subsets. Assess the two classifiers and contrast their performances."
   ]
  },
  {
   "cell_type": "code",
   "execution_count": 25,
   "id": "7e9f57f6",
   "metadata": {},
   "outputs": [
    {
     "name": "stdout",
     "output_type": "stream",
     "text": [
      "LDA Train Classification Report: \n",
      "\n",
      "               precision    recall  f1-score   support\n",
      "\n",
      "           0       0.53      0.76      0.63      1166\n",
      "           1       0.52      0.28      0.36      1084\n",
      "\n",
      "    accuracy                           0.53      2250\n",
      "   macro avg       0.53      0.52      0.50      2250\n",
      "weighted avg       0.53      0.53      0.50      2250\n",
      " \n",
      "\n",
      "\n",
      "LDA Test Classification Report: \n",
      "\n",
      "               precision    recall  f1-score   support\n",
      "\n",
      "           0       0.56      0.76      0.64       399\n",
      "           1       0.54      0.32      0.40       351\n",
      "\n",
      "    accuracy                           0.55       750\n",
      "   macro avg       0.55      0.54      0.52       750\n",
      "weighted avg       0.55      0.55      0.53       750\n",
      "\n"
     ]
    }
   ],
   "source": [
    "from sklearn import metrics\n",
    "from sklearn.metrics import confusion_matrix, classification_report\n",
    "\n",
    "train_score = metrics.accuracy_score(y_train, lda_train_y_pred)   # Compute train accuracy\n",
    "test_score = metrics.accuracy_score(y_test, lda_test_y_pred)      # Compute test accuracy\n",
    "train_report = classification_report(y_train, lda_train_y_pred)   # Generate classification report for train data\n",
    "test_report = classification_report(y_test, lda_test_y_pred)      # Generate classification report for test data\n",
    "\n",
    "print('LDA Train Classification Report: \\n\\n', train_report,'\\n\\n')\n",
    "print('LDA Test Classification Report: \\n\\n', test_report)"
   ]
  },
  {
   "cell_type": "code",
   "execution_count": 26,
   "id": "0d3d7114",
   "metadata": {},
   "outputs": [
    {
     "name": "stdout",
     "output_type": "stream",
     "text": [
      "QDA Train Classification Report: \n",
      "\n",
      "               precision    recall  f1-score   support\n",
      "\n",
      "           0       0.89      0.97      0.93      1166\n",
      "           1       0.97      0.88      0.92      1084\n",
      "\n",
      "    accuracy                           0.93      2250\n",
      "   macro avg       0.93      0.92      0.92      2250\n",
      "weighted avg       0.93      0.93      0.93      2250\n",
      " \n",
      "\n",
      "\n",
      "QDA Test Classification Report: \n",
      "\n",
      "               precision    recall  f1-score   support\n",
      "\n",
      "           0       0.92      0.98      0.95       399\n",
      "           1       0.98      0.91      0.94       351\n",
      "\n",
      "    accuracy                           0.95       750\n",
      "   macro avg       0.95      0.95      0.95       750\n",
      "weighted avg       0.95      0.95      0.95       750\n",
      "\n"
     ]
    }
   ],
   "source": [
    "# QDA classification report\n",
    "train_score = metrics.accuracy_score(y_train, qda_train_y_pred)   # Compute train accuracy\n",
    "test_score = metrics.accuracy_score(y_test, qda_test_y_pred)      # Compute test accuracy\n",
    "train_report = classification_report(y_train, qda_train_y_pred)   # Generate classification report for train data\n",
    "test_report = classification_report(y_test, qda_test_y_pred)      # Generate classification report for test data\n",
    "\n",
    "print('QDA Train Classification Report: \\n\\n', train_report,'\\n\\n')\n",
    "print('QDA Test Classification Report: \\n\\n', test_report)"
   ]
  },
  {
   "cell_type": "markdown",
   "id": "4ac13a4c",
   "metadata": {},
   "source": [
    "After clearly observing the reports we can say that QDA is far more better performing than the LDA. LDA completely failed classifyng the data set by giving accuracy like monkey classifier. QDA gives accuary of 93 for training set and 95 for test data. LDA gives 53 for train and 55 for test data. Comparing F1 scores we can see that QDA has above 90 percent for both test and train data, where as LDA has less F1 scores."
   ]
  },
  {
   "cell_type": "markdown",
   "id": "9ce35124",
   "metadata": {},
   "source": [
    "(d) Use plot decision regions from the plotting module of the mlxtend library to plot the decision regions for the two classifiers in the two dimensional feature space formed by x1 and x2 (revisit the “Binary Example” of lecture 4 to see how decision regions are plotted)"
   ]
  },
  {
   "cell_type": "code",
   "execution_count": 27,
   "id": "2663f53d",
   "metadata": {},
   "outputs": [
    {
     "data": {
      "image/png": "[encoded data removed]",
      "text/plain": [
       "<Figure size 504x360 with 1 Axes>"
      ]
     },
     "metadata": {
      "needs_background": "light"
     },
     "output_type": "display_data"
    }
   ],
   "source": [
    "# Plotting the lda decision regions\n",
    "import mlxtend\n",
    "from mlxtend.plotting import plot_decision_regions\n",
    "\n",
    "mlxtend.plotting.plot_decision_regions(X=X_test, y=y_test, clf=lda_clf) # Plotting the decision region\n",
    "\n",
    "plt.title('Regions for Feature Variables')\n",
    "plt.xlabel('x1')\n",
    "plt.ylabel('x2') \n",
    "plt.legend(loc='lower right')\n",
    "plt.tight_layout()\n",
    "plt.gcf().set_size_inches(7, 5)\n",
    "plt.show()\n",
    "\n",
    "## 0: No Rain\n",
    "## 1: Rain"
   ]
  },
  {
   "cell_type": "code",
   "execution_count": 28,
   "id": "20bd1f36",
   "metadata": {},
   "outputs": [
    {
     "data": {
      "image/png": "[encoded data removed]",
      "text/plain": [
       "<Figure size 504x360 with 1 Axes>"
      ]
     },
     "metadata": {
      "needs_background": "light"
     },
     "output_type": "display_data"
    }
   ],
   "source": [
    "# Plotting the qda decision regions\n",
    "import mlxtend\n",
    "from mlxtend.plotting import plot_decision_regions\n",
    "\n",
    "mlxtend.plotting.plot_decision_regions(X=X_test, y=y_test, clf=qda_clf) # Plotting the decision region\n",
    "\n",
    "plt.title('Regions for Feature Variables')\n",
    "plt.xlabel('x1')\n",
    "plt.ylabel('x2') \n",
    "plt.legend(loc='lower right')\n",
    "plt.tight_layout()\n",
    "plt.gcf().set_size_inches(7, 5)\n",
    "plt.show()\n",
    "\n",
    "## 0: \n",
    "## 1: "
   ]
  },
  {
   "cell_type": "markdown",
   "id": "91b865fd",
   "metadata": {},
   "source": [
    "(e) Based on your findings in parts (c) and (d) and your literature search, explain in what situations it would be more appropriate to use QDA classifier. In what situations is the LDA classifier the more appropriate choice of classifier?"
   ]
  },
  {
   "cell_type": "code",
   "execution_count": 29,
   "id": "3cf5fe16",
   "metadata": {},
   "outputs": [
    {
     "name": "stdout",
     "output_type": "stream",
     "text": [
      "[[32.8580326   0.14236697]\n",
      " [ 0.14236697 33.28961931]]\n"
     ]
    }
   ],
   "source": [
    "import numpy as np\n",
    "\n",
    "# X is the featuresmatrix and y is the target vector\n",
    "# split the data into separate classes\n",
    "X = toy_df[['$x_1$','$x_2$']].values\n",
    "\n",
    "# compute the covariance matrix for each class\n",
    "cov_class0 = np.cov(X.T)\n",
    "print(cov_class0)\n"
   ]
  },
  {
   "cell_type": "markdown",
   "id": "2d11e71f",
   "metadata": {},
   "source": [
    "The QDA classifier should be used when there is evidence to suggest that the covariance matrix is different for each class, or when the decision boundary is expected to be curved. For example here after plotting we can oberve that the decison boundary should be curved to efficiently classify. LDA is used when covarience is same for all features and each feature follows a normal distribution. In LDA classifer hyperplane is expected.\n",
    "\n"
   ]
  },
  {
   "cell_type": "code",
   "execution_count": null,
   "id": "67f026d0",
   "metadata": {},
   "outputs": [],
   "source": []
  },
  {
   "cell_type": "markdown",
   "id": "cdfa7281",
   "metadata": {},
   "source": [
    "## 4. Random Forests vs. Gradient Boosting: Contrast and compare random forest and\n",
    "## gradient boosting classifiers from the point of view of"
   ]
  },
  {
   "cell_type": "markdown",
   "id": "b1a6a93b",
   "metadata": {},
   "source": [
    "(a) internal structures of the algorithms\n",
    "\n",
    "Random forests and gradient boosting are both ensemble methods used for classification and regression tasks. Random forests are made up of decision trees where each tree is built independently from random sample of data and then combined. On the other hand, gradient boosting builds trees one at a time, where each new tree trying to correct the errors made by the previous trained trees."
   ]
  },
  {
   "cell_type": "markdown",
   "id": "af6734fd",
   "metadata": {},
   "source": [
    "(b) being prone to overfitting\n",
    "\n",
    "Gradient Boosting is prone to overfitting as it builds trees one after other, correcting errors which lead to over fit the data. Random forest on other hand builds trees on different samples of data which helps to reduce the varience of model, which reduces overfitting.\n",
    "\n"
   ]
  },
  {
   "cell_type": "markdown",
   "id": "50a35232",
   "metadata": {},
   "source": [
    "(c) tuning hyperparameters\n",
    "\n",
    "Gradient Boosting hyperparameters - number of trees, depth of trees, learning rate are the hyperparameters\n",
    "Random Forests hyperparameters - number of trees, number of features selected at each node \n"
   ]
  },
  {
   "cell_type": "markdown",
   "id": "a8ea2c04",
   "metadata": {},
   "source": [
    "(d) execution time to train\n",
    "\n",
    "Random forests are faster to train than gradient boosting as they build each tree independently.Gradient boosting builds trees one at a time, with each new tree trying to correct the errors made by the previous trees. This means that the training time for gradient boosting increases with the number of trees and the depth of each tree. However,XGBoost and LightGBM have made gradient boosting much faster and more efficient than before. Random forests are slow in real- world data sets."
   ]
  },
  {
   "cell_type": "markdown",
   "id": "9b23b857",
   "metadata": {},
   "source": [
    "# 5. Classification Analysis: For this problem, use the csv file GateArrivalDelay-Classification.csv.\n",
    "In this problem, you will employ several different classification algorithms on the data pub\u0002lished by FAA to predict whether a gate will be experiencing arrival delay at the ORD airport.\n",
    "The target variable in this problem is the Class which is a binary categorical variable (y = 0\n",
    "corresponds to no delay, whereas y = 1 corresponds to an average of 15 minutes or more delay\n",
    "for a gate at ORD airport). Potential features are\n",
    "• % On-TimeGateArrivals\n",
    "• AverageBlockDelay\n",
    "• AverageTaxiInDelay\n",
    "• AverageAirborneDelay\n",
    "• AverageAirportDepartureDelay\n",
    "• AverageGateDepartureDelay"
   ]
  },
  {
   "cell_type": "markdown",
   "id": "d3ea9666",
   "metadata": {},
   "source": [
    "(a) Determine the nature of the classification problem. Is the current classification problem\n",
    "closer to a balanced classification or an unbalanced classification problem?"
   ]
  },
  {
   "cell_type": "code",
   "execution_count": 30,
   "id": "ed840704",
   "metadata": {},
   "outputs": [
    {
     "data": {
      "text/html": [
       "<div>\n",
       "<style scoped>\n",
       "    .dataframe tbody tr th:only-of-type {\n",
       "        vertical-align: middle;\n",
       "    }\n",
       "\n",
       "    .dataframe tbody tr th {\n",
       "        vertical-align: top;\n",
       "    }\n",
       "\n",
       "    .dataframe thead th {\n",
       "        text-align: right;\n",
       "    }\n",
       "</style>\n",
       "<table border=\"1\" class=\"dataframe\">\n",
       "  <thead>\n",
       "    <tr style=\"text-align: right;\">\n",
       "      <th></th>\n",
       "      <th>Date_Time</th>\n",
       "      <th>% On-TimeGateArrivals</th>\n",
       "      <th>AverageBlockDelay</th>\n",
       "      <th>AverageTaxiInDelay</th>\n",
       "      <th>AverageAirborneDelay</th>\n",
       "      <th>AverageAirportDepartureDelay</th>\n",
       "      <th>AverageGateDepartureDelay</th>\n",
       "      <th>Delay_Class</th>\n",
       "    </tr>\n",
       "  </thead>\n",
       "  <tbody>\n",
       "    <tr>\n",
       "      <th>0</th>\n",
       "      <td>2019-03-01 00:00:00</td>\n",
       "      <td>90.00</td>\n",
       "      <td>7.70</td>\n",
       "      <td>9.47</td>\n",
       "      <td>0.60</td>\n",
       "      <td>13.67</td>\n",
       "      <td>6.67</td>\n",
       "      <td>0</td>\n",
       "    </tr>\n",
       "    <tr>\n",
       "      <th>1</th>\n",
       "      <td>2019-03-02 00:00:00</td>\n",
       "      <td>72.73</td>\n",
       "      <td>0.91</td>\n",
       "      <td>2.55</td>\n",
       "      <td>0.00</td>\n",
       "      <td>13.17</td>\n",
       "      <td>5.33</td>\n",
       "      <td>0</td>\n",
       "    </tr>\n",
       "    <tr>\n",
       "      <th>2</th>\n",
       "      <td>2019-03-03 00:00:00</td>\n",
       "      <td>75.00</td>\n",
       "      <td>1.00</td>\n",
       "      <td>0.91</td>\n",
       "      <td>0.00</td>\n",
       "      <td>25.50</td>\n",
       "      <td>14.00</td>\n",
       "      <td>0</td>\n",
       "    </tr>\n",
       "    <tr>\n",
       "      <th>3</th>\n",
       "      <td>2019-03-04 00:00:00</td>\n",
       "      <td>83.33</td>\n",
       "      <td>1.50</td>\n",
       "      <td>1.13</td>\n",
       "      <td>3.00</td>\n",
       "      <td>26.75</td>\n",
       "      <td>17.50</td>\n",
       "      <td>0</td>\n",
       "    </tr>\n",
       "    <tr>\n",
       "      <th>4</th>\n",
       "      <td>2019-03-05 00:00:00</td>\n",
       "      <td>90.91</td>\n",
       "      <td>0.64</td>\n",
       "      <td>1.38</td>\n",
       "      <td>1.27</td>\n",
       "      <td>15.00</td>\n",
       "      <td>12.50</td>\n",
       "      <td>0</td>\n",
       "    </tr>\n",
       "  </tbody>\n",
       "</table>\n",
       "</div>"
      ],
      "text/plain": [
       "             Date_Time  % On-TimeGateArrivals  AverageBlockDelay  \\\n",
       "0  2019-03-01 00:00:00                  90.00               7.70   \n",
       "1  2019-03-02 00:00:00                  72.73               0.91   \n",
       "2  2019-03-03 00:00:00                  75.00               1.00   \n",
       "3  2019-03-04 00:00:00                  83.33               1.50   \n",
       "4  2019-03-05 00:00:00                  90.91               0.64   \n",
       "\n",
       "   AverageTaxiInDelay  AverageAirborneDelay  AverageAirportDepartureDelay  \\\n",
       "0                9.47                  0.60                         13.67   \n",
       "1                2.55                  0.00                         13.17   \n",
       "2                0.91                  0.00                         25.50   \n",
       "3                1.13                  3.00                         26.75   \n",
       "4                1.38                  1.27                         15.00   \n",
       "\n",
       "   AverageGateDepartureDelay  Delay_Class  \n",
       "0                       6.67            0  \n",
       "1                       5.33            0  \n",
       "2                      14.00            0  \n",
       "3                      17.50            0  \n",
       "4                      12.50            0  "
      ]
     },
     "execution_count": 30,
     "metadata": {},
     "output_type": "execute_result"
    }
   ],
   "source": [
    "import numpy as np\n",
    "import pandas as pd\n",
    "import matplotlib.pyplot as plt\n",
    "%matplotlib inline\n",
    "# Loading the dataset\n",
    "\n",
    "gad_df = pd.read_csv('GateArrivalDelay-Classification.csv')     # Reading the csv source file as a dataframe\n",
    "gad_df = gad_df.drop('Unnamed: 0', axis=1)       # Removing the un named column\n",
    "gad_df.head()"
   ]
  },
  {
   "cell_type": "code",
   "execution_count": 31,
   "id": "843a7a44",
   "metadata": {},
   "outputs": [
    {
     "name": "stdout",
     "output_type": "stream",
     "text": [
      "Index(['Date_Time', '% On-TimeGateArrivals', 'AverageBlockDelay',\n",
      "       'AverageTaxiInDelay', 'AverageAirborneDelay',\n",
      "       'AverageAirportDepartureDelay', 'AverageGateDepartureDelay',\n",
      "       'Delay_Class'],\n",
      "      dtype='object')\n",
      "Size of class 0: 1930\n",
      "Size of class 1: 277\n",
      "Shape of the dataset: (2207, 8)\n"
     ]
    }
   ],
   "source": [
    "# To check it is balanced or unbalanced \n",
    "#gad_df[]\n",
    "print(gad_df.columns)\n",
    "print('Size of class 0:', len(gad_df[gad_df['Delay_Class']==0]))\n",
    "print('Size of class 1:', len(gad_df[gad_df['Delay_Class']==1]))\n",
    "print('Shape of the dataset:', gad_df.shape)\n"
   ]
  },
  {
   "cell_type": "markdown",
   "id": "b2eb2762",
   "metadata": {},
   "source": [
    "Clearly we can see the difference between the number of instances target classes. It is the unbalanced classification problem."
   ]
  },
  {
   "cell_type": "markdown",
   "id": "97ca43c9",
   "metadata": {},
   "source": [
    "(b) Construct a random forest classifier for the target Class in the presence of all 6 features. Calculate the relative feature importance from the constructed forest and identify the two most significant features."
   ]
  },
  {
   "cell_type": "code",
   "execution_count": 32,
   "id": "53a67db7",
   "metadata": {},
   "outputs": [],
   "source": [
    "X=gad_df[[ '% On-TimeGateArrivals', 'AverageBlockDelay','AverageTaxiInDelay', 'AverageAirborneDelay',\n",
    "       'AverageAirportDepartureDelay', 'AverageGateDepartureDelay']]\n",
    "y=gad_df[['Delay_Class']]\n",
    "y=np.ravel(y)\n",
    "         \n",
    "# Breaking the data into train and test subsets\n",
    "\n",
    "from sklearn.model_selection import train_test_split\n",
    "\n",
    "X_train, X_test, y_train, y_test = train_test_split(X, y, test_size=0.25, random_state=3)"
   ]
  },
  {
   "cell_type": "code",
   "execution_count": 33,
   "id": "7c3b4cf4",
   "metadata": {},
   "outputs": [
    {
     "name": "stdout",
     "output_type": "stream",
     "text": [
      "Random Forest Classifier Train Classification Report: \n",
      "\n",
      "               precision    recall  f1-score   support\n",
      "\n",
      "           0       0.97      0.99      0.98      1436\n",
      "           1       0.95      0.79      0.86       219\n",
      "\n",
      "    accuracy                           0.97      1655\n",
      "   macro avg       0.96      0.89      0.92      1655\n",
      "weighted avg       0.97      0.97      0.96      1655\n",
      " \n",
      "\n",
      "\n",
      "Random Forest Classifier Test Classification Report: \n",
      "\n",
      "               precision    recall  f1-score   support\n",
      "\n",
      "           0       0.96      0.99      0.98       494\n",
      "           1       0.87      0.69      0.77        58\n",
      "\n",
      "    accuracy                           0.96       552\n",
      "   macro avg       0.92      0.84      0.87       552\n",
      "weighted avg       0.95      0.96      0.95       552\n",
      "\n"
     ]
    }
   ],
   "source": [
    "# Constructing a random forest classifier\n",
    "\n",
    "from sklearn.ensemble import RandomForestClassifier\n",
    "from sklearn import metrics\n",
    "from sklearn.metrics import confusion_matrix, classification_report\n",
    "\n",
    "\n",
    "rf_clf = RandomForestClassifier(max_depth=5, random_state=3)\n",
    "rf_clf.fit(X_train, y_train)\n",
    "\n",
    "# Finding the predictions of random forest classifier for train and test subsets\n",
    "\n",
    "train_y_pred = rf_clf.predict(X_train)\n",
    "test_y_pred = rf_clf.predict(X_test)\n",
    "train_score = metrics.accuracy_score(y_train, train_y_pred)   # Compute train accuracy\n",
    "test_score = metrics.accuracy_score(y_test, test_y_pred)      # Compute test accuracy\n",
    "train_report = classification_report(y_train, train_y_pred)   # Generate classification report for train data\n",
    "test_report = classification_report(y_test, test_y_pred)      # Generate classification report for test data\n",
    "\n",
    "print('Random Forest Classifier Train Classification Report: \\n\\n', train_report,'\\n\\n')\n",
    "print('Random Forest Classifier Test Classification Report: \\n\\n', test_report)"
   ]
  },
  {
   "cell_type": "code",
   "execution_count": 34,
   "id": "9780ca15",
   "metadata": {},
   "outputs": [
    {
     "data": {
      "image/png": "[encoded data removed]",
      "text/plain": [
       "<Figure size 504x504 with 1 Axes>"
      ]
     },
     "metadata": {
      "needs_background": "light"
     },
     "output_type": "display_data"
    }
   ],
   "source": [
    "# Calculating the feature importance\n",
    "feature_importance = rf_clf.feature_importances_\n",
    "feature_importance = 100.0 * (feature_importance / np.sum(feature_importance))\n",
    "\n",
    "# Displaying the relative feature importance by a horizontal bar chart\n",
    "sorted_idx = np.argsort(feature_importance)\n",
    "pos = np.arange(sorted_idx.shape[0]) + 0.5\n",
    "plt.figure(figsize=(7, 7))\n",
    "\n",
    "plt.title(\"Feature Importance\")\n",
    "plt.xlabel('Relative Importance')\n",
    "plt.barh(pos, feature_importance[sorted_idx], color='crimson', align=\"center\")\n",
    "# Update x-axis labels with actual feature names\n",
    "feature_names = ['% On-TimeGateArrivals', 'AverageBlockDelay', 'AverageTaxiInDelay',\n",
    "                 'AverageAirborneDelay', 'AverageAirportDepartureDelay', 'AverageGateDepartureDelay']\n",
    "plt.yticks(pos, np.array(feature_names)[sorted_idx])\n",
    "plt.show()\n"
   ]
  },
  {
   "cell_type": "markdown",
   "id": "31dba960",
   "metadata": {},
   "source": [
    "We can see that the AverageBlockDelay and % On-TimeGateArrivals are the most significant features ."
   ]
  },
  {
   "cell_type": "markdown",
   "id": "77968693",
   "metadata": {},
   "source": [
    "c) Construct a logistic regression classifier for the classification problem. Calculate various\n",
    "relevant accuracy metrics, and assess the performance of your constructed classifier.\n",
    "What is the AUC of the corresponding ROC curve for this binary classifier? Plot\n",
    "decision regions in the feature space."
   ]
  },
  {
   "cell_type": "code",
   "execution_count": 35,
   "id": "e2bec8dd",
   "metadata": {},
   "outputs": [],
   "source": [
    "X=gad_df[[ '% On-TimeGateArrivals', 'AverageBlockDelay']].values\n",
    "y=gad_df[['Delay_Class']]\n",
    "y=np.ravel(y)\n",
    "         \n",
    "# Breaking the data into train and test subsets\n",
    "\n",
    "from sklearn.model_selection import train_test_split\n",
    "\n",
    "X_train, X_test, y_train, y_test = train_test_split(X, y, test_size=0.25, random_state=3)"
   ]
  },
  {
   "cell_type": "code",
   "execution_count": 36,
   "id": "9e0a081a",
   "metadata": {},
   "outputs": [
    {
     "data": {
      "text/plain": [
       "LogisticRegression(max_iter=10000)"
      ]
     },
     "execution_count": 36,
     "metadata": {},
     "output_type": "execute_result"
    }
   ],
   "source": [
    "from sklearn.linear_model import LogisticRegression   # Importing Logistic Regression from sklearn\n",
    "\n",
    "logreg = LogisticRegression(penalty = 'l2', max_iter = 10000) # Instantiating logistic regression \n",
    "\n",
    "logreg.fit(X_train, y_train)  # Fitting the train data to 'logreg'"
   ]
  },
  {
   "cell_type": "code",
   "execution_count": 37,
   "id": "c3633cab",
   "metadata": {},
   "outputs": [],
   "source": [
    "# Predicted class for the test subset through logistic regression \n",
    "\n",
    "y_train_pred_prob = logreg.predict_proba(X_train)  # Calculating probabilities of the two classes in train subset\n",
    "y_test_pred_prob = logreg.predict_proba(X_test)    # Calculating probabilities of the two classes in test subset\n",
    "y_train_pred = y_train_pred_prob.argmax(axis=1)  # Finding the predicted class for train predictions\n",
    "y_test_pred = y_test_pred_prob.argmax(axis=1)  # Finding the predicted class for test predictions"
   ]
  },
  {
   "cell_type": "code",
   "execution_count": 38,
   "id": "2507935d",
   "metadata": {},
   "outputs": [
    {
     "name": "stdout",
     "output_type": "stream",
     "text": [
      "Train accuracy score of the model is  0.93776 \n",
      "\n",
      "Test accuracy score of the model is  0.94022\n"
     ]
    }
   ],
   "source": [
    "# Calculating the train and test accuracy scores of the model\n",
    "\n",
    "from sklearn import metrics    # Importing 'metrics' from sklearn\n",
    "\n",
    "train_score = metrics.accuracy_score(y_train, y_train_pred) # train accuracy\n",
    "\n",
    "test_score = metrics.accuracy_score(y_test, y_test_pred)    # test accuracy\n",
    "\n",
    "print('Train accuracy score of the model is ', round(train_score, 5),'\\n')\n",
    "print('Test accuracy score of the model is ', round(test_score, 5))"
   ]
  },
  {
   "cell_type": "code",
   "execution_count": 39,
   "id": "e4496179",
   "metadata": {},
   "outputs": [
    {
     "data": {
      "image/png": "[encoded data removed]",
      "text/plain": [
       "<Figure size 288x288 with 2 Axes>"
      ]
     },
     "metadata": {
      "needs_background": "light"
     },
     "output_type": "display_data"
    },
    {
     "name": "stdout",
     "output_type": "stream",
     "text": [
      "Classification Report for the Train Subset: \n",
      "\n",
      "               precision    recall  f1-score   support\n",
      "\n",
      "           0       0.94      0.99      0.97      1436\n",
      "           1       0.90      0.59      0.72       219\n",
      "\n",
      "    accuracy                           0.94      1655\n",
      "   macro avg       0.92      0.79      0.84      1655\n",
      "weighted avg       0.94      0.94      0.93      1655\n",
      "\n"
     ]
    }
   ],
   "source": [
    "# Computing the confusion matrix for the train subset\n",
    "\n",
    "from sklearn.metrics import confusion_matrix, classification_report\n",
    "import seaborn as sns\n",
    "train_c_matrix = confusion_matrix(y_train, y_train_pred)  # Compute the train confusion matrix\n",
    "\n",
    "plt.figure(figsize=(4,4))\n",
    "sns.heatmap(train_c_matrix, annot=True, fmt=\".1f\", linewidths=.5, square = True, cmap = 'Pastel1');\n",
    "plt.ylabel('Actual label');\n",
    "plt.xlabel('Predicted label');\n",
    "all_sample_title = 'Train Accuracy: {0}'.format(round(train_score, 4))\n",
    "plt.title(all_sample_title, size = 15);\n",
    "plt.show()\n",
    "\n",
    "# Print the train classification report\n",
    "\n",
    "print('Classification Report for the Train Subset: \\n\\n', classification_report(y_train, y_train_pred))"
   ]
  },
  {
   "cell_type": "code",
   "execution_count": 40,
   "id": "472eb3a1",
   "metadata": {},
   "outputs": [
    {
     "data": {
      "image/png": "[encoded data removed]",
      "text/plain": [
       "<Figure size 288x288 with 2 Axes>"
      ]
     },
     "metadata": {
      "needs_background": "light"
     },
     "output_type": "display_data"
    },
    {
     "name": "stdout",
     "output_type": "stream",
     "text": [
      "Classification Report for the Test Subset: \n",
      "\n",
      "               precision    recall  f1-score   support\n",
      "\n",
      "           0       0.95      0.99      0.97       494\n",
      "           1       0.82      0.55      0.66        58\n",
      "\n",
      "    accuracy                           0.94       552\n",
      "   macro avg       0.88      0.77      0.81       552\n",
      "weighted avg       0.94      0.94      0.93       552\n",
      "\n"
     ]
    }
   ],
   "source": [
    "# Computing the confusion matrix for the test subset\n",
    "\n",
    "test_c_matrix = confusion_matrix(y_test, y_test_pred)  # Compute the test confusion matrix\n",
    "\n",
    "plt.figure(figsize=(4,4))\n",
    "sns.heatmap(test_c_matrix, annot=True, fmt=\".1f\", linewidths=.5, square = True, cmap = 'Pastel1');\n",
    "plt.ylabel('Actual label');\n",
    "plt.xlabel('Predicted label');\n",
    "all_sample_title = 'Test Accuracy: {0}'.format(round(test_score, 4))\n",
    "plt.title(all_sample_title, size = 15);\n",
    "plt.show()\n",
    "\n",
    "# Print the train classification report\n",
    "\n",
    "print('Classification Report for the Test Subset: \\n\\n', classification_report(y_test, y_test_pred))"
   ]
  },
  {
   "cell_type": "code",
   "execution_count": 41,
   "id": "bc230f87",
   "metadata": {},
   "outputs": [
    {
     "data": {
      "image/png": "[encoded data removed]",
      "text/plain": [
       "<Figure size 576x432 with 1 Axes>"
      ]
     },
     "metadata": {
      "needs_background": "light"
     },
     "output_type": "display_data"
    }
   ],
   "source": [
    "# Plotting the ROC curve for the test subset\n",
    "\n",
    "from sklearn.metrics import roc_curve, auc   # Importing 'roc_curve' and 'auc' from sklearn\n",
    "\n",
    "fpr, tpr, thresholds = roc_curve(y_test_pred, y_test)  # Computing ROC for the test subset\n",
    "auc(fpr, tpr)                                          # Computing AUC for the test subset \n",
    "\n",
    "plt.figure(figsize=(8, 6))\n",
    "plt.plot(fpr, tpr, color='red', label='Logistic Regression (AUC: %.2f)'\n",
    "% auc(fpr, tpr))\n",
    "plt.plot([0, 1], [0, 1], color='blue', linestyle='--')\n",
    "plt.xlim([0.0, 1.0])\n",
    "plt.ylim([0.0, 1.01])\n",
    "plt.title('ROC Curve for the Test Subset')\n",
    "plt.xlabel('False Positive Rate (FPR)')\n",
    "plt.ylabel('True Positive Rate (TPR)')\n",
    "plt.legend()\n",
    "plt.show()"
   ]
  },
  {
   "cell_type": "code",
   "execution_count": 42,
   "id": "bca96603",
   "metadata": {},
   "outputs": [
    {
     "data": {
      "image/png": "[encoded data removed]",
      "text/plain": [
       "<Figure size 720x720 with 1 Axes>"
      ]
     },
     "metadata": {
      "needs_background": "light"
     },
     "output_type": "display_data"
    }
   ],
   "source": [
    "# Plotting the decision regions\n",
    "import mlxtend\n",
    "from mlxtend.plotting import plot_decision_regions\n",
    "\n",
    "mlxtend.plotting.plot_decision_regions(X=X_test, y=y_test, clf=logreg) # Plotting the decision region\n",
    "\n",
    "plt.title('Regions for Feature Variables')\n",
    "plt.xlabel('% On-TimeGateArrivals')\n",
    "plt.ylabel('AverageBlockDelay') \n",
    "plt.legend(loc='upper right')\n",
    "plt.tight_layout()\n",
    "plt.gcf().set_size_inches(10, 10)\n",
    "plt.show()\n",
    "\n",
    "## 0: \n",
    "## 1: "
   ]
  },
  {
   "cell_type": "markdown",
   "id": "fe4eaea7",
   "metadata": {},
   "source": [
    "Here after training using logistic regression we can observe that the model shows 94 precent of accuracy and recall value is also 97 percent, but it shows 88 percent of area under curve (i.e AUC). As this is a unbalanced data set it is good to consider area under curve as appropriate metric for model evaluation. Here AUC is 88 precent. The model shows some false positive rate.This the reason why recall value is low. "
   ]
  },
  {
   "cell_type": "markdown",
   "id": "2ba12ac6",
   "metadata": {},
   "source": [
    "--------------------------------------------------(d)----------------------------------------------------------------------"
   ]
  },
  {
   "cell_type": "markdown",
   "id": "50eb0df6",
   "metadata": {},
   "source": [
    "(d) Construct a support vector classifier to perform the classification task. Now use a cou\u0002ple of different kernels to construct support vector machines for the classification task at\n",
    "hand. In each case, calculate the accuracy metrics and present your assessment of each\n",
    "classifier. Define a range for the relevant hyperparameters and employ GridSearchCV to\n",
    "find the optimal choice of hyperparameters in the specified range. Rerun the classifiers\n",
    "with the optimal choices of hyperparameters and compare the performance of your clas\u0002sifier with the case where hyperparameters were not tuned. Plot the decision regions in\n",
    "the feature space.\n"
   ]
  },
  {
   "cell_type": "code",
   "execution_count": 43,
   "id": "c40c22a6",
   "metadata": {},
   "outputs": [],
   "source": [
    "from sklearn import metrics\n",
    "from sklearn.metrics import confusion_matrix, classification_report\n",
    "from sklearn import svm\n",
    "def svm_clf(X_tr, X_ts, y_tr, y_ts, ker, C, gamma='auto', r=0, deg=1):\n",
    "    clf = svm.SVC(kernel=ker, gamma=gamma, C=C, coef0=r, degree=deg)\n",
    "    clf.fit(X_tr, y_tr)              # Fit the train data\n",
    "    y_tr_pred = clf.predict(X_tr)    # Predict the target for train data\n",
    "    y_ts_pred = clf.predict(X_ts)    # Predict the target for test data\n",
    "    tr_score = metrics.accuracy_score(y_tr, y_tr_pred)  # Compute train accuracy\n",
    "    ts_score = metrics.accuracy_score(y_ts, y_ts_pred)  # Compute test accuracy\n",
    "    tr_report = classification_report(y_tr, y_tr_pred)  # Generate classification report for train data\n",
    "    ts_report = classification_report(y_ts, y_ts_pred)  # Generate classification report for test data\n",
    "    print('Train Classification Report: \\n\\n', tr_report,'\\n\\n')\n",
    "    print('Test Classification Report: \\n\\n', ts_report)\n",
    "    return "
   ]
  },
  {
   "cell_type": "code",
   "execution_count": 44,
   "id": "80f97d55",
   "metadata": {},
   "outputs": [
    {
     "name": "stdout",
     "output_type": "stream",
     "text": [
      "Train Classification Report: \n",
      "\n",
      "               precision    recall  f1-score   support\n",
      "\n",
      "           0       0.93      0.99      0.96      1436\n",
      "           1       0.89      0.53      0.66       219\n",
      "\n",
      "    accuracy                           0.93      1655\n",
      "   macro avg       0.91      0.76      0.81      1655\n",
      "weighted avg       0.93      0.93      0.92      1655\n",
      " \n",
      "\n",
      "\n",
      "Test Classification Report: \n",
      "\n",
      "               precision    recall  f1-score   support\n",
      "\n",
      "           0       0.95      0.98      0.96       494\n",
      "           1       0.79      0.52      0.62        58\n",
      "\n",
      "    accuracy                           0.93       552\n",
      "   macro avg       0.87      0.75      0.79       552\n",
      "weighted avg       0.93      0.93      0.93       552\n",
      "\n"
     ]
    }
   ],
   "source": [
    "# Apply linear SVM with very low budget for margin violation\n",
    "\n",
    "svm_clf(X_train, X_test, y_train, y_test, ker='linear', C=0.01)"
   ]
  },
  {
   "cell_type": "code",
   "execution_count": 45,
   "id": "711fb3c8",
   "metadata": {},
   "outputs": [
    {
     "name": "stdout",
     "output_type": "stream",
     "text": [
      "Train Classification Report: \n",
      "\n",
      "               precision    recall  f1-score   support\n",
      "\n",
      "           0       0.96      0.99      0.97      1436\n",
      "           1       0.90      0.73      0.81       219\n",
      "\n",
      "    accuracy                           0.95      1655\n",
      "   macro avg       0.93      0.86      0.89      1655\n",
      "weighted avg       0.95      0.95      0.95      1655\n",
      " \n",
      "\n",
      "\n",
      "Test Classification Report: \n",
      "\n",
      "               precision    recall  f1-score   support\n",
      "\n",
      "           0       0.96      0.99      0.97       494\n",
      "           1       0.85      0.67      0.75        58\n",
      "\n",
      "    accuracy                           0.95       552\n",
      "   macro avg       0.91      0.83      0.86       552\n",
      "weighted avg       0.95      0.95      0.95       552\n",
      "\n"
     ]
    }
   ],
   "source": [
    "# Apply polynomial SVM (deg=2, r=1) with very low budget for margin violation\n",
    "\n",
    "svm_clf(X_train, X_test, y_train, y_test, ker='poly', C=0.01, r=1, deg=2)"
   ]
  },
  {
   "cell_type": "markdown",
   "id": "0795a5c5",
   "metadata": {},
   "source": [
    "After using the linear and poly kernals, we can observe that the poly kernal shows better performance for the given data set as curve is possible in polynomial function.Linear kernal shows an accuracy if 93 percent for both train and test, but the poly kernal shows 95 percent. The precision of target value 1 in linear kernal is 79 percent, but for poly kernal it is about 85 percent."
   ]
  },
  {
   "cell_type": "code",
   "execution_count": 46,
   "id": "f28f12fd",
   "metadata": {},
   "outputs": [
    {
     "name": "stdout",
     "output_type": "stream",
     "text": [
      "Fitting 5 folds for each of 20 candidates, totalling 100 fits\n",
      "\n",
      " Best choices for hyperparameters:\n",
      " {'C': 100, 'gamma': 'scale', 'kernel': 'rbf'}\n",
      "\n",
      " Test Classification Report:\n",
      "\n",
      "               precision    recall  f1-score   support\n",
      "\n",
      "           0       0.95      0.99      0.97       494\n",
      "           1       0.83      0.59      0.69        58\n",
      "\n",
      "    accuracy                           0.94       552\n",
      "   macro avg       0.89      0.79      0.83       552\n",
      "weighted avg       0.94      0.94      0.94       552\n",
      "\n"
     ]
    }
   ],
   "source": [
    "# Importing 'GridSearchCV' from 'sklearn'\n",
    "\n",
    "from sklearn.model_selection import GridSearchCV\n",
    "\n",
    "# Specifying the hyperparameters 'C', 'gamma', and 'kernel'\n",
    "\n",
    "param_grid = {'C': [0.01, 0.1, 1, 10, 100],   \n",
    "              'gamma': [1, 0.1, 0.01, 0.001, 0.0001], \n",
    "              'gamma':['scale', 'auto'],\n",
    "              'kernel': ['linear', 'rbf']}\n",
    "\n",
    "# Instantiating 'GridSearchCV'\n",
    "grid = GridSearchCV(svm.SVC(), param_grid, refit = True, verbose = 3, n_jobs=-1) \n",
    "\n",
    "# Fitting the data\n",
    "grid.fit(X_train, y_train)\n",
    "\n",
    "print('\\n Best choices for hyperparameters:\\n', grid.best_params_) # Presenting best choice\n",
    "\n",
    "grid_predictions = grid.predict(X_test)  # Compute the predictions of SVM with best choice of hyperparameters\n",
    "\n",
    "print('\\n Test Classification Report:\\n\\n', classification_report(y_test, grid_predictions)) "
   ]
  },
  {
   "cell_type": "code",
   "execution_count": 49,
   "id": "af9c3b85",
   "metadata": {},
   "outputs": [
    {
     "name": "stdout",
     "output_type": "stream",
     "text": [
      "Fitting 5 folds for each of 120 candidates, totalling 600 fits\n",
      "\n",
      " Best choices for hyperparameters:\n",
      " {'C': 100, 'coef0': 0, 'degree': 2, 'gamma': 'scale', 'kernel': 'rbf'}\n",
      "\n",
      " Test Classification Report:\n",
      "\n",
      "               precision    recall  f1-score   support\n",
      "\n",
      "           0       0.95      0.99      0.97       494\n",
      "           1       0.83      0.59      0.69        58\n",
      "\n",
      "    accuracy                           0.94       552\n",
      "   macro avg       0.89      0.79      0.83       552\n",
      "weighted avg       0.94      0.94      0.94       552\n",
      "\n"
     ]
    }
   ],
   "source": [
    "# Importing 'GridSearchCV' from 'sklearn'\n",
    "\n",
    "from sklearn.model_selection import GridSearchCV\n",
    "\n",
    "# Specifying the hyperparameters 'C', 'gamma', and 'kernel'\n",
    "\n",
    "param_grid = {'C': [0.01, 0.1, 1, 10, 100],  \n",
    "              'gamma': [1, 0.1, 0.01, 0.001, 0.0001], \n",
    "              'gamma':['scale', 'auto'],\n",
    "              'kernel': ['linear', 'rbf'],\n",
    "              'degree': [2, 3],\n",
    "              'coef0': [0, 1, 2]}\n",
    "\n",
    "grid = GridSearchCV(svm.SVC(), param_grid, refit = True, verbose = 3, n_jobs=-1) \n",
    "\n",
    "grid.fit(X_train, y_train)\n",
    "\n",
    "print('\\n Best choices for hyperparameters:\\n', grid.best_params_) \n",
    "\n",
    "grid_predictions = grid.predict(X_test) \n",
    "\n",
    "print('\\n Test Classification Report:\\n\\n', classification_report(y_test, grid_predictions)) "
   ]
  },
  {
   "cell_type": "code",
   "execution_count": 50,
   "id": "9bf57354",
   "metadata": {},
   "outputs": [
    {
     "data": {
      "image/png": "[encoded data removed]",
      "text/plain": [
       "<Figure size 720x720 with 1 Axes>"
      ]
     },
     "metadata": {
      "needs_background": "light"
     },
     "output_type": "display_data"
    }
   ],
   "source": [
    "# Plotting the decision regions\n",
    "import mlxtend\n",
    "from mlxtend.plotting import plot_decision_regions\n",
    "\n",
    "mlxtend.plotting.plot_decision_regions(X=X_test, y=y_test, clf=grid) # Plotting the decision region\n",
    "\n",
    "plt.title('Regions for Feature Variables')\n",
    "plt.xlabel('% On-TimeGateArrivals')\n",
    "plt.ylabel('AverageBlockDelay') \n",
    "plt.legend(loc='upper right')\n",
    "plt.tight_layout()\n",
    "plt.gcf().set_size_inches(10, 10)\n",
    "plt.show()\n",
    "\n",
    "## 0: \n",
    "## 1: "
   ]
  },
  {
   "cell_type": "code",
   "execution_count": null,
   "id": "554e5fab",
   "metadata": {},
   "outputs": [],
   "source": [
    "y_tr_pred = grid.predict(X_train)    # Predict the target for train data\n",
    "y_ts_pred = grid.predict(X_test)    # Predict the target for test data\n",
    "tr_score = metrics.accuracy_score(y_train, y_tr_pred)  # Compute train accuracy\n",
    "ts_score = metrics.accuracy_score(y_test, y_ts_pred)  # Compute test accuracy\n",
    "tr_report = classification_report(y_train, y_tr_pred)  # Generate classification report for train data\n",
    "ts_report = classification_report(y_test, y_ts_pred)  # Generate classification report for test data\n",
    "print('Train Classification Report: \\n\\n', tr_report,'\\n\\n')\n",
    "print('Test Classification Report: \\n\\n', ts_report)"
   ]
  },
  {
   "cell_type": "markdown",
   "id": "e5eb010e",
   "metadata": {},
   "source": [
    "(e) Construct a Gaussian naive Bayes classifier for the classification task at hand. Calcu\u0002late the relevant accuracy metrics and plot the decision regions in the feature space.\n",
    "Investigate whether (and to what extent) the underlying assumptions of the naive Bayes\n",
    "algorithm are fulfilled. Explain the validity of the assumptions in this case, and explain\n",
    "whether you trust the results obtained from this classifier."
   ]
  },
  {
   "cell_type": "code",
   "execution_count": null,
   "id": "84976910",
   "metadata": {},
   "outputs": [],
   "source": [
    "import numpy as np\n",
    "import pandas as pd\n",
    "import matplotlib.pyplot as plt\n",
    "%matplotlib inline\n",
    "# Loading the dataset\n",
    "\n",
    "gad_df = pd.read_csv('GateArrivalDelay-Classification.csv')     # Reading the csv source file as a dataframe\n",
    "gad_df = gad_df.drop('Unnamed: 0', axis=1)       # Removing the un named column\n",
    "gad_df.head()\n",
    "X=gad_df[[ '% On-TimeGateArrivals', 'AverageBlockDelay']].values\n",
    "y=gad_df[['Delay_Class']]\n",
    "y=np.ravel(y)\n",
    "         \n",
    "# Breaking the data into train and test subsets\n",
    "\n",
    "from sklearn.model_selection import train_test_split\n",
    "\n",
    "X_train, X_test, y_train, y_test = train_test_split(X, y, test_size=0.25, random_state=3)"
   ]
  },
  {
   "cell_type": "code",
   "execution_count": null,
   "id": "6d23314f",
   "metadata": {},
   "outputs": [],
   "source": [
    "# Importing 'GaussianNB' from naive_bayes module\n",
    "\n",
    "from sklearn.naive_bayes import GaussianNB\n",
    "\n",
    "gnb_clf = GaussianNB()              # Instantiating the gaussian naive Bayes classifier\n",
    "gnb_clf.fit(X_train, y_train)       # Fitting the training data"
   ]
  },
  {
   "cell_type": "code",
   "execution_count": null,
   "id": "53e54a10",
   "metadata": {},
   "outputs": [],
   "source": [
    "# Finding the predictions of the model for the train and test subsets\n",
    "\n",
    "train_y_pred = gnb_clf.predict(X_train)\n",
    "test_y_pred = gnb_clf.predict(X_test)"
   ]
  },
  {
   "cell_type": "code",
   "execution_count": null,
   "id": "648d8f18",
   "metadata": {},
   "outputs": [],
   "source": [
    "# Computing various classification evaluation metrics and presenting the classification report\n",
    "\n",
    "from sklearn import metrics\n",
    "from sklearn.metrics import confusion_matrix, classification_report\n",
    "\n",
    "train_score = metrics.accuracy_score(y_train, train_y_pred)   # Compute train accuracy\n",
    "test_score = metrics.accuracy_score(y_test, test_y_pred)      # Compute test accuracy\n",
    "train_report = classification_report(y_train, train_y_pred)   # Generate classification report for train data\n",
    "test_report = classification_report(y_test, test_y_pred)      # Generate classification report for test data\n",
    "\n",
    "print('Gaussian NB Train Classification Report: \\n\\n', train_report,'\\n\\n')\n",
    "print('Gaussian NB Test Classification Report: \\n\\n', test_report)"
   ]
  },
  {
   "cell_type": "code",
   "execution_count": null,
   "id": "62af029b",
   "metadata": {},
   "outputs": [],
   "source": [
    "# Computing the confusion matrix\n",
    "\n",
    "gnb_c_matrix = confusion_matrix(y_test, test_y_pred)\n",
    "import seaborn as sns\n",
    "plt.figure(figsize=(4,4))\n",
    "sns.heatmap(gnb_c_matrix, annot=True, fmt=\".0f\", linewidths=.5, square = True, cmap = 'Pastel1');\n",
    "plt.ylabel('Actual label');\n",
    "plt.xlabel('Predicted label');\n",
    "all_sample_title = 'Accuracy Score: {0}'.format(round(test_score, 4))\n",
    "plt.title(all_sample_title, size = 15);\n",
    "plt.show()"
   ]
  },
  {
   "cell_type": "code",
   "execution_count": null,
   "id": "7d0e5d56",
   "metadata": {},
   "outputs": [],
   "source": [
    "# Plotting the ROC curve for the test subset\n",
    "\n",
    "from sklearn.metrics import roc_curve, auc   # Importing 'roc_curve' and 'auc' from sklearn\n",
    "\n",
    "fpr, tpr, thresholds = roc_curve(test_y_pred, y_test)  # Computing ROC for the test subset\n",
    "auc(fpr, tpr)                                          # Computing AUC for the test subset \n",
    "\n",
    "plt.figure(figsize=(7, 5))\n",
    "plt.plot(fpr, tpr, color='red', label='Gaussian Naive Bayes (AUC: %.2f)'\n",
    "% auc(fpr, tpr))\n",
    "plt.plot([0, 1], [0, 1], color='blue', linestyle='--')\n",
    "plt.xlim([0.0, 1.0])\n",
    "plt.ylim([0.0, 1.01])\n",
    "plt.title('ROC Curve for the Test Subset')\n",
    "plt.xlabel('False Positive Rate (FPR)')\n",
    "plt.ylabel('True Positive Rate (TPR)')\n",
    "plt.legend()\n",
    "plt.show()"
   ]
  },
  {
   "cell_type": "code",
   "execution_count": null,
   "id": "f998a4d1",
   "metadata": {},
   "outputs": [],
   "source": [
    "import numpy as np\n",
    "import pandas as pd\n",
    "import matplotlib.pyplot as plt\n",
    "%matplotlib inline\n",
    "\n",
    "# Loading the dataset\n",
    "gad_df = pd.read_csv('GateArrivalDelay-Classification.csv')     # Reading the csv source file as a dataframe\n",
    "gad_df = gad_df.drop('Unnamed: 0', axis=1)       # Removing the unnamed column\n",
    "\n",
    "# Checking the distribution of each feature in each class (+1 and -1 classes)\n",
    "classes = gad_df['Delay_Class'].unique()   # Get unique class labels\n",
    "features = ['% On-TimeGateArrivals', 'AverageBlockDelay']   # List of features to plot histograms for\n",
    "\n",
    "fig, axs = plt.subplots(len(classes), len(features), figsize=(16, 7), tight_layout=True)\n",
    "\n",
    "for i, c in enumerate(classes):\n",
    "    for j, feature in enumerate(features):\n",
    "        x_arr = gad_df[gad_df['Delay_Class'] == c][feature].values\n",
    "        axs[i, j].hist(x_arr, bins=40)\n",
    "        axs[i, j].set_title(f'{feature} Distribution for Class {c}')\n",
    "        \n",
    "plt.show()"
   ]
  },
  {
   "cell_type": "code",
   "execution_count": null,
   "id": "9d38f2aa",
   "metadata": {},
   "outputs": [],
   "source": [
    "import pandas as pd\n",
    "from scipy.stats import pearsonr\n",
    "\n",
    "\n",
    "\n",
    "# Extract the two features for which you want to check correlation\n",
    "feature1 = gad_df['% On-TimeGateArrivals']\n",
    "feature2 = gad_df['AverageBlockDelay']\n",
    "\n",
    "# Check Pearson's correlation coefficient\n",
    "correlation, p_value = pearsonr(feature1, feature2)\n",
    "print('Pearson\\'s correlation coefficient:', correlation)\n",
    "print('P-value:', p_value)\n",
    "print('No significant correlation')\n"
   ]
  },
  {
   "cell_type": "markdown",
   "id": "747fe8ed",
   "metadata": {},
   "source": [
    "Here we can see the pearson's correlation coefficient is -0.3 which is very small hence the features are independent of eachother.Also by oberving the histograms we can see the features are normally distributed. Hence we can assume that the results we got by apply the gaussian naive bias are true."
   ]
  },
  {
   "cell_type": "code",
   "execution_count": null,
   "id": "feb3f6a0",
   "metadata": {},
   "outputs": [],
   "source": [
    "# Plotting the decision regions\n",
    "import mlxtend\n",
    "from mlxtend.plotting import plot_decision_regions\n",
    "\n",
    "mlxtend.plotting.plot_decision_regions(X=X_test, y=y_test, clf=gnb_clf) # Plotting the decision region\n",
    "\n",
    "plt.title('Regions for Feature Variables')\n",
    "plt.xlabel('% On-TimeGateArrivals')\n",
    "plt.ylabel('AverageBlockDelay') \n",
    "plt.legend(loc='upper right')\n",
    "plt.tight_layout()\n",
    "plt.gcf().set_size_inches(10, 10)\n",
    "plt.show()\n",
    "\n",
    "## 0: \n",
    "## 1: "
   ]
  },
  {
   "cell_type": "markdown",
   "id": "c4631ce3",
   "metadata": {},
   "source": [
    "-----------------------------------------------(f)------------------------------------------------------"
   ]
  },
  {
   "cell_type": "markdown",
   "id": "d02ae117",
   "metadata": {},
   "source": [
    "(f) Construct an LDA classifier and carefully assess its performance. Plot the decision\n",
    "regions in the feature space."
   ]
  },
  {
   "cell_type": "code",
   "execution_count": null,
   "id": "0e2e46aa",
   "metadata": {},
   "outputs": [],
   "source": [
    "# Loading 'LinearDiscriminantAnalysis' from 'discriminant_analysis' module\n",
    "\n",
    "from sklearn.discriminant_analysis import LinearDiscriminantAnalysis\n",
    "\n",
    "lda_clf = LinearDiscriminantAnalysis()     # Instantiating the lda classifier\n",
    "lda_clf.fit(X_train, y_train)              # Fitting the train data"
   ]
  },
  {
   "cell_type": "code",
   "execution_count": null,
   "id": "2a1145bb",
   "metadata": {},
   "outputs": [],
   "source": [
    "# Finding the predictions of the lda classifier for train and test subsets \n",
    "\n",
    "train_y_pred = lda_clf.predict(X_train)\n",
    "test_y_pred = lda_clf.predict(X_test)"
   ]
  },
  {
   "cell_type": "code",
   "execution_count": null,
   "id": "f4bcb4d4",
   "metadata": {},
   "outputs": [],
   "source": [
    "from sklearn import metrics\n",
    "from sklearn.metrics import confusion_matrix, classification_report\n",
    "\n",
    "train_score = metrics.accuracy_score(y_train, train_y_pred)   # Compute train accuracy\n",
    "test_score = metrics.accuracy_score(y_test, test_y_pred)      # Compute test accuracy\n",
    "train_report = classification_report(y_train, train_y_pred)   # Generate classification report for train data\n",
    "test_report = classification_report(y_test, test_y_pred)      # Generate classification report for test data\n",
    "\n",
    "print('LDA Train Classification Report: \\n\\n', train_report,'\\n\\n')\n",
    "print('LDA Test Classification Report: \\n\\n', test_report)"
   ]
  },
  {
   "cell_type": "markdown",
   "id": "ab1f496b",
   "metadata": {},
   "source": [
    "we can observe that, by applying lda the accuracy of test dataset is 90 percent and the accuracy of train dataset is 89 percent. This shows a slight better performance than the previous gaussian naive bias classifier. The varience is reduced on camparing with gaussian naive bias classifier."
   ]
  },
  {
   "cell_type": "code",
   "execution_count": null,
   "id": "64d4819a",
   "metadata": {},
   "outputs": [],
   "source": [
    "# Computing lda confusion matrix\n",
    "\n",
    "lda_c_matrix = confusion_matrix(y_test, test_y_pred)\n",
    "\n",
    "plt.figure(figsize=(4,4))\n",
    "sns.heatmap(lda_c_matrix, annot=True, fmt=\".0f\", linewidths=.5, square = True, cmap = 'Pastel1');\n",
    "plt.ylabel('Actual label');\n",
    "plt.xlabel('Predicted label');\n",
    "all_sample_title = 'Accuracy Score: {0}'.format(round(test_score, 4))\n",
    "plt.title(all_sample_title, size = 15);\n",
    "plt.show()"
   ]
  },
  {
   "cell_type": "code",
   "execution_count": null,
   "id": "28946b3c",
   "metadata": {},
   "outputs": [],
   "source": [
    "# Plotting the ROC curve for the test subset\n",
    "\n",
    "from sklearn.metrics import roc_curve, auc   # Importing 'roc_curve' and 'auc' from sklearn\n",
    "\n",
    "fpr, tpr, thresholds = roc_curve(test_y_pred, y_test)  # Computing ROC for the test subset\n",
    "auc(fpr, tpr)                                          # Computing AUC for the test subset \n",
    "\n",
    "plt.figure(figsize=(7, 5))\n",
    "plt.plot(fpr, tpr, color='red', label='LDA (AUC: %.2f)'\n",
    "% auc(fpr, tpr))\n",
    "plt.plot([0, 1], [0, 1], color='blue', linestyle='--')\n",
    "plt.xlim([0.0, 1.0])\n",
    "plt.ylim([0.0, 1.01])\n",
    "plt.title('ROC Curve for the Test Subset')\n",
    "plt.xlabel('False Positive Rate (FPR)')\n",
    "plt.ylabel('True Positive Rate (TPR)')\n",
    "plt.legend()\n",
    "plt.show()"
   ]
  },
  {
   "cell_type": "code",
   "execution_count": null,
   "id": "2e8a7ebb",
   "metadata": {},
   "outputs": [],
   "source": [
    "# Plotting the decision regions\n",
    "import mlxtend\n",
    "from mlxtend.plotting import plot_decision_regions\n",
    "\n",
    "mlxtend.plotting.plot_decision_regions(X=X_test, y=y_test, clf=lda_clf) # Plotting the decision region\n",
    "\n",
    "plt.title('Regions for Feature Variables')\n",
    "plt.xlabel('% On-TimeGateArrivals')\n",
    "plt.ylabel('AverageBlockDelay') \n",
    "plt.legend(loc='upper right')\n",
    "plt.tight_layout()\n",
    "plt.gcf().set_size_inches(10, 10)\n",
    "plt.show()\n",
    "\n",
    "## 0: \n",
    "## 1: "
   ]
  },
  {
   "cell_type": "markdown",
   "id": "110de62a",
   "metadata": {},
   "source": [
    "(g) Construct a decision tree classifier for the classification task at hand. Initially do NOT tune any of the hyperparameters of the tree. Does your tree suffer from overfitting? Use GridSearchCV and tune some of the hyperparameters of your tree to cure the high variance. Calculate the relevant accuracy metrics after tuning the hyperparameters of your tree. How successful were you in curing the high variance?"
   ]
  },
  {
   "cell_type": "code",
   "execution_count": null,
   "id": "1aa4dbec",
   "metadata": {},
   "outputs": [],
   "source": [
    "from sklearn import tree                # Importing 'tree' module from sklearn\n",
    "\n",
    "# Constructing tree classifier with no specified hyperparameters\n",
    "\n",
    "dt_clf = tree.DecisionTreeClassifier()\n",
    "dt_clf.fit(X_train, y_train)"
   ]
  },
  {
   "cell_type": "code",
   "execution_count": null,
   "id": "f891f488",
   "metadata": {},
   "outputs": [],
   "source": [
    "# Finding the predictions of tree classifier for train and test subsets\n",
    "\n",
    "train_y_pred = dt_clf.predict(X_train)\n",
    "test_y_pred = dt_clf.predict(X_test)"
   ]
  },
  {
   "cell_type": "code",
   "execution_count": null,
   "id": "9ed66a8f",
   "metadata": {},
   "outputs": [],
   "source": [
    "# Computing various classification evaluation metrics and presenting the classification report\n",
    "\n",
    "from sklearn import metrics\n",
    "from sklearn.metrics import confusion_matrix, classification_report\n",
    "\n",
    "train_score = metrics.accuracy_score(y_train, train_y_pred)   # Compute train accuracy\n",
    "test_score = metrics.accuracy_score(y_test, test_y_pred)      # Compute test accuracy\n",
    "train_report = classification_report(y_train, train_y_pred)   # Generate classification report for train data\n",
    "test_report = classification_report(y_test, test_y_pred)      # Generate classification report for test data\n",
    "\n",
    "print('Decision Tree Train Classification Report: \\n\\n', train_report,'\\n\\n')\n",
    "print('Decision Tree Test Classification Report: \\n\\n', test_report)"
   ]
  },
  {
   "cell_type": "markdown",
   "id": "862e55e7",
   "metadata": {},
   "source": [
    "Here by oberving the accuracy of train and test report we can see that the tree is suffering from high varience ."
   ]
  },
  {
   "cell_type": "code",
   "execution_count": null,
   "id": "f32954c3",
   "metadata": {},
   "outputs": [],
   "source": [
    "# Using GridSearchCV to figure out the best values of the tree hyperparameters\n",
    "\n",
    "from sklearn.model_selection import GridSearchCV\n",
    "\n",
    "params = {'max_leaf_nodes': list(range(2, 100)), 'min_samples_split': [2, 3, 4]}\n",
    "\n",
    "grid_search_cv = GridSearchCV(tree.DecisionTreeClassifier(random_state=3), params, verbose=1, cv=3)\n",
    "grid_search_cv.fit(X_train, y_train)"
   ]
  },
  {
   "cell_type": "code",
   "execution_count": null,
   "id": "d00a0823",
   "metadata": {},
   "outputs": [],
   "source": [
    "# Displaying the best hyperparameters from 'params'\n",
    "\n",
    "grid_search_cv.best_estimator_"
   ]
  },
  {
   "cell_type": "code",
   "execution_count": null,
   "id": "3ce5d413",
   "metadata": {},
   "outputs": [],
   "source": [
    "# Retraining the tree classifier (this time with best hyperparameters found above)\n",
    "\n",
    "tr_clf = tree.DecisionTreeClassifier(max_leaf_nodes=6,random_state=3)\n",
    "tr_clf.fit(X_train, y_train)"
   ]
  },
  {
   "cell_type": "code",
   "execution_count": null,
   "id": "a7675f33",
   "metadata": {},
   "outputs": [],
   "source": [
    "# Finding the predictions of tree classifier for train and test subsets\n",
    "\n",
    "train_y_pred = tr_clf.predict(X_train)\n",
    "test_y_pred = tr_clf.predict(X_test)"
   ]
  },
  {
   "cell_type": "code",
   "execution_count": null,
   "id": "f7cf7185",
   "metadata": {},
   "outputs": [],
   "source": [
    "train_score = metrics.accuracy_score(y_train, train_y_pred)   # Compute train accuracy\n",
    "test_score = metrics.accuracy_score(y_test, test_y_pred)      # Compute test accuracy\n",
    "train_report = classification_report(y_train, train_y_pred)   # Generate classification report for train data\n",
    "test_report = classification_report(y_test, test_y_pred)      # Generate classification report for test data\n",
    "\n",
    "print('Decision Tree Train Classification Report: \\n\\n', train_report,'\\n\\n')\n",
    "print('Decision Tree Test Classification Report: \\n\\n', test_report)"
   ]
  },
  {
   "cell_type": "markdown",
   "id": "d18c123b",
   "metadata": {},
   "source": [
    "Here after using the grid search to get the best hyperparameters we can see the model has no varience, as the accuracy of the train and test is about 95 percent.\n",
    "\n",
    "We decrease the varience on the cost of bias as accuracy of the model reduced from 99 percent to 96 percent, there by acheiving the bias-varience trade mark."
   ]
  },
  {
   "cell_type": "markdown",
   "id": "f37c51c6",
   "metadata": {},
   "source": [
    "(h) In this part, you will apply some of the ensemble learning methods discussed in class.\n",
    "Proceed as follows:"
   ]
  },
  {
   "cell_type": "markdown",
   "id": "54f514b9",
   "metadata": {},
   "source": [
    "i. Construct a random forest classifier (with the same two features), and try to tune\n",
    "the hyperparameters of the forest so that you’ll find a more accurate model than\n",
    "the tree classifier constructed in part (g)"
   ]
  },
  {
   "cell_type": "code",
   "execution_count": null,
   "id": "e989e108",
   "metadata": {},
   "outputs": [],
   "source": [
    "import numpy as np\n",
    "import pandas as pd\n",
    "import matplotlib.pyplot as plt\n",
    "%matplotlib inline\n",
    "# Loading the dataset\n",
    "\n",
    "gad_df = pd.read_csv('GateArrivalDelay-Classification.csv')     # Reading the csv source file as a dataframe\n",
    "gad_df = gad_df.drop('Unnamed: 0', axis=1)       # Removing the un named column\n",
    "gad_df.head()\n",
    "X=gad_df[[ '% On-TimeGateArrivals', 'AverageBlockDelay']].values\n",
    "y=gad_df[['Delay_Class']]\n",
    "y=np.ravel(y)\n",
    "         \n",
    "# Breaking the data into train and test subsets\n",
    "\n",
    "from sklearn.model_selection import train_test_split\n",
    "\n",
    "X_train, X_test, y_train, y_test = train_test_split(X, y, test_size=0.25, random_state=3)"
   ]
  },
  {
   "cell_type": "code",
   "execution_count": null,
   "id": "bb096005",
   "metadata": {},
   "outputs": [],
   "source": [
    "from sklearn.ensemble import RandomForestClassifier\n",
    "from sklearn.model_selection import GridSearchCV\n",
    "\n",
    "# Define the hyperparameter search space\n",
    "params = {\n",
    "    'n_estimators': [10, 50, 100],  # Number of trees in the forest\n",
    "    'max_depth': [None, 10, 20],  # Maximum depth of the trees\n",
    "    'min_samples_split': [2, 3, 4],  # Minimum number of samples required to split an internal node\n",
    "    'min_samples_leaf': [1, 2, 4],  # Minimum number of samples required to be at a leaf node\n",
    "}\n",
    "\n",
    "# Create a Random Forest Classifier\n",
    "rf_clf = RandomForestClassifier(random_state=3)\n",
    "\n",
    "# Perform grid search cross-validation to get the best suitable hyperparameters\n",
    "grid_search_cv = GridSearchCV(rf_clf, params, verbose=1, cv=3)\n",
    "grid_search_cv.fit(X_train, y_train)\n"
   ]
  },
  {
   "cell_type": "code",
   "execution_count": null,
   "id": "77d13a0c",
   "metadata": {},
   "outputs": [],
   "source": [
    "# Displaying the best hyperparameters from 'params'\n",
    "\n",
    "grid_search_cv.best_estimator_\n",
    "# Retraining the tree classifier (this time with best hyperparameters found above)\n",
    "\n",
    "rf_clf = RandomForestClassifier(min_samples_leaf=4,random_state=3)\n",
    "rf_clf.fit(X_train, y_train)\n",
    "# Finding the predictions of tree classifier for train and test subsets\n",
    "\n",
    "train_y_pred = rf_clf.predict(X_train)\n",
    "test_y_pred = rf_clf.predict(X_test)"
   ]
  },
  {
   "cell_type": "code",
   "execution_count": null,
   "id": "8ed7f8fe",
   "metadata": {},
   "outputs": [],
   "source": [
    "# Computing various classification evaluation metrics and presenting the classification report\n",
    "\n",
    "from sklearn import metrics\n",
    "from sklearn.metrics import confusion_matrix, classification_report\n",
    "\n",
    "train_score = metrics.accuracy_score(y_train, train_y_pred)   # Compute train accuracy\n",
    "test_score = metrics.accuracy_score(y_test, test_y_pred)      # Compute test accuracy\n",
    "train_report = classification_report(y_train, train_y_pred)   # Generate classification report for train data\n",
    "test_report = classification_report(y_test, test_y_pred)      # Generate classification report for test data\n",
    "\n",
    "print('Random Forest Train Classification Report: \\n\\n', train_report,'\\n\\n')\n",
    "print('Random Forest Test Classification Report: \\n\\n', test_report)"
   ]
  },
  {
   "cell_type": "markdown",
   "id": "20919b02",
   "metadata": {},
   "source": [
    "Random forest regressor performed better than decision trees interms of accuracy, F1 score, precision and recall on both the test and train data sets"
   ]
  },
  {
   "cell_type": "markdown",
   "id": "1b2eccd6",
   "metadata": {},
   "source": [
    "ii. Employ gradient boosting to construct a classifier for the same classification prob\u0002lem. Again try to come up with a more accurate classifier than those constructed earlier."
   ]
  },
  {
   "cell_type": "code",
   "execution_count": null,
   "id": "53dc6a79",
   "metadata": {},
   "outputs": [],
   "source": [
    "# Importing 'GradientBoostingRegressor'\n",
    "\n",
    "from sklearn.ensemble import GradientBoostingRegressor\n",
    "\n",
    "gb_reg = GradientBoostingRegressor()  # Instantiating GradientBoostingRegressor\n",
    "gb_reg.fit(X_train, y_train)          # Fitting the train data"
   ]
  },
  {
   "cell_type": "code",
   "execution_count": null,
   "id": "12854fb4",
   "metadata": {},
   "outputs": [],
   "source": [
    "# Finding the predictions of gradient boosting regressor for train and test subsets\n",
    "\n",
    "train_y_pred = gb_reg.predict(X_train)\n",
    "test_y_pred = gb_reg.predict(X_test)"
   ]
  },
  {
   "cell_type": "code",
   "execution_count": null,
   "id": "b1d22ae3",
   "metadata": {},
   "outputs": [],
   "source": [
    "from sklearn.ensemble import GradientBoostingClassifier\n",
    "from sklearn.model_selection import GridSearchCV\n",
    "\n",
    "# Define the hyperparameter search space\n",
    "params = {\n",
    "    'n_estimators': [10, 50, 100,1000],  # Number of boosting stages to perform\n",
    "    'learning_rate': [0.01, 0.1, 0.2],  # Learning rate for boosting\n",
    "    'max_depth': [None, 3,4,5,6,7,10,20],  # Maximum depth of the base estimator\n",
    "    'min_samples_split': [2, 3, 4],  # Minimum number of samples required to split an internal node\n",
    "    'min_samples_leaf': [1, 2, 4],  # Minimum number of samples required to be at a leaf node\n",
    "}\n",
    "\n",
    "# Create a Gradient Boosting Classifier\n",
    "gb_clf = GradientBoostingClassifier(random_state=3)\n",
    "\n",
    "# Perform grid search cross-validation\n",
    "grid_search_cv = GridSearchCV(gb_clf, params, verbose=1, cv=3)\n",
    "grid_search_cv.fit(X_train, y_train)\n"
   ]
  },
  {
   "cell_type": "code",
   "execution_count": null,
   "id": "e95ecb95",
   "metadata": {},
   "outputs": [],
   "source": [
    "# Displaying the best hyperparameters from 'params'\n",
    "\n",
    "grid_search_cv.best_estimator_\n",
    "# Retraining the tree classifier (this time with best hyperparameters found above)\n",
    "\n",
    "gb_clf = GradientBoostingClassifier(learning_rate=0.2, min_samples_leaf=2, n_estimators=10,random_state=3)\n",
    "gb_clf.fit(X_train, y_train)"
   ]
  },
  {
   "cell_type": "code",
   "execution_count": null,
   "id": "aaa22c25",
   "metadata": {},
   "outputs": [],
   "source": [
    "# Finding the predictions of tree classifier for train and test subsets\n",
    "\n",
    "train_y_pred = gb_clf.predict(X_train)\n",
    "test_y_pred = gb_clf.predict(X_test)"
   ]
  },
  {
   "cell_type": "code",
   "execution_count": null,
   "id": "5ba58bae",
   "metadata": {},
   "outputs": [],
   "source": [
    "train_score = metrics.accuracy_score(y_train, train_y_pred)   # Compute train accuracy\n",
    "test_score = metrics.accuracy_score(y_test, test_y_pred)      # Compute test accuracy\n",
    "train_report = classification_report(y_train, train_y_pred)   # Generate classification report for train data\n",
    "test_report = classification_report(y_test, test_y_pred)      # Generate classification report for test data\n",
    "\n",
    "print('Gradient Boosting Tree Train Classification Report: \\n\\n', train_report,'\\n\\n')\n",
    "print('Gradient Boosting Test Classification Report: \\n\\n', test_report)"
   ]
  },
  {
   "cell_type": "markdown",
   "id": "9d98e8b7",
   "metadata": {},
   "source": [
    "iii. One of the prominent ensemble learning methods is stacking. Recall, that in bag\u0002ging and boosting methods, the weak learners (i.e. building blocks) are all models\n",
    "of the same type. However, in stacking, one can combine the results of several\n",
    "different types of weak learners to fortify the predictions. For this purpose, one\n",
    "trains a simple model to find best way of stacking/combining the results of dif\u0002ferent weak learners. This useful ensemble method is already built in scikit-learn.\n",
    "Visit scikit-learn page https://scikit-learn.org/stable/modules/generated/\n",
    "sklearn.ensemble.StackingClassifier.html to learn about the implementation\n",
    "of the stacking method. Take three of your best classifiers you constructed in the\n",
    "previous parts and stack them through StackingClassifier (you’ll feed your best clas\u0002sifiers through the estimators parameter). Employ a simple logistic regression (for\n",
    "the choice of final estimator) to learn an optimal way of stacking your three best\n",
    "classifiers. How does stacking improve your results?"
   ]
  },
  {
   "cell_type": "code",
   "execution_count": null,
   "id": "306dad1e",
   "metadata": {},
   "outputs": [],
   "source": [
    "from sklearn.ensemble import StackingClassifier\n",
    "from sklearn.linear_model import LogisticRegression\n",
    "\n",
    "# Replace `clf1`, `clf2`, and `clf3` with your best classifiers from previous parts\n",
    "estimators = [('clf1', gb_clf), ('clf2', rf_clf), ('clf3', dt_clf)]\n",
    "\n",
    "# Create the stacking classifier with logistic regression as the final estimator\n",
    "stacking_clf = StackingClassifier(estimators=estimators, final_estimator=LogisticRegression())\n",
    "\n",
    "# Fit the stacking classifier to the training data\n",
    "stacking_clf.fit(X_train, y_train)\n",
    "\n",
    "# Predict on the test data\n",
    "y_pred = stacking_clf.predict(X_test)\n",
    "\n",
    "# Evaluate the performance of the stacking classifier\n",
    "r2_score = stacking_clf.score(X_test, y_test)  # Replace with the appropriate scoring metric for your regression problem\n",
    "\n",
    "print(\"R2 score for stacking classifier: \", r2_score)"
   ]
  },
  {
   "cell_type": "code",
   "execution_count": null,
   "id": "0d43aeb5",
   "metadata": {},
   "outputs": [],
   "source": [
    "# Finding the predictions of tree classifier for train and test subsets\n",
    "\n",
    "train_y_pred = stacking_clf.predict(X_train)\n",
    "test_y_pred = stacking_clf.predict(X_test)"
   ]
  },
  {
   "cell_type": "code",
   "execution_count": null,
   "id": "e45920f0",
   "metadata": {},
   "outputs": [],
   "source": [
    "train_score = metrics.accuracy_score(y_train, train_y_pred)   # Compute train accuracy\n",
    "test_score = metrics.accuracy_score(y_test, test_y_pred)      # Compute test accuracy\n",
    "train_report = classification_report(y_train, train_y_pred)   # Generate classification report for train data\n",
    "test_report = classification_report(y_test, test_y_pred)      # Generate classification report for test data\n",
    "\n",
    "print('Gradient Boosting Tree Train Classification Report: \\n\\n', train_report,'\\n\\n')\n",
    "print('Gradient Boosting Test Classification Report: \\n\\n', test_report)"
   ]
  },
  {
   "cell_type": "markdown",
   "id": "d7a8f693",
   "metadata": {},
   "source": [
    "After using the stacking classifer, by oberving the results we can say that it has giving mixed results of all the three decision tree, random forest and gradient boosting . It gives the better performance with respective to f1 score. "
   ]
  },
  {
   "cell_type": "markdown",
   "id": "5a00a003",
   "metadata": {},
   "source": [
    "(i) In this problem, if your focus is on the y = 1 class (i.e. delayed gate arrivals), which\n",
    "classifier among all classifiers you constructed in previous parts gives you the highest\n",
    "f1-score for this class?"
   ]
  },
  {
   "cell_type": "markdown",
   "id": "1a8f5091",
   "metadata": {},
   "source": [
    "If we focus only on y=1 class then gradient boosting classifier is the best as it is showing 84 percent f1 score."
   ]
  },
  {
   "cell_type": "markdown",
   "id": "d953737d",
   "metadata": {},
   "source": [
    "# 6. Ensemble Methods Applied to Regression Problems: Consider the same dataset\n",
    "(GateArrivalDelay.csv) in problem 4 of HW 1. Use one of the ensemble learning methods\n",
    "for regression (e.g. random forest regressor, gradient boosting regressor, extreme boosting re\u0002gressor) to construct a model whose accuracy (R2-score) beats the highest accuracy you could\n",
    "achieve in HW 1. Make sure that the model you construct in this problem is not suffering\n",
    "from a severe high variance problem."
   ]
  },
  {
   "cell_type": "code",
   "execution_count": 55,
   "id": "382fb748",
   "metadata": {},
   "outputs": [
    {
     "data": {
      "text/html": [
       "<div>\n",
       "<style scoped>\n",
       "    .dataframe tbody tr th:only-of-type {\n",
       "        vertical-align: middle;\n",
       "    }\n",
       "\n",
       "    .dataframe tbody tr th {\n",
       "        vertical-align: top;\n",
       "    }\n",
       "\n",
       "    .dataframe thead th {\n",
       "        text-align: right;\n",
       "    }\n",
       "</style>\n",
       "<table border=\"1\" class=\"dataframe\">\n",
       "  <thead>\n",
       "    <tr style=\"text-align: right;\">\n",
       "      <th></th>\n",
       "      <th>Date_Time</th>\n",
       "      <th>% On-TimeGateArrivals</th>\n",
       "      <th>AverageBlockDelay</th>\n",
       "      <th>AverageTaxiInDelay</th>\n",
       "      <th>AverageAirborneDelay</th>\n",
       "      <th>AverageAirportDepartureDelay</th>\n",
       "      <th>AverageGateDepartureDelay</th>\n",
       "      <th>AverageGateArrivalDelay</th>\n",
       "    </tr>\n",
       "  </thead>\n",
       "  <tbody>\n",
       "    <tr>\n",
       "      <th>0</th>\n",
       "      <td>2019-03-01 00:00:00</td>\n",
       "      <td>90.00</td>\n",
       "      <td>7.70</td>\n",
       "      <td>9.47</td>\n",
       "      <td>0.60</td>\n",
       "      <td>13.67</td>\n",
       "      <td>6.67</td>\n",
       "      <td>4.70</td>\n",
       "    </tr>\n",
       "    <tr>\n",
       "      <th>1</th>\n",
       "      <td>2019-03-02 00:00:00</td>\n",
       "      <td>72.73</td>\n",
       "      <td>0.91</td>\n",
       "      <td>2.55</td>\n",
       "      <td>0.00</td>\n",
       "      <td>13.17</td>\n",
       "      <td>5.33</td>\n",
       "      <td>14.73</td>\n",
       "    </tr>\n",
       "    <tr>\n",
       "      <th>2</th>\n",
       "      <td>2019-03-03 00:00:00</td>\n",
       "      <td>75.00</td>\n",
       "      <td>1.00</td>\n",
       "      <td>0.91</td>\n",
       "      <td>0.00</td>\n",
       "      <td>25.50</td>\n",
       "      <td>14.00</td>\n",
       "      <td>11.38</td>\n",
       "    </tr>\n",
       "    <tr>\n",
       "      <th>3</th>\n",
       "      <td>2019-03-04 00:00:00</td>\n",
       "      <td>83.33</td>\n",
       "      <td>1.50</td>\n",
       "      <td>1.13</td>\n",
       "      <td>3.00</td>\n",
       "      <td>26.75</td>\n",
       "      <td>17.50</td>\n",
       "      <td>7.08</td>\n",
       "    </tr>\n",
       "    <tr>\n",
       "      <th>4</th>\n",
       "      <td>2019-03-05 00:00:00</td>\n",
       "      <td>90.91</td>\n",
       "      <td>0.64</td>\n",
       "      <td>1.38</td>\n",
       "      <td>1.27</td>\n",
       "      <td>15.00</td>\n",
       "      <td>12.50</td>\n",
       "      <td>4.09</td>\n",
       "    </tr>\n",
       "  </tbody>\n",
       "</table>\n",
       "</div>"
      ],
      "text/plain": [
       "             Date_Time  % On-TimeGateArrivals  AverageBlockDelay  \\\n",
       "0  2019-03-01 00:00:00                  90.00               7.70   \n",
       "1  2019-03-02 00:00:00                  72.73               0.91   \n",
       "2  2019-03-03 00:00:00                  75.00               1.00   \n",
       "3  2019-03-04 00:00:00                  83.33               1.50   \n",
       "4  2019-03-05 00:00:00                  90.91               0.64   \n",
       "\n",
       "   AverageTaxiInDelay  AverageAirborneDelay  AverageAirportDepartureDelay  \\\n",
       "0                9.47                  0.60                         13.67   \n",
       "1                2.55                  0.00                         13.17   \n",
       "2                0.91                  0.00                         25.50   \n",
       "3                1.13                  3.00                         26.75   \n",
       "4                1.38                  1.27                         15.00   \n",
       "\n",
       "   AverageGateDepartureDelay  AverageGateArrivalDelay  \n",
       "0                       6.67                     4.70  \n",
       "1                       5.33                    14.73  \n",
       "2                      14.00                    11.38  \n",
       "3                      17.50                     7.08  \n",
       "4                      12.50                     4.09  "
      ]
     },
     "execution_count": 55,
     "metadata": {},
     "output_type": "execute_result"
    }
   ],
   "source": [
    "import numpy as np\n",
    "import pandas as pd\n",
    "import matplotlib.pyplot as plt\n",
    "%matplotlib inline\n",
    "# Loading the dataset\n",
    "\n",
    "gad_df = pd.read_csv('GateArrivalDelay.csv')     # Reading the csv source file as a dataframe\n",
    "gad_df.head()\n"
   ]
  },
  {
   "cell_type": "code",
   "execution_count": 56,
   "id": "45f3b9da",
   "metadata": {},
   "outputs": [],
   "source": [
    "X=gad_df[[ '% On-TimeGateArrivals', 'AverageBlockDelay']].values\n",
    "y=gad_df[['AverageGateArrivalDelay']]\n",
    "y=np.ravel(y)\n",
    "         \n",
    "# Breaking the data into train and test subsets\n",
    "\n",
    "from sklearn.model_selection import train_test_split\n",
    "\n",
    "X_train, X_test, y_train, y_test = train_test_split(X, y, test_size=0.25, random_state=3)"
   ]
  },
  {
   "cell_type": "code",
   "execution_count": 57,
   "id": "3d19b496",
   "metadata": {},
   "outputs": [
    {
     "name": "stdout",
     "output_type": "stream",
     "text": [
      "Requirement already satisfied: xgboost in c:\\users\\kakut\\anaconda\\lib\\site-packages (1.7.5)\n",
      "Requirement already satisfied: scipy in c:\\users\\kakut\\anaconda\\lib\\site-packages (from xgboost) (1.7.3)\n",
      "Requirement already satisfied: numpy in c:\\users\\kakut\\anaconda\\lib\\site-packages (from xgboost) (1.22.4)\n"
     ]
    }
   ],
   "source": [
    "# Importing 'xgboost'\n",
    "!pip install xgboost"
   ]
  },
  {
   "cell_type": "code",
   "execution_count": 58,
   "id": "8662f475",
   "metadata": {},
   "outputs": [
    {
     "data": {
      "text/plain": [
       "XGBRegressor(base_score=None, booster=None, callbacks=None,\n",
       "             colsample_bylevel=None, colsample_bynode=None,\n",
       "             colsample_bytree=None, early_stopping_rounds=None,\n",
       "             enable_categorical=False, eta=0.04, eval_metric=None,\n",
       "             feature_types=None, gamma=None, gpu_id=None, grow_policy=None,\n",
       "             importance_type=None, interaction_constraints=None,\n",
       "             learning_rate=None, max_bin=None, max_cat_threshold=None,\n",
       "             max_cat_to_onehot=None, max_delta_step=None, max_depth=6,\n",
       "             max_leaves=None, min_child_weight=None, missing=nan,\n",
       "             monotone_constraints=None, n_estimators=700, n_jobs=None,\n",
       "             num_parallel_tree=None, predictor=None, ...)"
      ]
     },
     "execution_count": 58,
     "metadata": {},
     "output_type": "execute_result"
    }
   ],
   "source": [
    "import xgboost as xgb \n",
    "\n",
    "# Instantiate 'XGBRegressor'\n",
    "#xgb_reg = xgb.XGBRegressor(n_estimators=700, max_depth=6, eta=0.01, subsample=0.8)  \n",
    "\n",
    "#xgb_reg = xgb.XGBRegressor(n_estimators=700, max_depth=6, eta=0.04, subsample=0.8, reg_alpha=0.01, reg_lambda=0.1)\n",
    "xgb_reg = xgb.XGBRegressor(n_estimators=700, max_depth=6, eta=0.04, subsample=0.6)\n",
    "\n",
    "\n",
    "\n",
    "xgb_reg.fit(X_train, y_train)  # Fitting the train data"
   ]
  },
  {
   "cell_type": "code",
   "execution_count": 59,
   "id": "97b40633",
   "metadata": {},
   "outputs": [],
   "source": [
    "# Finding the predictions of XGBoost regressor for train and test subsets\n",
    "\n",
    "train_y_pred = xgb_reg.predict(X_train)\n",
    "test_y_pred = xgb_reg.predict(X_test)"
   ]
  },
  {
   "cell_type": "code",
   "execution_count": 60,
   "id": "c5cf0226",
   "metadata": {},
   "outputs": [
    {
     "name": "stdout",
     "output_type": "stream",
     "text": [
      "R^2 score for train dataset =  0.9466 \n",
      "\n",
      "R^2 score for test dataset =  0.7263 \n",
      "\n"
     ]
    }
   ],
   "source": [
    "r2_train_score = xgb_reg.score(X_train, y_train)   # Calculating R^2 score for train\n",
    "r2_test_score = xgb_reg.score(X_test, y_test)      # Calculating R^2 score for test\n",
    "\n",
    "print('R^2 score for train dataset = ', round(r2_train_score, 4), '\\n')\n",
    "print('R^2 score for test dataset = ', round(r2_test_score, 4), '\\n')"
   ]
  },
  {
   "cell_type": "code",
   "execution_count": 61,
   "id": "fc455403",
   "metadata": {},
   "outputs": [
    {
     "data": {
      "text/plain": [
       "GradientBoostingRegressor()"
      ]
     },
     "execution_count": 61,
     "metadata": {},
     "output_type": "execute_result"
    }
   ],
   "source": [
    "# Importing 'GradientBoostingRegressor'\n",
    "\n",
    "from sklearn.ensemble import GradientBoostingRegressor\n",
    "\n",
    "gb_reg = GradientBoostingRegressor()  # Instantiating GradientBoostingRegressor\n",
    "gb_reg.fit(X_train, y_train)          # Fitting the train data"
   ]
  },
  {
   "cell_type": "code",
   "execution_count": 62,
   "id": "ce432893",
   "metadata": {},
   "outputs": [],
   "source": [
    "# Finding the predictions of XGBoost regressor for train and test subsets\n",
    "\n",
    "train_y_pred = gb_reg.predict(X_train)\n",
    "test_y_pred = gb_reg.predict(X_test)"
   ]
  },
  {
   "cell_type": "code",
   "execution_count": 63,
   "id": "22a97517",
   "metadata": {},
   "outputs": [
    {
     "name": "stdout",
     "output_type": "stream",
     "text": [
      "R^2 score for train dataset =  0.8919 \n",
      "\n",
      "R^2 score for test dataset =  0.764 \n",
      "\n"
     ]
    }
   ],
   "source": [
    "r2_train_score = gb_reg.score(X_train, y_train)   # Calculating R^2 score for train\n",
    "r2_test_score = gb_reg.score(X_test, y_test)      # Calculating R^2 score for test\n",
    "\n",
    "print('R^2 score for train dataset = ', round(r2_train_score, 4), '\\n')\n",
    "print('R^2 score for test dataset = ', round(r2_test_score, 4), '\\n')"
   ]
  },
  {
   "cell_type": "code",
   "execution_count": 64,
   "id": "e5329a2c",
   "metadata": {},
   "outputs": [],
   "source": [
    "X_train, X_test, y_train, y_test = train_test_split(X, y, test_size=0.2, random_state=3)"
   ]
  },
  {
   "cell_type": "code",
   "execution_count": 65,
   "id": "cca639a7",
   "metadata": {},
   "outputs": [],
   "source": [
    "from sklearn.ensemble import RandomForestRegressor\n",
    "from sklearn.metrics import r2_score"
   ]
  },
  {
   "cell_type": "code",
   "execution_count": 66,
   "id": "47a75515",
   "metadata": {},
   "outputs": [
    {
     "name": "stdout",
     "output_type": "stream",
     "text": [
      "R^2 score for train dataset: 0.8672\n",
      "R^2 score for test dataset: 0.8276\n"
     ]
    }
   ],
   "source": [
    "\n",
    "\n",
    "# Create an instance of RandomForestRegressor\n",
    "rf_regressor = RandomForestRegressor(min_samples_split=2,max_depth=5,n_estimators=4500,min_samples_leaf=1,random_state=3)\n",
    "\n",
    "rf_regressor.fit(X_train, y_train)\n",
    "\n",
    "# Predict on the train and test datasets\n",
    "y_train_pred = rf_regressor.predict(X_train)\n",
    "y_test_pred = rf_regressor.predict(X_test)\n",
    "\n",
    "# Calculate R^2 scores\n",
    "r2_train = r2_score(y_train, y_train_pred)\n",
    "r2_test = r2_score(y_test, y_test_pred)\n",
    "\n",
    "\n",
    "print(\"R^2 score for train dataset: {:.4f}\".format(r2_train))\n",
    "print(\"R^2 score for test dataset: {:.4f}\".format(r2_test))\n"
   ]
  },
  {
   "cell_type": "code",
   "execution_count": null,
   "id": "bd800b19",
   "metadata": {},
   "outputs": [],
   "source": []
  },
  {
   "cell_type": "markdown",
   "id": "8ded42fa",
   "metadata": {},
   "source": [
    "After carefully examing all the ensemble techniques I got the the above F1 scores scores. Random forest regressor shows the best result after analysing all the ensemble learning techniques"
   ]
  },
  {
   "cell_type": "markdown",
   "id": "27d27506",
   "metadata": {},
   "source": [
    "Reference \n",
    "1. course materials \n",
    "2.https://scikit-learn.org/stable/modules/generated/sklearn.ensemble.StackingClassifier.html"
   ]
  },
  {
   "cell_type": "code",
   "execution_count": null,
   "id": "aa2c66dc",
   "metadata": {},
   "outputs": [],
   "source": []
  }
 ],
 "metadata": {
  "kernelspec": {
   "display_name": "Python 3 (ipykernel)",
   "language": "python",
   "name": "python3"
  },
  "language_info": {
   "codemirror_mode": {
    "name": "ipython",
    "version": 3
   },
   "file_extension": ".py",
   "mimetype": "text/x-python",
   "name": "python",
   "nbconvert_exporter": "python",
   "pygments_lexer": "ipython3",
   "version": "3.10.9"
  }
 },
 "nbformat": 4,
 "nbformat_minor": 5
}
